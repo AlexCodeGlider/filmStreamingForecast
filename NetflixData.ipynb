{
 "cells": [
  {
   "cell_type": "code",
   "execution_count": 1,
   "metadata": {},
   "outputs": [],
   "source": [
    "import pandas as pd\n",
    "from matplotlib import pyplot as plt\n",
    "import numpy as np\n",
    "import scipy.stats as stats\n",
    "import seaborn as sns"
   ]
  },
  {
   "cell_type": "code",
   "execution_count": 2,
   "metadata": {},
   "outputs": [
    {
     "data": {
      "text/html": [
       "<div>\n",
       "<style scoped>\n",
       "    .dataframe tbody tr th:only-of-type {\n",
       "        vertical-align: middle;\n",
       "    }\n",
       "\n",
       "    .dataframe tbody tr th {\n",
       "        vertical-align: top;\n",
       "    }\n",
       "\n",
       "    .dataframe thead th {\n",
       "        text-align: right;\n",
       "    }\n",
       "</style>\n",
       "<table border=\"1\" class=\"dataframe\">\n",
       "  <thead>\n",
       "    <tr style=\"text-align: right;\">\n",
       "      <th></th>\n",
       "      <th>Title</th>\n",
       "      <th>Available Globally?</th>\n",
       "      <th>Release Date</th>\n",
       "      <th>Hours Viewed</th>\n",
       "    </tr>\n",
       "  </thead>\n",
       "  <tbody>\n",
       "    <tr>\n",
       "      <th>0</th>\n",
       "      <td>The Night Agent: Season 1</td>\n",
       "      <td>Yes</td>\n",
       "      <td>2023-03-23</td>\n",
       "      <td>812100000</td>\n",
       "    </tr>\n",
       "    <tr>\n",
       "      <th>1</th>\n",
       "      <td>Ginny &amp; Georgia: Season 2</td>\n",
       "      <td>Yes</td>\n",
       "      <td>2023-01-05</td>\n",
       "      <td>665100000</td>\n",
       "    </tr>\n",
       "    <tr>\n",
       "      <th>2</th>\n",
       "      <td>The Glory: Season 1 // 더 글로리: 시즌 1</td>\n",
       "      <td>Yes</td>\n",
       "      <td>2022-12-30</td>\n",
       "      <td>622800000</td>\n",
       "    </tr>\n",
       "    <tr>\n",
       "      <th>3</th>\n",
       "      <td>Wednesday: Season 1</td>\n",
       "      <td>Yes</td>\n",
       "      <td>2022-11-23</td>\n",
       "      <td>507700000</td>\n",
       "    </tr>\n",
       "    <tr>\n",
       "      <th>4</th>\n",
       "      <td>Queen Charlotte: A Bridgerton Story</td>\n",
       "      <td>Yes</td>\n",
       "      <td>2023-05-04</td>\n",
       "      <td>503000000</td>\n",
       "    </tr>\n",
       "  </tbody>\n",
       "</table>\n",
       "</div>"
      ],
      "text/plain": [
       "                                 Title Available Globally? Release Date  \\\n",
       "0            The Night Agent: Season 1                 Yes   2023-03-23   \n",
       "1            Ginny & Georgia: Season 2                 Yes   2023-01-05   \n",
       "2   The Glory: Season 1 // 더 글로리: 시즌 1                 Yes   2022-12-30   \n",
       "3                  Wednesday: Season 1                 Yes   2022-11-23   \n",
       "4  Queen Charlotte: A Bridgerton Story                 Yes   2023-05-04   \n",
       "\n",
       "   Hours Viewed  \n",
       "0     812100000  \n",
       "1     665100000  \n",
       "2     622800000  \n",
       "3     507700000  \n",
       "4     503000000  "
      ]
     },
     "execution_count": 2,
     "metadata": {},
     "output_type": "execute_result"
    }
   ],
   "source": [
    "# Read 'data/What_We_Watched_A_Netflix_Engagement_Report_2023Jan-Jun.xlsx' into a DataFrame: netflix\n",
    "netflix = pd.read_excel('data/What_We_Watched_A_Netflix_Engagement_Report_2023Jan-Jun.xlsx', header=5, usecols='B:E')\n",
    "netflix.head()"
   ]
  },
  {
   "cell_type": "code",
   "execution_count": 3,
   "metadata": {},
   "outputs": [
    {
     "data": {
      "text/html": [
       "<div>\n",
       "<style scoped>\n",
       "    .dataframe tbody tr th:only-of-type {\n",
       "        vertical-align: middle;\n",
       "    }\n",
       "\n",
       "    .dataframe tbody tr th {\n",
       "        vertical-align: top;\n",
       "    }\n",
       "\n",
       "    .dataframe thead th {\n",
       "        text-align: right;\n",
       "    }\n",
       "</style>\n",
       "<table border=\"1\" class=\"dataframe\">\n",
       "  <thead>\n",
       "    <tr style=\"text-align: right;\">\n",
       "      <th></th>\n",
       "      <th>Title</th>\n",
       "      <th>Available Globally?</th>\n",
       "      <th>Release Date</th>\n",
       "      <th>Hours Viewed</th>\n",
       "    </tr>\n",
       "  </thead>\n",
       "  <tbody>\n",
       "    <tr>\n",
       "      <th>18209</th>\n",
       "      <td>راس السنة</td>\n",
       "      <td>No</td>\n",
       "      <td>NaT</td>\n",
       "      <td>100000</td>\n",
       "    </tr>\n",
       "    <tr>\n",
       "      <th>18210</th>\n",
       "      <td>心が叫びたがってるんだ。</td>\n",
       "      <td>No</td>\n",
       "      <td>NaT</td>\n",
       "      <td>100000</td>\n",
       "    </tr>\n",
       "    <tr>\n",
       "      <th>18211</th>\n",
       "      <td>두근두근 내 인생</td>\n",
       "      <td>No</td>\n",
       "      <td>NaT</td>\n",
       "      <td>100000</td>\n",
       "    </tr>\n",
       "    <tr>\n",
       "      <th>18212</th>\n",
       "      <td>라디오 스타</td>\n",
       "      <td>No</td>\n",
       "      <td>NaT</td>\n",
       "      <td>100000</td>\n",
       "    </tr>\n",
       "    <tr>\n",
       "      <th>18213</th>\n",
       "      <td>선생 김봉두</td>\n",
       "      <td>No</td>\n",
       "      <td>NaT</td>\n",
       "      <td>100000</td>\n",
       "    </tr>\n",
       "  </tbody>\n",
       "</table>\n",
       "</div>"
      ],
      "text/plain": [
       "              Title Available Globally? Release Date  Hours Viewed\n",
       "18209     راس السنة                  No          NaT        100000\n",
       "18210  心が叫びたがってるんだ。                  No          NaT        100000\n",
       "18211     두근두근 내 인생                  No          NaT        100000\n",
       "18212        라디오 스타                  No          NaT        100000\n",
       "18213        선생 김봉두                  No          NaT        100000"
      ]
     },
     "execution_count": 3,
     "metadata": {},
     "output_type": "execute_result"
    }
   ],
   "source": [
    "netflix.tail()"
   ]
  },
  {
   "cell_type": "code",
   "execution_count": 4,
   "metadata": {},
   "outputs": [
    {
     "data": {
      "image/png": "[encoded data removed]",
      "text/plain": [
       "<Figure size 640x480 with 1 Axes>"
      ]
     },
     "metadata": {},
     "output_type": "display_data"
    }
   ],
   "source": [
    "# Create a histogram of the 'Hours Viewed' column\n",
    "netflix['Hours Viewed'].iloc[:100].plot(kind='hist')\n",
    "\n",
    "# Show the plot\n",
    "plt.show()"
   ]
  },
  {
   "cell_type": "code",
   "execution_count": 5,
   "metadata": {},
   "outputs": [],
   "source": [
    "# Fit the log-normal distribution to the data\n",
    "shape, loc, scale = stats.lognorm.fit(netflix['Hours Viewed'], floc=0)\n",
    "\n",
    "# Generate a log-normal distribution with the fitted parameters\n",
    "fitted_distribution = stats.lognorm(shape, loc, scale)"
   ]
  },
  {
   "cell_type": "code",
   "execution_count": 6,
   "metadata": {},
   "outputs": [],
   "source": [
    "# Calculate the Sum of Squared Errors (SSE) between the observed data and the fitted distribution\n",
    "observed_frequencies, bin_edges = np.histogram(netflix['Hours Viewed'], bins=30, density=True)\n",
    "bin_centers = (bin_edges[:-1] + bin_edges[1:]) / 2\n",
    "expected_frequencies = fitted_distribution.pdf(bin_centers)\n",
    "\n",
    "sse = np.sum((observed_frequencies - expected_frequencies) ** 2)"
   ]
  },
  {
   "cell_type": "code",
   "execution_count": 7,
   "metadata": {},
   "outputs": [
    {
     "name": "stdout",
     "output_type": "stream",
     "text": [
      "The Sum of Squared Errors (SSE) test, when applied to compare the observed Hours Viewed data with a fitted Log-Normal distribution, results in an SSE value of approximately  9.177635477248848e-16\n"
     ]
    }
   ],
   "source": [
    "print(\"The Sum of Squared Errors (SSE) test, when applied to compare the observed Hours Viewed data with a fitted Log-Normal distribution, results in an SSE value of approximately \", sse)"
   ]
  },
  {
   "cell_type": "markdown",
   "metadata": {},
   "source": [
    "This very small SSE value suggests a good fit of the Log-Normal distribution to the data."
   ]
  },
  {
   "cell_type": "code",
   "execution_count": 8,
   "metadata": {},
   "outputs": [
    {
     "data": {
      "image/png": "[encoded data removed]",
      "text/plain": [
       "<Figure size 1200x800 with 1 Axes>"
      ]
     },
     "metadata": {},
     "output_type": "display_data"
    }
   ],
   "source": [
    "# To improve the visualization, we can use a logarithmic scale for the x-axis\n",
    "# This will help in better visualizing the distribution of data over a wide range of values\n",
    "\n",
    "plt.figure(figsize=(12, 8))\n",
    "\n",
    "# Creating the histogram for the observed data with a log scale\n",
    "sns.histplot(netflix['Hours Viewed'], bins=30, kde=False, stat=\"density\", color=\"blue\", log_scale=True, label=\"Observed Data\")\n",
    "\n",
    "# Adding labels, title and setting the x-axis to log scale\n",
    "plt.xscale('log')\n",
    "plt.xlabel('Hours Viewed (Log Scale)')\n",
    "plt.ylabel('Density')\n",
    "plt.title('Comparison of Hours Viewed with Fitted Log-Normal Distribution (Log Scale)')\n",
    "plt.legend()\n",
    "\n",
    "# Show the plot\n",
    "plt.show()\n"
   ]
  },
  {
   "cell_type": "code",
   "execution_count": 9,
   "metadata": {},
   "outputs": [
    {
     "data": {
      "image/png": "[encoded data removed]",
      "text/plain": [
       "<Figure size 1200x800 with 1 Axes>"
      ]
     },
     "metadata": {},
     "output_type": "display_data"
    }
   ],
   "source": [
    "plt.figure(figsize=(12, 8))\n",
    "\n",
    "# Plotting the fitted Log-Normal distribution on a log scale\n",
    "log_space = np.logspace(np.log10(min(netflix['Hours Viewed'])), np.log10(max(netflix['Hours Viewed'])), base=10, num=100)\n",
    "pdf_log = fitted_distribution.pdf(log_space)\n",
    "plt.plot(log_space, pdf_log, 'r', label=\"Fitted Log-Normal Distribution\")\n",
    "# Adding labels, title and setting the x-axis to log scale\n",
    "plt.xscale('log')\n",
    "plt.xlabel('Hours Viewed (Log Scale)')\n",
    "plt.ylabel('Density')\n",
    "plt.title('Comparison of Hours Viewed with Fitted Log-Normal Distribution (Log Scale)')\n",
    "plt.legend()\n",
    "\n",
    "# Show the plot\n",
    "plt.show()\n"
   ]
  },
  {
   "cell_type": "code",
   "execution_count": 10,
   "metadata": {},
   "outputs": [
    {
     "data": {
      "text/plain": [
       "4473661.235904143"
      ]
     },
     "execution_count": 10,
     "metadata": {},
     "output_type": "execute_result"
    }
   ],
   "source": [
    "# Calculating the mean of the log-normal distribution using the fitted parameters\n",
    "\n",
    "# The mean of the log-normal distribution is given by e^(mu_ln + sigma_ln^2 / 2)\n",
    "# where mu_ln and sigma_ln are the parameters of the underlying normal distribution\n",
    "# In our case, shape parameter is sigma_ln and scale parameter is e^mu_ln in the log-normal distribution\n",
    "\n",
    "mu_ln = np.log(scale)  # since scale = e^mu_ln\n",
    "sigma_ln = shape\n",
    "\n",
    "mean_log_normal = np.exp(mu_ln + (sigma_ln ** 2) / 2)\n",
    "mean_log_normal\n"
   ]
  },
  {
   "cell_type": "code",
   "execution_count": 11,
   "metadata": {},
   "outputs": [
    {
     "data": {
      "text/plain": [
       "5130954.211046448"
      ]
     },
     "execution_count": 11,
     "metadata": {},
     "output_type": "execute_result"
    }
   ],
   "source": [
    "netflix['Hours Viewed'].mean()"
   ]
  },
  {
   "cell_type": "code",
   "execution_count": 12,
   "metadata": {},
   "outputs": [
    {
     "name": "stdout",
     "output_type": "stream",
     "text": [
      "<class 'pandas.core.frame.DataFrame'>\n",
      "Index: 13700 entries, 6 to 18213\n",
      "Data columns (total 4 columns):\n",
      " #   Column               Non-Null Count  Dtype         \n",
      "---  ------               --------------  -----         \n",
      " 0   Title                13700 non-null  object        \n",
      " 1   Available Globally?  13700 non-null  object        \n",
      " 2   Release Date         940 non-null    datetime64[ns]\n",
      " 3   Hours Viewed         13700 non-null  int64         \n",
      "dtypes: datetime64[ns](1), int64(1), object(2)\n",
      "memory usage: 535.2+ KB\n"
     ]
    }
   ],
   "source": [
    "netflix[netflix['Available Globally?'] == 'No'].info()"
   ]
  },
  {
   "cell_type": "code",
   "execution_count": 13,
   "metadata": {},
   "outputs": [
    {
     "name": "stdout",
     "output_type": "stream",
     "text": [
      "The Sum of Squared Errors (SSE) test, when applied to compare the observed Hours Viewed data with a fitted Log-Normal distribution, results in an SSE value of approximately  2.989728706262658e-15\n"
     ]
    }
   ],
   "source": [
    "hours_viewed_non_global = netflix[netflix['Available Globally?'] == 'No']['Hours Viewed']\n",
    "\n",
    "# Fit the log-normal distribution to the data\n",
    "shape, loc, scale = stats.lognorm.fit(hours_viewed_non_global, floc=0)\n",
    "\n",
    "# Generate a log-normal distribution with the fitted parameters\n",
    "fitted_distribution = stats.lognorm(shape, loc, scale)\n",
    "\n",
    "# Calculate the Sum of Squared Errors (SSE) between the observed data and the fitted distribution\n",
    "observed_frequencies, bin_edges = np.histogram(hours_viewed_non_global, bins=30, density=True)\n",
    "bin_centers = (bin_edges[:-1] + bin_edges[1:]) / 2\n",
    "expected_frequencies = fitted_distribution.pdf(bin_centers)\n",
    "\n",
    "sse = np.sum((observed_frequencies - expected_frequencies) ** 2)\n",
    "\n",
    "print(\"The Sum of Squared Errors (SSE) test, when applied to compare the observed Hours Viewed data with a fitted Log-Normal distribution, results in an SSE value of approximately \", sse)"
   ]
  },
  {
   "cell_type": "code",
   "execution_count": 14,
   "metadata": {},
   "outputs": [
    {
     "data": {
      "image/png": "[encoded data removed]",
      "text/plain": [
       "<Figure size 1200x800 with 1 Axes>"
      ]
     },
     "metadata": {},
     "output_type": "display_data"
    }
   ],
   "source": [
    "# To improve the visualization, we can use a logarithmic scale for the x-axis\n",
    "# This will help in better visualizing the distribution of data over a wide range of values\n",
    "\n",
    "plt.figure(figsize=(12, 8))\n",
    "\n",
    "# Creating the histogram for the observed data with a log scale\n",
    "sns.histplot(hours_viewed_non_global, bins=30, kde=False, stat=\"density\", color=\"blue\", log_scale=True, label=\"Observed Data\")\n",
    "\n",
    "# Adding labels, title and setting the x-axis to log scale\n",
    "plt.xscale('log')\n",
    "plt.xlabel('Hours Viewed (Log Scale)')\n",
    "plt.ylabel('Density')\n",
    "plt.title('Comparison of Hours Viewed with Fitted Log-Normal Distribution (Log Scale)')\n",
    "plt.legend()\n",
    "\n",
    "# Show the plot\n",
    "plt.show()\n"
   ]
  },
  {
   "cell_type": "code",
   "execution_count": 15,
   "metadata": {},
   "outputs": [
    {
     "data": {
      "text/plain": [
       "2610237.1573635084"
      ]
     },
     "execution_count": 15,
     "metadata": {},
     "output_type": "execute_result"
    }
   ],
   "source": [
    "# Calculating the mean of the log-normal distribution using the fitted parameters\n",
    "\n",
    "# The mean of the log-normal distribution is given by e^(mu_ln + sigma_ln^2 / 2)\n",
    "# where mu_ln and sigma_ln are the parameters of the underlying normal distribution\n",
    "# In our case, shape parameter is sigma_ln and scale parameter is e^mu_ln in the log-normal distribution\n",
    "\n",
    "mu_ln = np.log(scale)  # since scale = e^mu_ln\n",
    "sigma_ln = shape\n",
    "\n",
    "mean_log_normal = np.exp(mu_ln + (sigma_ln ** 2) / 2)\n",
    "mean_log_normal"
   ]
  },
  {
   "cell_type": "code",
   "execution_count": 16,
   "metadata": {},
   "outputs": [
    {
     "name": "stderr",
     "output_type": "stream",
     "text": [
      "/var/folders/8y/0ldkfh015gjc7lvpvxd7pr380000gn/T/ipykernel_71767/4015402496.py:2: DtypeWarning: Columns (4) have mixed types. Specify dtype option on import or set low_memory=False.\n",
      "  imdb_title_basics = pd.read_csv('data/imdb/title.basics.tsv', sep='\\t')\n"
     ]
    },
    {
     "data": {
      "text/html": [
       "<div>\n",
       "<style scoped>\n",
       "    .dataframe tbody tr th:only-of-type {\n",
       "        vertical-align: middle;\n",
       "    }\n",
       "\n",
       "    .dataframe tbody tr th {\n",
       "        vertical-align: top;\n",
       "    }\n",
       "\n",
       "    .dataframe thead th {\n",
       "        text-align: right;\n",
       "    }\n",
       "</style>\n",
       "<table border=\"1\" class=\"dataframe\">\n",
       "  <thead>\n",
       "    <tr style=\"text-align: right;\">\n",
       "      <th></th>\n",
       "      <th>tconst</th>\n",
       "      <th>titleType</th>\n",
       "      <th>primaryTitle</th>\n",
       "      <th>originalTitle</th>\n",
       "      <th>isAdult</th>\n",
       "      <th>startYear</th>\n",
       "      <th>endYear</th>\n",
       "      <th>runtimeMinutes</th>\n",
       "      <th>genres</th>\n",
       "    </tr>\n",
       "  </thead>\n",
       "  <tbody>\n",
       "    <tr>\n",
       "      <th>0</th>\n",
       "      <td>tt0000001</td>\n",
       "      <td>short</td>\n",
       "      <td>Carmencita</td>\n",
       "      <td>Carmencita</td>\n",
       "      <td>0</td>\n",
       "      <td>1894</td>\n",
       "      <td>\\N</td>\n",
       "      <td>1</td>\n",
       "      <td>Documentary,Short</td>\n",
       "    </tr>\n",
       "    <tr>\n",
       "      <th>1</th>\n",
       "      <td>tt0000002</td>\n",
       "      <td>short</td>\n",
       "      <td>Le clown et ses chiens</td>\n",
       "      <td>Le clown et ses chiens</td>\n",
       "      <td>0</td>\n",
       "      <td>1892</td>\n",
       "      <td>\\N</td>\n",
       "      <td>5</td>\n",
       "      <td>Animation,Short</td>\n",
       "    </tr>\n",
       "    <tr>\n",
       "      <th>2</th>\n",
       "      <td>tt0000003</td>\n",
       "      <td>short</td>\n",
       "      <td>Pauvre Pierrot</td>\n",
       "      <td>Pauvre Pierrot</td>\n",
       "      <td>0</td>\n",
       "      <td>1892</td>\n",
       "      <td>\\N</td>\n",
       "      <td>4</td>\n",
       "      <td>Animation,Comedy,Romance</td>\n",
       "    </tr>\n",
       "    <tr>\n",
       "      <th>3</th>\n",
       "      <td>tt0000004</td>\n",
       "      <td>short</td>\n",
       "      <td>Un bon bock</td>\n",
       "      <td>Un bon bock</td>\n",
       "      <td>0</td>\n",
       "      <td>1892</td>\n",
       "      <td>\\N</td>\n",
       "      <td>12</td>\n",
       "      <td>Animation,Short</td>\n",
       "    </tr>\n",
       "    <tr>\n",
       "      <th>4</th>\n",
       "      <td>tt0000005</td>\n",
       "      <td>short</td>\n",
       "      <td>Blacksmith Scene</td>\n",
       "      <td>Blacksmith Scene</td>\n",
       "      <td>0</td>\n",
       "      <td>1893</td>\n",
       "      <td>\\N</td>\n",
       "      <td>1</td>\n",
       "      <td>Comedy,Short</td>\n",
       "    </tr>\n",
       "  </tbody>\n",
       "</table>\n",
       "</div>"
      ],
      "text/plain": [
       "      tconst titleType            primaryTitle           originalTitle  \\\n",
       "0  tt0000001     short              Carmencita              Carmencita   \n",
       "1  tt0000002     short  Le clown et ses chiens  Le clown et ses chiens   \n",
       "2  tt0000003     short          Pauvre Pierrot          Pauvre Pierrot   \n",
       "3  tt0000004     short             Un bon bock             Un bon bock   \n",
       "4  tt0000005     short        Blacksmith Scene        Blacksmith Scene   \n",
       "\n",
       "  isAdult startYear endYear runtimeMinutes                    genres  \n",
       "0       0      1894      \\N              1         Documentary,Short  \n",
       "1       0      1892      \\N              5           Animation,Short  \n",
       "2       0      1892      \\N              4  Animation,Comedy,Romance  \n",
       "3       0      1892      \\N             12           Animation,Short  \n",
       "4       0      1893      \\N              1              Comedy,Short  "
      ]
     },
     "execution_count": 16,
     "metadata": {},
     "output_type": "execute_result"
    }
   ],
   "source": [
    "# Read the tab separated file 'data/imdb/title.basics.tsv' into a DataFrame: imdb_title_basics\n",
    "imdb_title_basics = pd.read_csv('data/imdb/title.basics.tsv', sep='\\t')\n",
    "\n",
    "# Print the first five rows of imdb_title_basics\n",
    "imdb_title_basics.head()"
   ]
  },
  {
   "cell_type": "code",
   "execution_count": 17,
   "metadata": {},
   "outputs": [
    {
     "data": {
      "text/html": [
       "<div>\n",
       "<style scoped>\n",
       "    .dataframe tbody tr th:only-of-type {\n",
       "        vertical-align: middle;\n",
       "    }\n",
       "\n",
       "    .dataframe tbody tr th {\n",
       "        vertical-align: top;\n",
       "    }\n",
       "\n",
       "    .dataframe thead th {\n",
       "        text-align: right;\n",
       "    }\n",
       "</style>\n",
       "<table border=\"1\" class=\"dataframe\">\n",
       "  <thead>\n",
       "    <tr style=\"text-align: right;\">\n",
       "      <th></th>\n",
       "      <th>Title</th>\n",
       "      <th>Available Globally?</th>\n",
       "      <th>Release Date</th>\n",
       "      <th>Hours Viewed</th>\n",
       "      <th>tconst</th>\n",
       "      <th>titleType</th>\n",
       "      <th>primaryTitle</th>\n",
       "      <th>originalTitle</th>\n",
       "      <th>isAdult</th>\n",
       "      <th>startYear</th>\n",
       "      <th>endYear</th>\n",
       "      <th>runtimeMinutes</th>\n",
       "      <th>genres</th>\n",
       "    </tr>\n",
       "  </thead>\n",
       "  <tbody>\n",
       "    <tr>\n",
       "      <th>0</th>\n",
       "      <td>The Night Agent: Season 1</td>\n",
       "      <td>Yes</td>\n",
       "      <td>2023-03-23</td>\n",
       "      <td>812100000</td>\n",
       "      <td>NaN</td>\n",
       "      <td>NaN</td>\n",
       "      <td>NaN</td>\n",
       "      <td>NaN</td>\n",
       "      <td>NaN</td>\n",
       "      <td>NaN</td>\n",
       "      <td>NaN</td>\n",
       "      <td>NaN</td>\n",
       "      <td>NaN</td>\n",
       "    </tr>\n",
       "    <tr>\n",
       "      <th>1</th>\n",
       "      <td>Ginny &amp; Georgia: Season 2</td>\n",
       "      <td>Yes</td>\n",
       "      <td>2023-01-05</td>\n",
       "      <td>665100000</td>\n",
       "      <td>NaN</td>\n",
       "      <td>NaN</td>\n",
       "      <td>NaN</td>\n",
       "      <td>NaN</td>\n",
       "      <td>NaN</td>\n",
       "      <td>NaN</td>\n",
       "      <td>NaN</td>\n",
       "      <td>NaN</td>\n",
       "      <td>NaN</td>\n",
       "    </tr>\n",
       "    <tr>\n",
       "      <th>2</th>\n",
       "      <td>The Glory: Season 1 // 더 글로리: 시즌 1</td>\n",
       "      <td>Yes</td>\n",
       "      <td>2022-12-30</td>\n",
       "      <td>622800000</td>\n",
       "      <td>NaN</td>\n",
       "      <td>NaN</td>\n",
       "      <td>NaN</td>\n",
       "      <td>NaN</td>\n",
       "      <td>NaN</td>\n",
       "      <td>NaN</td>\n",
       "      <td>NaN</td>\n",
       "      <td>NaN</td>\n",
       "      <td>NaN</td>\n",
       "    </tr>\n",
       "    <tr>\n",
       "      <th>3</th>\n",
       "      <td>Wednesday: Season 1</td>\n",
       "      <td>Yes</td>\n",
       "      <td>2022-11-23</td>\n",
       "      <td>507700000</td>\n",
       "      <td>NaN</td>\n",
       "      <td>NaN</td>\n",
       "      <td>NaN</td>\n",
       "      <td>NaN</td>\n",
       "      <td>NaN</td>\n",
       "      <td>NaN</td>\n",
       "      <td>NaN</td>\n",
       "      <td>NaN</td>\n",
       "      <td>NaN</td>\n",
       "    </tr>\n",
       "    <tr>\n",
       "      <th>4</th>\n",
       "      <td>Queen Charlotte: A Bridgerton Story</td>\n",
       "      <td>Yes</td>\n",
       "      <td>2023-05-04</td>\n",
       "      <td>503000000</td>\n",
       "      <td>tt14661396</td>\n",
       "      <td>tvMiniSeries</td>\n",
       "      <td>Queen Charlotte: A Bridgerton Story</td>\n",
       "      <td>Queen Charlotte: A Bridgerton Story</td>\n",
       "      <td>0</td>\n",
       "      <td>2023</td>\n",
       "      <td>2023</td>\n",
       "      <td>347</td>\n",
       "      <td>Drama,History,Romance</td>\n",
       "    </tr>\n",
       "  </tbody>\n",
       "</table>\n",
       "</div>"
      ],
      "text/plain": [
       "                                 Title Available Globally? Release Date  \\\n",
       "0            The Night Agent: Season 1                 Yes   2023-03-23   \n",
       "1            Ginny & Georgia: Season 2                 Yes   2023-01-05   \n",
       "2   The Glory: Season 1 // 더 글로리: 시즌 1                 Yes   2022-12-30   \n",
       "3                  Wednesday: Season 1                 Yes   2022-11-23   \n",
       "4  Queen Charlotte: A Bridgerton Story                 Yes   2023-05-04   \n",
       "\n",
       "   Hours Viewed      tconst     titleType  \\\n",
       "0     812100000         NaN           NaN   \n",
       "1     665100000         NaN           NaN   \n",
       "2     622800000         NaN           NaN   \n",
       "3     507700000         NaN           NaN   \n",
       "4     503000000  tt14661396  tvMiniSeries   \n",
       "\n",
       "                          primaryTitle                        originalTitle  \\\n",
       "0                                  NaN                                  NaN   \n",
       "1                                  NaN                                  NaN   \n",
       "2                                  NaN                                  NaN   \n",
       "3                                  NaN                                  NaN   \n",
       "4  Queen Charlotte: A Bridgerton Story  Queen Charlotte: A Bridgerton Story   \n",
       "\n",
       "  isAdult startYear endYear runtimeMinutes                 genres  \n",
       "0     NaN       NaN     NaN            NaN                    NaN  \n",
       "1     NaN       NaN     NaN            NaN                    NaN  \n",
       "2     NaN       NaN     NaN            NaN                    NaN  \n",
       "3     NaN       NaN     NaN            NaN                    NaN  \n",
       "4       0      2023    2023            347  Drama,History,Romance  "
      ]
     },
     "execution_count": 17,
     "metadata": {},
     "output_type": "execute_result"
    }
   ],
   "source": [
    "# Perform an left join on the netflix and imdb_title_basics DataFrames using the netflix 'Title' column and the 'originalTitle' column of imdb_title_basics\n",
    "netflix_imdb = netflix.merge(imdb_title_basics, left_on='Title', right_on='primaryTitle', how='left')\n",
    "\n",
    "# Print the first five rows of netflix_imdb\n",
    "netflix_imdb.head()\n"
   ]
  },
  {
   "cell_type": "code",
   "execution_count": 18,
   "metadata": {},
   "outputs": [
    {
     "name": "stdout",
     "output_type": "stream",
     "text": [
      "<class 'pandas.core.frame.DataFrame'>\n",
      "RangeIndex: 42069 entries, 0 to 42068\n",
      "Data columns (total 13 columns):\n",
      " #   Column               Non-Null Count  Dtype         \n",
      "---  ------               --------------  -----         \n",
      " 0   Title                42069 non-null  object        \n",
      " 1   Available Globally?  42069 non-null  object        \n",
      " 2   Release Date         14431 non-null  datetime64[ns]\n",
      " 3   Hours Viewed         42069 non-null  int64         \n",
      " 4   tconst               28680 non-null  object        \n",
      " 5   titleType            28680 non-null  object        \n",
      " 6   primaryTitle         28680 non-null  object        \n",
      " 7   originalTitle        28680 non-null  object        \n",
      " 8   isAdult              28680 non-null  object        \n",
      " 9   startYear            28680 non-null  object        \n",
      " 10  endYear              28680 non-null  object        \n",
      " 11  runtimeMinutes       28680 non-null  object        \n",
      " 12  genres               28680 non-null  object        \n",
      "dtypes: datetime64[ns](1), int64(1), object(11)\n",
      "memory usage: 4.2+ MB\n"
     ]
    }
   ],
   "source": [
    "netflix_imdb.info()"
   ]
  },
  {
   "cell_type": "code",
   "execution_count": 19,
   "metadata": {},
   "outputs": [
    {
     "data": {
      "text/html": [
       "<div>\n",
       "<style scoped>\n",
       "    .dataframe tbody tr th:only-of-type {\n",
       "        vertical-align: middle;\n",
       "    }\n",
       "\n",
       "    .dataframe tbody tr th {\n",
       "        vertical-align: top;\n",
       "    }\n",
       "\n",
       "    .dataframe thead th {\n",
       "        text-align: right;\n",
       "    }\n",
       "</style>\n",
       "<table border=\"1\" class=\"dataframe\">\n",
       "  <thead>\n",
       "    <tr style=\"text-align: right;\">\n",
       "      <th></th>\n",
       "      <th>Title</th>\n",
       "      <th>Available Globally?</th>\n",
       "      <th>Release Date</th>\n",
       "      <th>Hours Viewed</th>\n",
       "      <th>tconst</th>\n",
       "      <th>titleType</th>\n",
       "      <th>primaryTitle</th>\n",
       "      <th>originalTitle</th>\n",
       "      <th>isAdult</th>\n",
       "      <th>startYear</th>\n",
       "      <th>endYear</th>\n",
       "      <th>runtimeMinutes</th>\n",
       "      <th>genres</th>\n",
       "    </tr>\n",
       "  </thead>\n",
       "  <tbody>\n",
       "    <tr>\n",
       "      <th>0</th>\n",
       "      <td>The Night Agent: Season 1</td>\n",
       "      <td>Yes</td>\n",
       "      <td>2023-03-23</td>\n",
       "      <td>812100000</td>\n",
       "      <td>NaN</td>\n",
       "      <td>NaN</td>\n",
       "      <td>NaN</td>\n",
       "      <td>NaN</td>\n",
       "      <td>NaN</td>\n",
       "      <td>NaN</td>\n",
       "      <td>NaN</td>\n",
       "      <td>NaN</td>\n",
       "      <td>NaN</td>\n",
       "    </tr>\n",
       "    <tr>\n",
       "      <th>1</th>\n",
       "      <td>Ginny &amp; Georgia: Season 2</td>\n",
       "      <td>Yes</td>\n",
       "      <td>2023-01-05</td>\n",
       "      <td>665100000</td>\n",
       "      <td>NaN</td>\n",
       "      <td>NaN</td>\n",
       "      <td>NaN</td>\n",
       "      <td>NaN</td>\n",
       "      <td>NaN</td>\n",
       "      <td>NaN</td>\n",
       "      <td>NaN</td>\n",
       "      <td>NaN</td>\n",
       "      <td>NaN</td>\n",
       "    </tr>\n",
       "    <tr>\n",
       "      <th>2</th>\n",
       "      <td>The Glory: Season 1 // 더 글로리: 시즌 1</td>\n",
       "      <td>Yes</td>\n",
       "      <td>2022-12-30</td>\n",
       "      <td>622800000</td>\n",
       "      <td>NaN</td>\n",
       "      <td>NaN</td>\n",
       "      <td>NaN</td>\n",
       "      <td>NaN</td>\n",
       "      <td>NaN</td>\n",
       "      <td>NaN</td>\n",
       "      <td>NaN</td>\n",
       "      <td>NaN</td>\n",
       "      <td>NaN</td>\n",
       "    </tr>\n",
       "    <tr>\n",
       "      <th>3</th>\n",
       "      <td>Wednesday: Season 1</td>\n",
       "      <td>Yes</td>\n",
       "      <td>2022-11-23</td>\n",
       "      <td>507700000</td>\n",
       "      <td>NaN</td>\n",
       "      <td>NaN</td>\n",
       "      <td>NaN</td>\n",
       "      <td>NaN</td>\n",
       "      <td>NaN</td>\n",
       "      <td>NaN</td>\n",
       "      <td>NaN</td>\n",
       "      <td>NaN</td>\n",
       "      <td>NaN</td>\n",
       "    </tr>\n",
       "    <tr>\n",
       "      <th>4</th>\n",
       "      <td>Queen Charlotte: A Bridgerton Story</td>\n",
       "      <td>Yes</td>\n",
       "      <td>2023-05-04</td>\n",
       "      <td>503000000</td>\n",
       "      <td>tt14661396</td>\n",
       "      <td>tvMiniSeries</td>\n",
       "      <td>Queen Charlotte: A Bridgerton Story</td>\n",
       "      <td>Queen Charlotte: A Bridgerton Story</td>\n",
       "      <td>0</td>\n",
       "      <td>2023</td>\n",
       "      <td>2023</td>\n",
       "      <td>347</td>\n",
       "      <td>Drama,History,Romance</td>\n",
       "    </tr>\n",
       "  </tbody>\n",
       "</table>\n",
       "</div>"
      ],
      "text/plain": [
       "                                 Title Available Globally? Release Date  \\\n",
       "0            The Night Agent: Season 1                 Yes   2023-03-23   \n",
       "1            Ginny & Georgia: Season 2                 Yes   2023-01-05   \n",
       "2   The Glory: Season 1 // 더 글로리: 시즌 1                 Yes   2022-12-30   \n",
       "3                  Wednesday: Season 1                 Yes   2022-11-23   \n",
       "4  Queen Charlotte: A Bridgerton Story                 Yes   2023-05-04   \n",
       "\n",
       "   Hours Viewed      tconst     titleType  \\\n",
       "0     812100000         NaN           NaN   \n",
       "1     665100000         NaN           NaN   \n",
       "2     622800000         NaN           NaN   \n",
       "3     507700000         NaN           NaN   \n",
       "4     503000000  tt14661396  tvMiniSeries   \n",
       "\n",
       "                          primaryTitle                        originalTitle  \\\n",
       "0                                  NaN                                  NaN   \n",
       "1                                  NaN                                  NaN   \n",
       "2                                  NaN                                  NaN   \n",
       "3                                  NaN                                  NaN   \n",
       "4  Queen Charlotte: A Bridgerton Story  Queen Charlotte: A Bridgerton Story   \n",
       "\n",
       "  isAdult startYear endYear runtimeMinutes                 genres  \n",
       "0     NaN       NaN     NaN            NaN                    NaN  \n",
       "1     NaN       NaN     NaN            NaN                    NaN  \n",
       "2     NaN       NaN     NaN            NaN                    NaN  \n",
       "3     NaN       NaN     NaN            NaN                    NaN  \n",
       "4       0      2023    2023            347  Drama,History,Romance  "
      ]
     },
     "execution_count": 19,
     "metadata": {},
     "output_type": "execute_result"
    }
   ],
   "source": [
    "# For the rows where it didn not find a match, the 'tconst' column will have NaN values\n",
    "# Try to match the rows where 'tconst' is NaN with the 'originalTitle' column of imdb_title_basics\n",
    "# Perform an left join on the netflix and imdb_title_basics DataFrames using the netflix 'Title' column and the 'originalTitle' column of imdb_title_basics\n",
    "netflix_imdb = netflix.merge(imdb_title_basics, left_on='Title', right_on='originalTitle', how='left')\n",
    "\n",
    "# Print the first five rows of netflix_imdb\n",
    "netflix_imdb.head()"
   ]
  },
  {
   "cell_type": "code",
   "execution_count": 20,
   "metadata": {},
   "outputs": [
    {
     "name": "stdout",
     "output_type": "stream",
     "text": [
      "<class 'pandas.core.frame.DataFrame'>\n",
      "RangeIndex: 41660 entries, 0 to 41659\n",
      "Data columns (total 13 columns):\n",
      " #   Column               Non-Null Count  Dtype         \n",
      "---  ------               --------------  -----         \n",
      " 0   Title                41660 non-null  object        \n",
      " 1   Available Globally?  41660 non-null  object        \n",
      " 2   Release Date         14133 non-null  datetime64[ns]\n",
      " 3   Hours Viewed         41660 non-null  int64         \n",
      " 4   tconst               28376 non-null  object        \n",
      " 5   titleType            28376 non-null  object        \n",
      " 6   primaryTitle         28376 non-null  object        \n",
      " 7   originalTitle        28376 non-null  object        \n",
      " 8   isAdult              28376 non-null  object        \n",
      " 9   startYear            28376 non-null  object        \n",
      " 10  endYear              28376 non-null  object        \n",
      " 11  runtimeMinutes       28376 non-null  object        \n",
      " 12  genres               28376 non-null  object        \n",
      "dtypes: datetime64[ns](1), int64(1), object(11)\n",
      "memory usage: 4.1+ MB\n"
     ]
    }
   ],
   "source": [
    "netflix_imdb.info()"
   ]
  },
  {
   "cell_type": "code",
   "execution_count": 21,
   "metadata": {},
   "outputs": [
    {
     "data": {
      "text/html": [
       "<div>\n",
       "<style scoped>\n",
       "    .dataframe tbody tr th:only-of-type {\n",
       "        vertical-align: middle;\n",
       "    }\n",
       "\n",
       "    .dataframe tbody tr th {\n",
       "        vertical-align: top;\n",
       "    }\n",
       "\n",
       "    .dataframe thead th {\n",
       "        text-align: right;\n",
       "    }\n",
       "</style>\n",
       "<table border=\"1\" class=\"dataframe\">\n",
       "  <thead>\n",
       "    <tr style=\"text-align: right;\">\n",
       "      <th></th>\n",
       "      <th>Title</th>\n",
       "      <th>Available Globally?</th>\n",
       "      <th>Release Date</th>\n",
       "      <th>Hours Viewed</th>\n",
       "      <th>tconst</th>\n",
       "      <th>titleType</th>\n",
       "      <th>primaryTitle</th>\n",
       "      <th>originalTitle</th>\n",
       "      <th>isAdult</th>\n",
       "      <th>startYear</th>\n",
       "      <th>endYear</th>\n",
       "      <th>runtimeMinutes</th>\n",
       "      <th>genres</th>\n",
       "      <th>genre_0</th>\n",
       "      <th>genre_1</th>\n",
       "      <th>genre_2</th>\n",
       "    </tr>\n",
       "  </thead>\n",
       "  <tbody>\n",
       "    <tr>\n",
       "      <th>0</th>\n",
       "      <td>The Night Agent: Season 1</td>\n",
       "      <td>Yes</td>\n",
       "      <td>2023-03-23</td>\n",
       "      <td>812100000</td>\n",
       "      <td>NaN</td>\n",
       "      <td>NaN</td>\n",
       "      <td>NaN</td>\n",
       "      <td>NaN</td>\n",
       "      <td>NaN</td>\n",
       "      <td>NaN</td>\n",
       "      <td>NaN</td>\n",
       "      <td>NaN</td>\n",
       "      <td>NaN</td>\n",
       "      <td>NaN</td>\n",
       "      <td>NaN</td>\n",
       "      <td>NaN</td>\n",
       "    </tr>\n",
       "    <tr>\n",
       "      <th>1</th>\n",
       "      <td>Ginny &amp; Georgia: Season 2</td>\n",
       "      <td>Yes</td>\n",
       "      <td>2023-01-05</td>\n",
       "      <td>665100000</td>\n",
       "      <td>NaN</td>\n",
       "      <td>NaN</td>\n",
       "      <td>NaN</td>\n",
       "      <td>NaN</td>\n",
       "      <td>NaN</td>\n",
       "      <td>NaN</td>\n",
       "      <td>NaN</td>\n",
       "      <td>NaN</td>\n",
       "      <td>NaN</td>\n",
       "      <td>NaN</td>\n",
       "      <td>NaN</td>\n",
       "      <td>NaN</td>\n",
       "    </tr>\n",
       "    <tr>\n",
       "      <th>2</th>\n",
       "      <td>The Glory: Season 1 // 더 글로리: 시즌 1</td>\n",
       "      <td>Yes</td>\n",
       "      <td>2022-12-30</td>\n",
       "      <td>622800000</td>\n",
       "      <td>NaN</td>\n",
       "      <td>NaN</td>\n",
       "      <td>NaN</td>\n",
       "      <td>NaN</td>\n",
       "      <td>NaN</td>\n",
       "      <td>NaN</td>\n",
       "      <td>NaN</td>\n",
       "      <td>NaN</td>\n",
       "      <td>NaN</td>\n",
       "      <td>NaN</td>\n",
       "      <td>NaN</td>\n",
       "      <td>NaN</td>\n",
       "    </tr>\n",
       "    <tr>\n",
       "      <th>3</th>\n",
       "      <td>Wednesday: Season 1</td>\n",
       "      <td>Yes</td>\n",
       "      <td>2022-11-23</td>\n",
       "      <td>507700000</td>\n",
       "      <td>NaN</td>\n",
       "      <td>NaN</td>\n",
       "      <td>NaN</td>\n",
       "      <td>NaN</td>\n",
       "      <td>NaN</td>\n",
       "      <td>NaN</td>\n",
       "      <td>NaN</td>\n",
       "      <td>NaN</td>\n",
       "      <td>NaN</td>\n",
       "      <td>NaN</td>\n",
       "      <td>NaN</td>\n",
       "      <td>NaN</td>\n",
       "    </tr>\n",
       "    <tr>\n",
       "      <th>4</th>\n",
       "      <td>Queen Charlotte: A Bridgerton Story</td>\n",
       "      <td>Yes</td>\n",
       "      <td>2023-05-04</td>\n",
       "      <td>503000000</td>\n",
       "      <td>tt14661396</td>\n",
       "      <td>tvMiniSeries</td>\n",
       "      <td>Queen Charlotte: A Bridgerton Story</td>\n",
       "      <td>Queen Charlotte: A Bridgerton Story</td>\n",
       "      <td>0</td>\n",
       "      <td>2023</td>\n",
       "      <td>2023</td>\n",
       "      <td>347</td>\n",
       "      <td>Drama,History,Romance</td>\n",
       "      <td>Drama</td>\n",
       "      <td>History</td>\n",
       "      <td>Romance</td>\n",
       "    </tr>\n",
       "  </tbody>\n",
       "</table>\n",
       "</div>"
      ],
      "text/plain": [
       "                                 Title Available Globally? Release Date  \\\n",
       "0            The Night Agent: Season 1                 Yes   2023-03-23   \n",
       "1            Ginny & Georgia: Season 2                 Yes   2023-01-05   \n",
       "2   The Glory: Season 1 // 더 글로리: 시즌 1                 Yes   2022-12-30   \n",
       "3                  Wednesday: Season 1                 Yes   2022-11-23   \n",
       "4  Queen Charlotte: A Bridgerton Story                 Yes   2023-05-04   \n",
       "\n",
       "   Hours Viewed      tconst     titleType  \\\n",
       "0     812100000         NaN           NaN   \n",
       "1     665100000         NaN           NaN   \n",
       "2     622800000         NaN           NaN   \n",
       "3     507700000         NaN           NaN   \n",
       "4     503000000  tt14661396  tvMiniSeries   \n",
       "\n",
       "                          primaryTitle                        originalTitle  \\\n",
       "0                                  NaN                                  NaN   \n",
       "1                                  NaN                                  NaN   \n",
       "2                                  NaN                                  NaN   \n",
       "3                                  NaN                                  NaN   \n",
       "4  Queen Charlotte: A Bridgerton Story  Queen Charlotte: A Bridgerton Story   \n",
       "\n",
       "  isAdult startYear endYear runtimeMinutes                 genres genre_0  \\\n",
       "0     NaN       NaN     NaN            NaN                    NaN     NaN   \n",
       "1     NaN       NaN     NaN            NaN                    NaN     NaN   \n",
       "2     NaN       NaN     NaN            NaN                    NaN     NaN   \n",
       "3     NaN       NaN     NaN            NaN                    NaN     NaN   \n",
       "4       0      2023    2023            347  Drama,History,Romance   Drama   \n",
       "\n",
       "   genre_1  genre_2  \n",
       "0      NaN      NaN  \n",
       "1      NaN      NaN  \n",
       "2      NaN      NaN  \n",
       "3      NaN      NaN  \n",
       "4  History  Romance  "
      ]
     },
     "execution_count": 21,
     "metadata": {},
     "output_type": "execute_result"
    }
   ],
   "source": [
    "# The genre column contains a comma separated list of genres\n",
    "# We will split the genre column into multiple columns, one for each genre\n",
    "# To do this, we will use the str.split() method on the 'genre' column\n",
    "# We will also use the expand=True argument to split the column into multiple columns\n",
    "# We will then use the add_prefix() method to add the prefix 'genre_' to the column names\n",
    "netflix_imdb = netflix_imdb.join(netflix_imdb['genres'].str.split(',', expand=True).add_prefix('genre_'))\n",
    "\n",
    "# Print the first five rows of netflix_imdb\n",
    "netflix_imdb.head()"
   ]
  },
  {
   "cell_type": "code",
   "execution_count": 22,
   "metadata": {},
   "outputs": [
    {
     "data": {
      "text/html": [
       "<div>\n",
       "<style scoped>\n",
       "    .dataframe tbody tr th:only-of-type {\n",
       "        vertical-align: middle;\n",
       "    }\n",
       "\n",
       "    .dataframe tbody tr th {\n",
       "        vertical-align: top;\n",
       "    }\n",
       "\n",
       "    .dataframe thead th {\n",
       "        text-align: right;\n",
       "    }\n",
       "</style>\n",
       "<table border=\"1\" class=\"dataframe\">\n",
       "  <thead>\n",
       "    <tr style=\"text-align: right;\">\n",
       "      <th></th>\n",
       "      <th>Title</th>\n",
       "      <th>Available Globally?</th>\n",
       "      <th>Release Date</th>\n",
       "      <th>Hours Viewed</th>\n",
       "      <th>tconst</th>\n",
       "      <th>titleType</th>\n",
       "      <th>primaryTitle</th>\n",
       "      <th>originalTitle</th>\n",
       "      <th>isAdult</th>\n",
       "      <th>startYear</th>\n",
       "      <th>endYear</th>\n",
       "      <th>runtimeMinutes</th>\n",
       "      <th>genres</th>\n",
       "      <th>genre_0</th>\n",
       "      <th>genre_1</th>\n",
       "      <th>genre_2</th>\n",
       "    </tr>\n",
       "  </thead>\n",
       "  <tbody>\n",
       "    <tr>\n",
       "      <th>0</th>\n",
       "      <td>The Night Agent: Season 1</td>\n",
       "      <td>Yes</td>\n",
       "      <td>2023-03-23</td>\n",
       "      <td>812100000</td>\n",
       "      <td>NaN</td>\n",
       "      <td>NaN</td>\n",
       "      <td>NaN</td>\n",
       "      <td>NaN</td>\n",
       "      <td>NaN</td>\n",
       "      <td>NaN</td>\n",
       "      <td>NaN</td>\n",
       "      <td>NaN</td>\n",
       "      <td>NaN</td>\n",
       "      <td>NaN</td>\n",
       "      <td>NaN</td>\n",
       "      <td>NaN</td>\n",
       "    </tr>\n",
       "    <tr>\n",
       "      <th>1</th>\n",
       "      <td>Ginny &amp; Georgia: Season 2</td>\n",
       "      <td>Yes</td>\n",
       "      <td>2023-01-05</td>\n",
       "      <td>665100000</td>\n",
       "      <td>NaN</td>\n",
       "      <td>NaN</td>\n",
       "      <td>NaN</td>\n",
       "      <td>NaN</td>\n",
       "      <td>NaN</td>\n",
       "      <td>NaN</td>\n",
       "      <td>NaN</td>\n",
       "      <td>NaN</td>\n",
       "      <td>NaN</td>\n",
       "      <td>NaN</td>\n",
       "      <td>NaN</td>\n",
       "      <td>NaN</td>\n",
       "    </tr>\n",
       "    <tr>\n",
       "      <th>2</th>\n",
       "      <td>The Glory: Season 1 // 더 글로리: 시즌 1</td>\n",
       "      <td>Yes</td>\n",
       "      <td>2022-12-30</td>\n",
       "      <td>622800000</td>\n",
       "      <td>NaN</td>\n",
       "      <td>NaN</td>\n",
       "      <td>NaN</td>\n",
       "      <td>NaN</td>\n",
       "      <td>NaN</td>\n",
       "      <td>NaN</td>\n",
       "      <td>NaN</td>\n",
       "      <td>NaN</td>\n",
       "      <td>NaN</td>\n",
       "      <td>NaN</td>\n",
       "      <td>NaN</td>\n",
       "      <td>NaN</td>\n",
       "    </tr>\n",
       "    <tr>\n",
       "      <th>3</th>\n",
       "      <td>Wednesday: Season 1</td>\n",
       "      <td>Yes</td>\n",
       "      <td>2022-11-23</td>\n",
       "      <td>507700000</td>\n",
       "      <td>NaN</td>\n",
       "      <td>NaN</td>\n",
       "      <td>NaN</td>\n",
       "      <td>NaN</td>\n",
       "      <td>NaN</td>\n",
       "      <td>NaN</td>\n",
       "      <td>NaN</td>\n",
       "      <td>NaN</td>\n",
       "      <td>NaN</td>\n",
       "      <td>NaN</td>\n",
       "      <td>NaN</td>\n",
       "      <td>NaN</td>\n",
       "    </tr>\n",
       "    <tr>\n",
       "      <th>4</th>\n",
       "      <td>Queen Charlotte: A Bridgerton Story</td>\n",
       "      <td>Yes</td>\n",
       "      <td>2023-05-04</td>\n",
       "      <td>503000000</td>\n",
       "      <td>tt14661396</td>\n",
       "      <td>tvMiniSeries</td>\n",
       "      <td>Queen Charlotte: A Bridgerton Story</td>\n",
       "      <td>Queen Charlotte: A Bridgerton Story</td>\n",
       "      <td>0</td>\n",
       "      <td>2023</td>\n",
       "      <td>2023</td>\n",
       "      <td>347</td>\n",
       "      <td>Drama,History,Romance</td>\n",
       "      <td>Drama</td>\n",
       "      <td>History</td>\n",
       "      <td>Romance</td>\n",
       "    </tr>\n",
       "    <tr>\n",
       "      <th>...</th>\n",
       "      <td>...</td>\n",
       "      <td>...</td>\n",
       "      <td>...</td>\n",
       "      <td>...</td>\n",
       "      <td>...</td>\n",
       "      <td>...</td>\n",
       "      <td>...</td>\n",
       "      <td>...</td>\n",
       "      <td>...</td>\n",
       "      <td>...</td>\n",
       "      <td>...</td>\n",
       "      <td>...</td>\n",
       "      <td>...</td>\n",
       "      <td>...</td>\n",
       "      <td>...</td>\n",
       "      <td>...</td>\n",
       "    </tr>\n",
       "    <tr>\n",
       "      <th>41655</th>\n",
       "      <td>راس السنة</td>\n",
       "      <td>No</td>\n",
       "      <td>NaT</td>\n",
       "      <td>100000</td>\n",
       "      <td>NaN</td>\n",
       "      <td>NaN</td>\n",
       "      <td>NaN</td>\n",
       "      <td>NaN</td>\n",
       "      <td>NaN</td>\n",
       "      <td>NaN</td>\n",
       "      <td>NaN</td>\n",
       "      <td>NaN</td>\n",
       "      <td>NaN</td>\n",
       "      <td>NaN</td>\n",
       "      <td>NaN</td>\n",
       "      <td>NaN</td>\n",
       "    </tr>\n",
       "    <tr>\n",
       "      <th>41656</th>\n",
       "      <td>心が叫びたがってるんだ。</td>\n",
       "      <td>No</td>\n",
       "      <td>NaT</td>\n",
       "      <td>100000</td>\n",
       "      <td>NaN</td>\n",
       "      <td>NaN</td>\n",
       "      <td>NaN</td>\n",
       "      <td>NaN</td>\n",
       "      <td>NaN</td>\n",
       "      <td>NaN</td>\n",
       "      <td>NaN</td>\n",
       "      <td>NaN</td>\n",
       "      <td>NaN</td>\n",
       "      <td>NaN</td>\n",
       "      <td>NaN</td>\n",
       "      <td>NaN</td>\n",
       "    </tr>\n",
       "    <tr>\n",
       "      <th>41657</th>\n",
       "      <td>두근두근 내 인생</td>\n",
       "      <td>No</td>\n",
       "      <td>NaT</td>\n",
       "      <td>100000</td>\n",
       "      <td>NaN</td>\n",
       "      <td>NaN</td>\n",
       "      <td>NaN</td>\n",
       "      <td>NaN</td>\n",
       "      <td>NaN</td>\n",
       "      <td>NaN</td>\n",
       "      <td>NaN</td>\n",
       "      <td>NaN</td>\n",
       "      <td>NaN</td>\n",
       "      <td>NaN</td>\n",
       "      <td>NaN</td>\n",
       "      <td>NaN</td>\n",
       "    </tr>\n",
       "    <tr>\n",
       "      <th>41658</th>\n",
       "      <td>라디오 스타</td>\n",
       "      <td>No</td>\n",
       "      <td>NaT</td>\n",
       "      <td>100000</td>\n",
       "      <td>NaN</td>\n",
       "      <td>NaN</td>\n",
       "      <td>NaN</td>\n",
       "      <td>NaN</td>\n",
       "      <td>NaN</td>\n",
       "      <td>NaN</td>\n",
       "      <td>NaN</td>\n",
       "      <td>NaN</td>\n",
       "      <td>NaN</td>\n",
       "      <td>NaN</td>\n",
       "      <td>NaN</td>\n",
       "      <td>NaN</td>\n",
       "    </tr>\n",
       "    <tr>\n",
       "      <th>41659</th>\n",
       "      <td>선생 김봉두</td>\n",
       "      <td>No</td>\n",
       "      <td>NaT</td>\n",
       "      <td>100000</td>\n",
       "      <td>NaN</td>\n",
       "      <td>NaN</td>\n",
       "      <td>NaN</td>\n",
       "      <td>NaN</td>\n",
       "      <td>NaN</td>\n",
       "      <td>NaN</td>\n",
       "      <td>NaN</td>\n",
       "      <td>NaN</td>\n",
       "      <td>NaN</td>\n",
       "      <td>NaN</td>\n",
       "      <td>NaN</td>\n",
       "      <td>NaN</td>\n",
       "    </tr>\n",
       "  </tbody>\n",
       "</table>\n",
       "<p>41660 rows × 16 columns</p>\n",
       "</div>"
      ],
      "text/plain": [
       "                                     Title Available Globally? Release Date  \\\n",
       "0                The Night Agent: Season 1                 Yes   2023-03-23   \n",
       "1                Ginny & Georgia: Season 2                 Yes   2023-01-05   \n",
       "2       The Glory: Season 1 // 더 글로리: 시즌 1                 Yes   2022-12-30   \n",
       "3                      Wednesday: Season 1                 Yes   2022-11-23   \n",
       "4      Queen Charlotte: A Bridgerton Story                 Yes   2023-05-04   \n",
       "...                                    ...                 ...          ...   \n",
       "41655                            راس السنة                  No          NaT   \n",
       "41656                         心が叫びたがってるんだ。                  No          NaT   \n",
       "41657                            두근두근 내 인생                  No          NaT   \n",
       "41658                               라디오 스타                  No          NaT   \n",
       "41659                               선생 김봉두                  No          NaT   \n",
       "\n",
       "       Hours Viewed      tconst     titleType  \\\n",
       "0         812100000         NaN           NaN   \n",
       "1         665100000         NaN           NaN   \n",
       "2         622800000         NaN           NaN   \n",
       "3         507700000         NaN           NaN   \n",
       "4         503000000  tt14661396  tvMiniSeries   \n",
       "...             ...         ...           ...   \n",
       "41655        100000         NaN           NaN   \n",
       "41656        100000         NaN           NaN   \n",
       "41657        100000         NaN           NaN   \n",
       "41658        100000         NaN           NaN   \n",
       "41659        100000         NaN           NaN   \n",
       "\n",
       "                              primaryTitle  \\\n",
       "0                                      NaN   \n",
       "1                                      NaN   \n",
       "2                                      NaN   \n",
       "3                                      NaN   \n",
       "4      Queen Charlotte: A Bridgerton Story   \n",
       "...                                    ...   \n",
       "41655                                  NaN   \n",
       "41656                                  NaN   \n",
       "41657                                  NaN   \n",
       "41658                                  NaN   \n",
       "41659                                  NaN   \n",
       "\n",
       "                             originalTitle isAdult startYear endYear  \\\n",
       "0                                      NaN     NaN       NaN     NaN   \n",
       "1                                      NaN     NaN       NaN     NaN   \n",
       "2                                      NaN     NaN       NaN     NaN   \n",
       "3                                      NaN     NaN       NaN     NaN   \n",
       "4      Queen Charlotte: A Bridgerton Story       0      2023    2023   \n",
       "...                                    ...     ...       ...     ...   \n",
       "41655                                  NaN     NaN       NaN     NaN   \n",
       "41656                                  NaN     NaN       NaN     NaN   \n",
       "41657                                  NaN     NaN       NaN     NaN   \n",
       "41658                                  NaN     NaN       NaN     NaN   \n",
       "41659                                  NaN     NaN       NaN     NaN   \n",
       "\n",
       "      runtimeMinutes                 genres genre_0  genre_1  genre_2  \n",
       "0                NaN                    NaN     NaN      NaN      NaN  \n",
       "1                NaN                    NaN     NaN      NaN      NaN  \n",
       "2                NaN                    NaN     NaN      NaN      NaN  \n",
       "3                NaN                    NaN     NaN      NaN      NaN  \n",
       "4                347  Drama,History,Romance   Drama  History  Romance  \n",
       "...              ...                    ...     ...      ...      ...  \n",
       "41655            NaN                    NaN     NaN      NaN      NaN  \n",
       "41656            NaN                    NaN     NaN      NaN      NaN  \n",
       "41657            NaN                    NaN     NaN      NaN      NaN  \n",
       "41658            NaN                    NaN     NaN      NaN      NaN  \n",
       "41659            NaN                    NaN     NaN      NaN      NaN  \n",
       "\n",
       "[41660 rows x 16 columns]"
      ]
     },
     "execution_count": 22,
     "metadata": {},
     "output_type": "execute_result"
    }
   ],
   "source": [
    "netflix_imdb"
   ]
  },
  {
   "cell_type": "code",
   "execution_count": 23,
   "metadata": {},
   "outputs": [
    {
     "data": {
      "image/png": "[encoded data removed]",
      "text/plain": [
       "<Figure size 1200x800 with 1 Axes>"
      ]
     },
     "metadata": {},
     "output_type": "display_data"
    }
   ],
   "source": [
    "# Create a visualization of the Hours Viewed by 'genre_0' and 'genre_1'. Use a stacked bar chart\n",
    "# Group the data by 'genre_0' and 'genre_1' and sum the 'Hours Viewed' column\n",
    "# Use the unstack() method to convert the resulting Series into a DataFrame\n",
    "# Sort the columns in descending order\n",
    "# Plot the stacked bar chart\n",
    "# Add labels and title\n",
    "# Set the figsize=(12, 8))\n",
    "# Show the plot\n",
    "\n",
    "netflix_imdb.groupby(['genre_0', 'genre_1'])['Hours Viewed'].sum().unstack().sort_values(by='genre_0', ascending=False).plot(kind='bar', stacked=True, figsize=(12, 8))\n",
    "plt.xlabel('Genre')\n",
    "plt.ylabel('Hours Viewed')\n",
    "plt.title('Hours Viewed by Genre')\n",
    "plt.show()"
   ]
  },
  {
   "cell_type": "code",
   "execution_count": 26,
   "metadata": {},
   "outputs": [
    {
     "data": {
      "text/plain": [
       "Index(['Title', 'Available Globally?', 'Release Date', 'Hours Viewed',\n",
       "       'tconst', 'titleType', 'primaryTitle', 'originalTitle', 'isAdult',\n",
       "       'startYear', 'endYear', 'runtimeMinutes', 'genres', 'genre_0',\n",
       "       'genre_1', 'genre_2'],\n",
       "      dtype='object')"
      ]
     },
     "execution_count": 26,
     "metadata": {},
     "output_type": "execute_result"
    }
   ],
   "source": [
    "netflix_imdb.columns"
   ]
  },
  {
   "cell_type": "code",
   "execution_count": 27,
   "metadata": {},
   "outputs": [
    {
     "data": {
      "text/plain": [
       "titleType\n",
       "tvEpisode       14329\n",
       "movie            5868\n",
       "short            5784\n",
       "video             695\n",
       "tvSeries          627\n",
       "tvMovie           392\n",
       "tvSpecial         291\n",
       "videoGame         215\n",
       "tvMiniSeries      147\n",
       "tvShort            28\n",
       "Name: count, dtype: int64"
      ]
     },
     "execution_count": 27,
     "metadata": {},
     "output_type": "execute_result"
    }
   ],
   "source": [
    "netflix_imdb['titleType'].value_counts()"
   ]
  },
  {
   "cell_type": "code",
   "execution_count": 25,
   "metadata": {},
   "outputs": [
    {
     "data": {
      "application/vnd.plotly.v1+json": {
       "config": {
        "plotlyServerURL": "https://plot.ly"
       },
       "data": [
        {
         "alignmentgroup": "True",
         "hovertemplate": "Genre 1=Short<br>Genre 0=%{x}<br>Hours Viewed=%{y}<extra></extra>",
         "legendgroup": "Short",
         "marker": {
          "color": "#636efa",
          "pattern": {
           "shape": ""
          }
         },
         "name": "Short",
         "offsetgroup": "Short",
         "orientation": "v",
         "showlegend": true,
         "textposition": "auto",
         "type": "bar",
         "x": [
          "Drama",
          "Comedy",
          "Horror",
          "Documentary",
          "Action",
          "Sci-Fi",
          "Mystery",
          "Crime",
          "Music",
          "Animation",
          "Fantasy",
          "Romance",
          "History",
          "Musical",
          "Biography",
          "Adventure",
          "Family",
          "News",
          "Adult",
          "Reality-TV"
         ],
         "xaxis": "x",
         "y": [
          10743100000,
          3469900000,
          2847800000,
          1839200000,
          921600000,
          916700000,
          782500000,
          729300000,
          720800000,
          531900000,
          353900000,
          265900000,
          188100000,
          94400000,
          85000000,
          82800000,
          52700000,
          46800000,
          32400000,
          32100000
         ],
         "yaxis": "y"
        },
        {
         "alignmentgroup": "True",
         "hovertemplate": "Genre 1=Talk-Show<br>Genre 0=%{x}<br>Hours Viewed=%{y}<extra></extra>",
         "legendgroup": "Talk-Show",
         "marker": {
          "color": "#EF553B",
          "pattern": {
           "shape": ""
          }
         },
         "name": "Talk-Show",
         "offsetgroup": "Talk-Show",
         "orientation": "v",
         "showlegend": true,
         "textposition": "auto",
         "type": "bar",
         "x": [
          "Comedy",
          "Short",
          "Reality-TV",
          "Music",
          "Documentary",
          "News",
          "Sport",
          "Family",
          "Horror",
          "Sci-Fi",
          "Game-Show",
          "Crime",
          "History"
         ],
         "xaxis": "x",
         "y": [
          6790700000,
          257800000,
          224900000,
          193400000,
          109100000,
          58900000,
          31200000,
          28600000,
          15100000,
          13600000,
          7900000,
          7200000,
          2400000
         ],
         "yaxis": "y"
        },
        {
         "alignmentgroup": "True",
         "hovertemplate": "Genre 1=Adventure<br>Genre 0=%{x}<br>Hours Viewed=%{y}<extra></extra>",
         "legendgroup": "Adventure",
         "marker": {
          "color": "#00cc96",
          "pattern": {
           "shape": ""
          }
         },
         "name": "Adventure",
         "offsetgroup": "Adventure",
         "orientation": "v",
         "showlegend": true,
         "textposition": "auto",
         "type": "bar",
         "x": [
          "Action"
         ],
         "xaxis": "x",
         "y": [
          5926900000
         ],
         "yaxis": "y"
        },
        {
         "alignmentgroup": "True",
         "hovertemplate": "Genre 1=Drama<br>Genre 0=%{x}<br>Hours Viewed=%{y}<extra></extra>",
         "legendgroup": "Drama",
         "marker": {
          "color": "#ab63fa",
          "pattern": {
           "shape": ""
          }
         },
         "name": "Drama",
         "offsetgroup": "Drama",
         "orientation": "v",
         "showlegend": true,
         "textposition": "auto",
         "type": "bar",
         "x": [
          "Comedy",
          "Crime",
          "Action",
          "Adventure",
          "Biography",
          "Animation",
          "Documentary",
          "Adult"
         ],
         "xaxis": "x",
         "y": [
          4573500000,
          4179400000,
          1824900000,
          1076300000,
          614300000,
          209500000,
          208600000,
          141800000
         ],
         "yaxis": "y"
        },
        {
         "alignmentgroup": "True",
         "hovertemplate": "Genre 1=Animation<br>Genre 0=%{x}<br>Hours Viewed=%{y}<extra></extra>",
         "legendgroup": "Animation",
         "marker": {
          "color": "#FFA15A",
          "pattern": {
           "shape": ""
          }
         },
         "name": "Animation",
         "offsetgroup": "Animation",
         "orientation": "v",
         "showlegend": true,
         "textposition": "auto",
         "type": "bar",
         "x": [
          "Adventure",
          "Action",
          "Adult"
         ],
         "xaxis": "x",
         "y": [
          2278200000,
          477900000,
          2300000
         ],
         "yaxis": "y"
        },
        {
         "alignmentgroup": "True",
         "hovertemplate": "Genre 1=Romance<br>Genre 0=%{x}<br>Hours Viewed=%{y}<extra></extra>",
         "legendgroup": "Romance",
         "marker": {
          "color": "#19d3f3",
          "pattern": {
           "shape": ""
          }
         },
         "name": "Romance",
         "offsetgroup": "Romance",
         "orientation": "v",
         "showlegend": true,
         "textposition": "auto",
         "type": "bar",
         "x": [
          "Drama",
          "Comedy",
          "Adult",
          "Action",
          "Reality-TV",
          "History",
          "Documentary",
          "Mystery",
          "Adventure",
          "Family",
          "Crime",
          "Musical",
          "Fantasy",
          "Animation",
          "Horror",
          "Music"
         ],
         "xaxis": "x",
         "y": [
          1990000000,
          1407400000,
          87800000,
          45800000,
          30300000,
          21400000,
          11700000,
          8700000,
          6200000,
          5800000,
          4200000,
          2100000,
          1900000,
          1800000,
          900000,
          300000
         ],
         "yaxis": "y"
        },
        {
         "alignmentgroup": "True",
         "hovertemplate": "Genre 1=Comedy<br>Genre 0=%{x}<br>Hours Viewed=%{y}<extra></extra>",
         "legendgroup": "Comedy",
         "marker": {
          "color": "#FF6692",
          "pattern": {
           "shape": ""
          }
         },
         "name": "Comedy",
         "offsetgroup": "Comedy",
         "orientation": "v",
         "showlegend": true,
         "textposition": "auto",
         "type": "bar",
         "x": [
          "Action",
          "Animation",
          "Adventure",
          "Biography",
          "Adult"
         ],
         "xaxis": "x",
         "y": [
          1961100000,
          1599200000,
          966400000,
          76700000,
          64200000
         ],
         "yaxis": "y"
        },
        {
         "alignmentgroup": "True",
         "hovertemplate": "Genre 1=Crime<br>Genre 0=%{x}<br>Hours Viewed=%{y}<extra></extra>",
         "legendgroup": "Crime",
         "marker": {
          "color": "#B6E880",
          "pattern": {
           "shape": ""
          }
         },
         "name": "Crime",
         "offsetgroup": "Crime",
         "orientation": "v",
         "showlegend": true,
         "textposition": "auto",
         "type": "bar",
         "x": [
          "Action",
          "Comedy",
          "Biography",
          "Adult",
          "Adventure",
          "Animation"
         ],
         "xaxis": "x",
         "y": [
          1949900000,
          799100000,
          281800000,
          51300000,
          21200000,
          16500000
         ],
         "yaxis": "y"
        },
        {
         "alignmentgroup": "True",
         "hovertemplate": "Genre 1=Fantasy<br>Genre 0=%{x}<br>Hours Viewed=%{y}<extra></extra>",
         "legendgroup": "Fantasy",
         "marker": {
          "color": "#FF97FF",
          "pattern": {
           "shape": ""
          }
         },
         "name": "Fantasy",
         "offsetgroup": "Fantasy",
         "orientation": "v",
         "showlegend": true,
         "textposition": "auto",
         "type": "bar",
         "x": [
          "Drama",
          "Comedy",
          "Adventure",
          "Action",
          "Animation",
          "Family",
          "Crime",
          "Adult",
          "Documentary"
         ],
         "xaxis": "x",
         "y": [
          1495800000,
          697500000,
          208200000,
          137200000,
          93200000,
          43200000,
          4200000,
          3000000,
          100000
         ],
         "yaxis": "y"
        },
        {
         "alignmentgroup": "True",
         "hovertemplate": "Genre 1=Thriller<br>Genre 0=%{x}<br>Hours Viewed=%{y}<extra></extra>",
         "legendgroup": "Thriller",
         "marker": {
          "color": "#FECB52",
          "pattern": {
           "shape": ""
          }
         },
         "name": "Thriller",
         "offsetgroup": "Thriller",
         "orientation": "v",
         "showlegend": true,
         "textposition": "auto",
         "type": "bar",
         "x": [
          "Short",
          "Action",
          "Drama",
          "Crime",
          "Horror",
          "Mystery",
          "Sci-Fi",
          "Comedy",
          "Romance"
         ],
         "xaxis": "x",
         "y": [
          1441100000,
          1141300000,
          256900000,
          183500000,
          182800000,
          112000000,
          63100000,
          31800000,
          13300000
         ],
         "yaxis": "y"
        },
        {
         "alignmentgroup": "True",
         "hovertemplate": "Genre 1=Family<br>Genre 0=%{x}<br>Hours Viewed=%{y}<extra></extra>",
         "legendgroup": "Family",
         "marker": {
          "color": "#636efa",
          "pattern": {
           "shape": ""
          }
         },
         "name": "Family",
         "offsetgroup": "Family",
         "orientation": "v",
         "showlegend": true,
         "textposition": "auto",
         "type": "bar",
         "x": [
          "Comedy",
          "Drama",
          "Animation",
          "Adventure",
          "Documentary",
          "Biography",
          "Action",
          "Crime"
         ],
         "xaxis": "x",
         "y": [
          1263500000,
          1147800000,
          671800000,
          436500000,
          133800000,
          7800000,
          3000000,
          2700000
         ],
         "yaxis": "y"
        },
        {
         "alignmentgroup": "True",
         "hovertemplate": "Genre 1=Horror<br>Genre 0=%{x}<br>Hours Viewed=%{y}<extra></extra>",
         "legendgroup": "Horror",
         "marker": {
          "color": "#EF553B",
          "pattern": {
           "shape": ""
          }
         },
         "name": "Horror",
         "offsetgroup": "Horror",
         "orientation": "v",
         "showlegend": true,
         "textposition": "auto",
         "type": "bar",
         "x": [
          "Drama",
          "Comedy",
          "Crime",
          "Action",
          "Documentary",
          "Animation",
          "Fantasy",
          "Family",
          "Adventure",
          "History",
          "Biography",
          "Adult"
         ],
         "xaxis": "x",
         "y": [
          908200000,
          833600000,
          210700000,
          153200000,
          108000000,
          63400000,
          53400000,
          25900000,
          17000000,
          5500000,
          800000,
          300000
         ],
         "yaxis": "y"
        },
        {
         "alignmentgroup": "True",
         "hovertemplate": "Genre 1=Mystery<br>Genre 0=%{x}<br>Hours Viewed=%{y}<extra></extra>",
         "legendgroup": "Mystery",
         "marker": {
          "color": "#00cc96",
          "pattern": {
           "shape": ""
          }
         },
         "name": "Mystery",
         "offsetgroup": "Mystery",
         "orientation": "v",
         "showlegend": true,
         "textposition": "auto",
         "type": "bar",
         "x": [
          "Drama",
          "Horror",
          "Fantasy",
          "Crime",
          "Action",
          "Comedy",
          "Animation",
          "Family",
          "Adventure",
          "Documentary",
          "History",
          "Music",
          "Adult"
         ],
         "xaxis": "x",
         "y": [
          856800000,
          462500000,
          294800000,
          177700000,
          62300000,
          38900000,
          19800000,
          8900000,
          6200000,
          2200000,
          1700000,
          1500000,
          800000
         ],
         "yaxis": "y"
        },
        {
         "alignmentgroup": "True",
         "hovertemplate": "Genre 1=History<br>Genre 0=%{x}<br>Hours Viewed=%{y}<extra></extra>",
         "legendgroup": "History",
         "marker": {
          "color": "#ab63fa",
          "pattern": {
           "shape": ""
          }
         },
         "name": "History",
         "offsetgroup": "History",
         "orientation": "v",
         "showlegend": true,
         "textposition": "auto",
         "type": "bar",
         "x": [
          "Drama",
          "Documentary",
          "Comedy",
          "Biography",
          "Adventure",
          "Action",
          "Animation"
         ],
         "xaxis": "x",
         "y": [
          748400000,
          466200000,
          41700000,
          7200000,
          4100000,
          4000000,
          3200000
         ],
         "yaxis": "y"
        },
        {
         "alignmentgroup": "True",
         "hovertemplate": "Genre 1=Documentary<br>Genre 0=%{x}<br>Hours Viewed=%{y}<extra></extra>",
         "legendgroup": "Documentary",
         "marker": {
          "color": "#FFA15A",
          "pattern": {
           "shape": ""
          }
         },
         "name": "Documentary",
         "offsetgroup": "Documentary",
         "orientation": "v",
         "showlegend": true,
         "textposition": "auto",
         "type": "bar",
         "x": [
          "Comedy",
          "Crime",
          "Biography",
          "Action",
          "Adventure",
          "Animation",
          "Adult"
         ],
         "xaxis": "x",
         "y": [
          585100000,
          453700000,
          444100000,
          146800000,
          108600000,
          26300000,
          3000000
         ],
         "yaxis": "y"
        },
        {
         "alignmentgroup": "True",
         "hovertemplate": "Genre 1=Sci-Fi<br>Genre 0=%{x}<br>Hours Viewed=%{y}<extra></extra>",
         "legendgroup": "Sci-Fi",
         "marker": {
          "color": "#19d3f3",
          "pattern": {
           "shape": ""
          }
         },
         "name": "Sci-Fi",
         "offsetgroup": "Sci-Fi",
         "orientation": "v",
         "showlegend": true,
         "textposition": "auto",
         "type": "bar",
         "x": [
          "Drama",
          "Action",
          "Comedy",
          "Adventure",
          "Horror",
          "Animation",
          "Family",
          "Fantasy",
          "Mystery",
          "Romance",
          "News",
          "Documentary",
          "Crime",
          "History"
         ],
         "xaxis": "x",
         "y": [
          465000000,
          185200000,
          170800000,
          76100000,
          46700000,
          35200000,
          29000000,
          28700000,
          20800000,
          13300000,
          9200000,
          4700000,
          200000,
          100000
         ],
         "yaxis": "y"
        },
        {
         "alignmentgroup": "True",
         "hovertemplate": "Genre 1=Reality-TV<br>Genre 0=%{x}<br>Hours Viewed=%{y}<extra></extra>",
         "legendgroup": "Reality-TV",
         "marker": {
          "color": "#FF6692",
          "pattern": {
           "shape": ""
          }
         },
         "name": "Reality-TV",
         "offsetgroup": "Reality-TV",
         "orientation": "v",
         "showlegend": true,
         "textposition": "auto",
         "type": "bar",
         "x": [
          "Comedy",
          "Game-Show",
          "Animation",
          "Documentary",
          "Family",
          "Crime",
          "Adventure",
          "Drama",
          "Music",
          "Action",
          "Musical",
          "Mystery",
          "Biography",
          "Horror",
          "News"
         ],
         "xaxis": "x",
         "y": [
          376900000,
          361800000,
          318300000,
          143200000,
          111900000,
          95000000,
          38200000,
          32400000,
          26000000,
          24300000,
          11500000,
          5800000,
          3000000,
          3000000,
          1600000
         ],
         "yaxis": "y"
        },
        {
         "alignmentgroup": "True",
         "hovertemplate": "Genre 1=News<br>Genre 0=%{x}<br>Hours Viewed=%{y}<extra></extra>",
         "legendgroup": "News",
         "marker": {
          "color": "#B6E880",
          "pattern": {
           "shape": ""
          }
         },
         "name": "News",
         "offsetgroup": "News",
         "orientation": "v",
         "showlegend": true,
         "textposition": "auto",
         "type": "bar",
         "x": [
          "Documentary",
          "Comedy",
          "Animation",
          "Family",
          "Horror",
          "Musical",
          "Music",
          "Biography"
         ],
         "xaxis": "x",
         "y": [
          290900000,
          250100000,
          21700000,
          20400000,
          18800000,
          8200000,
          8100000,
          200000
         ],
         "yaxis": "y"
        },
        {
         "alignmentgroup": "True",
         "hovertemplate": "Genre 1=Music<br>Genre 0=%{x}<br>Hours Viewed=%{y}<extra></extra>",
         "legendgroup": "Music",
         "marker": {
          "color": "#FF97FF",
          "pattern": {
           "shape": ""
          }
         },
         "name": "Music",
         "offsetgroup": "Music",
         "orientation": "v",
         "showlegend": true,
         "textposition": "auto",
         "type": "bar",
         "x": [
          "Drama",
          "Comedy",
          "Documentary",
          "Family",
          "Animation",
          "Game-Show",
          "Adventure",
          "Biography",
          "Fantasy",
          "Horror"
         ],
         "xaxis": "x",
         "y": [
          209700000,
          192000000,
          100000000,
          78800000,
          18200000,
          9500000,
          5000000,
          3200000,
          500000,
          200000
         ],
         "yaxis": "y"
        },
        {
         "alignmentgroup": "True",
         "hovertemplate": "Genre 1=Sport<br>Genre 0=%{x}<br>Hours Viewed=%{y}<extra></extra>",
         "legendgroup": "Sport",
         "marker": {
          "color": "#FECB52",
          "pattern": {
           "shape": ""
          }
         },
         "name": "Sport",
         "offsetgroup": "Sport",
         "orientation": "v",
         "showlegend": true,
         "textposition": "auto",
         "type": "bar",
         "x": [
          "Documentary",
          "Drama",
          "Comedy",
          "Family",
          "Action",
          "Reality-TV",
          "News",
          "Animation",
          "Short",
          "History"
         ],
         "xaxis": "x",
         "y": [
          149800000,
          83800000,
          66100000,
          36700000,
          25000000,
          19500000,
          16700000,
          9700000,
          6600000,
          4300000
         ],
         "yaxis": "y"
        },
        {
         "alignmentgroup": "True",
         "hovertemplate": "Genre 1=War<br>Genre 0=%{x}<br>Hours Viewed=%{y}<extra></extra>",
         "legendgroup": "War",
         "marker": {
          "color": "#636efa",
          "pattern": {
           "shape": ""
          }
         },
         "name": "War",
         "offsetgroup": "War",
         "orientation": "v",
         "showlegend": true,
         "textposition": "auto",
         "type": "bar",
         "x": [
          "Drama",
          "Documentary",
          "Action",
          "Biography",
          "Short",
          "Comedy",
          "Horror",
          "Sci-Fi",
          "History"
         ],
         "xaxis": "x",
         "y": [
          96200000,
          28100000,
          25400000,
          19700000,
          13800000,
          11000000,
          7600000,
          2600000,
          200000
         ],
         "yaxis": "y"
        },
        {
         "alignmentgroup": "True",
         "hovertemplate": "Genre 1=Biography<br>Genre 0=%{x}<br>Hours Viewed=%{y}<extra></extra>",
         "legendgroup": "Biography",
         "marker": {
          "color": "#EF553B",
          "pattern": {
           "shape": ""
          }
         },
         "name": "Biography",
         "offsetgroup": "Biography",
         "orientation": "v",
         "showlegend": true,
         "textposition": "auto",
         "type": "bar",
         "x": [
          "Adventure",
          "Action",
          "Animation"
         ],
         "xaxis": "x",
         "y": [
          92600000,
          76700000,
          15500000
         ],
         "yaxis": "y"
        },
        {
         "alignmentgroup": "True",
         "hovertemplate": "Genre 1=Game-Show<br>Genre 0=%{x}<br>Hours Viewed=%{y}<extra></extra>",
         "legendgroup": "Game-Show",
         "marker": {
          "color": "#00cc96",
          "pattern": {
           "shape": ""
          }
         },
         "name": "Game-Show",
         "offsetgroup": "Game-Show",
         "orientation": "v",
         "showlegend": true,
         "textposition": "auto",
         "type": "bar",
         "x": [
          "Comedy",
          "Adventure",
          "Family",
          "Documentary",
          "Animation",
          "Action"
         ],
         "xaxis": "x",
         "y": [
          84500000,
          78100000,
          29000000,
          8800000,
          3300000,
          1100000
         ],
         "yaxis": "y"
        },
        {
         "alignmentgroup": "True",
         "hovertemplate": "Genre 1=Musical<br>Genre 0=%{x}<br>Hours Viewed=%{y}<extra></extra>",
         "legendgroup": "Musical",
         "marker": {
          "color": "#ab63fa",
          "pattern": {
           "shape": ""
          }
         },
         "name": "Musical",
         "offsetgroup": "Musical",
         "orientation": "v",
         "showlegend": true,
         "textposition": "auto",
         "type": "bar",
         "x": [
          "Comedy",
          "Music",
          "Drama",
          "Crime",
          "Documentary",
          "Animation"
         ],
         "xaxis": "x",
         "y": [
          72200000,
          37200000,
          36800000,
          4800000,
          300000,
          300000
         ],
         "yaxis": "y"
        },
        {
         "alignmentgroup": "True",
         "hovertemplate": "Genre 1=Western<br>Genre 0=%{x}<br>Hours Viewed=%{y}<extra></extra>",
         "legendgroup": "Western",
         "marker": {
          "color": "#FFA15A",
          "pattern": {
           "shape": ""
          }
         },
         "name": "Western",
         "offsetgroup": "Western",
         "orientation": "v",
         "showlegend": true,
         "textposition": "auto",
         "type": "bar",
         "x": [
          "Short",
          "Adventure",
          "Drama",
          "Family",
          "Comedy",
          "Reality-TV",
          "Thriller",
          "Action",
          "Romance"
         ],
         "xaxis": "x",
         "y": [
          71300000,
          36000000,
          29600000,
          24900000,
          11900000,
          5200000,
          3900000,
          1900000,
          1800000
         ],
         "yaxis": "y"
        },
        {
         "alignmentgroup": "True",
         "hovertemplate": "Genre 1=Film-Noir<br>Genre 0=%{x}<br>Hours Viewed=%{y}<extra></extra>",
         "legendgroup": "Film-Noir",
         "marker": {
          "color": "#19d3f3",
          "pattern": {
           "shape": ""
          }
         },
         "name": "Film-Noir",
         "offsetgroup": "Film-Noir",
         "orientation": "v",
         "showlegend": true,
         "textposition": "auto",
         "type": "bar",
         "x": [
          "Drama",
          "Crime"
         ],
         "xaxis": "x",
         "y": [
          29000000,
          16200000
         ],
         "yaxis": "y"
        },
        {
         "alignmentgroup": "True",
         "hovertemplate": "Genre 1=Adult<br>Genre 0=%{x}<br>Hours Viewed=%{y}<extra></extra>",
         "legendgroup": "Adult",
         "marker": {
          "color": "#FF6692",
          "pattern": {
           "shape": ""
          }
         },
         "name": "Adult",
         "offsetgroup": "Adult",
         "orientation": "v",
         "showlegend": true,
         "textposition": "auto",
         "type": "bar",
         "x": [
          "Action"
         ],
         "xaxis": "x",
         "y": [
          8100000
         ],
         "yaxis": "y"
        }
       ],
       "layout": {
        "barmode": "relative",
        "height": 400,
        "legend": {
         "title": {
          "text": "Genre 1"
         },
         "tracegroupgap": 0
        },
        "template": {
         "data": {
          "bar": [
           {
            "error_x": {
             "color": "#2a3f5f"
            },
            "error_y": {
             "color": "#2a3f5f"
            },
            "marker": {
             "line": {
              "color": "#E5ECF6",
              "width": 0.5
             },
             "pattern": {
              "fillmode": "overlay",
              "size": 10,
              "solidity": 0.2
             }
            },
            "type": "bar"
           }
          ],
          "barpolar": [
           {
            "marker": {
             "line": {
              "color": "#E5ECF6",
              "width": 0.5
             },
             "pattern": {
              "fillmode": "overlay",
              "size": 10,
              "solidity": 0.2
             }
            },
            "type": "barpolar"
           }
          ],
          "carpet": [
           {
            "aaxis": {
             "endlinecolor": "#2a3f5f",
             "gridcolor": "white",
             "linecolor": "white",
             "minorgridcolor": "white",
             "startlinecolor": "#2a3f5f"
            },
            "baxis": {
             "endlinecolor": "#2a3f5f",
             "gridcolor": "white",
             "linecolor": "white",
             "minorgridcolor": "white",
             "startlinecolor": "#2a3f5f"
            },
            "type": "carpet"
           }
          ],
          "choropleth": [
           {
            "colorbar": {
             "outlinewidth": 0,
             "ticks": ""
            },
            "type": "choropleth"
           }
          ],
          "contour": [
           {
            "colorbar": {
             "outlinewidth": 0,
             "ticks": ""
            },
            "colorscale": [
             [
              0,
              "#0d0887"
             ],
             [
              0.1111111111111111,
              "#46039f"
             ],
             [
              0.2222222222222222,
              "#7201a8"
             ],
             [
              0.3333333333333333,
              "#9c179e"
             ],
             [
              0.4444444444444444,
              "#bd3786"
             ],
             [
              0.5555555555555556,
              "#d8576b"
             ],
             [
              0.6666666666666666,
              "#ed7953"
             ],
             [
              0.7777777777777778,
              "#fb9f3a"
             ],
             [
              0.8888888888888888,
              "#fdca26"
             ],
             [
              1,
              "#f0f921"
             ]
            ],
            "type": "contour"
           }
          ],
          "contourcarpet": [
           {
            "colorbar": {
             "outlinewidth": 0,
             "ticks": ""
            },
            "type": "contourcarpet"
           }
          ],
          "heatmap": [
           {
            "colorbar": {
             "outlinewidth": 0,
             "ticks": ""
            },
            "colorscale": [
             [
              0,
              "#0d0887"
             ],
             [
              0.1111111111111111,
              "#46039f"
             ],
             [
              0.2222222222222222,
              "#7201a8"
             ],
             [
              0.3333333333333333,
              "#9c179e"
             ],
             [
              0.4444444444444444,
              "#bd3786"
             ],
             [
              0.5555555555555556,
              "#d8576b"
             ],
             [
              0.6666666666666666,
              "#ed7953"
             ],
             [
              0.7777777777777778,
              "#fb9f3a"
             ],
             [
              0.8888888888888888,
              "#fdca26"
             ],
             [
              1,
              "#f0f921"
             ]
            ],
            "type": "heatmap"
           }
          ],
          "heatmapgl": [
           {
            "colorbar": {
             "outlinewidth": 0,
             "ticks": ""
            },
            "colorscale": [
             [
              0,
              "#0d0887"
             ],
             [
              0.1111111111111111,
              "#46039f"
             ],
             [
              0.2222222222222222,
              "#7201a8"
             ],
             [
              0.3333333333333333,
              "#9c179e"
             ],
             [
              0.4444444444444444,
              "#bd3786"
             ],
             [
              0.5555555555555556,
              "#d8576b"
             ],
             [
              0.6666666666666666,
              "#ed7953"
             ],
             [
              0.7777777777777778,
              "#fb9f3a"
             ],
             [
              0.8888888888888888,
              "#fdca26"
             ],
             [
              1,
              "#f0f921"
             ]
            ],
            "type": "heatmapgl"
           }
          ],
          "histogram": [
           {
            "marker": {
             "pattern": {
              "fillmode": "overlay",
              "size": 10,
              "solidity": 0.2
             }
            },
            "type": "histogram"
           }
          ],
          "histogram2d": [
           {
            "colorbar": {
             "outlinewidth": 0,
             "ticks": ""
            },
            "colorscale": [
             [
              0,
              "#0d0887"
             ],
             [
              0.1111111111111111,
              "#46039f"
             ],
             [
              0.2222222222222222,
              "#7201a8"
             ],
             [
              0.3333333333333333,
              "#9c179e"
             ],
             [
              0.4444444444444444,
              "#bd3786"
             ],
             [
              0.5555555555555556,
              "#d8576b"
             ],
             [
              0.6666666666666666,
              "#ed7953"
             ],
             [
              0.7777777777777778,
              "#fb9f3a"
             ],
             [
              0.8888888888888888,
              "#fdca26"
             ],
             [
              1,
              "#f0f921"
             ]
            ],
            "type": "histogram2d"
           }
          ],
          "histogram2dcontour": [
           {
            "colorbar": {
             "outlinewidth": 0,
             "ticks": ""
            },
            "colorscale": [
             [
              0,
              "#0d0887"
             ],
             [
              0.1111111111111111,
              "#46039f"
             ],
             [
              0.2222222222222222,
              "#7201a8"
             ],
             [
              0.3333333333333333,
              "#9c179e"
             ],
             [
              0.4444444444444444,
              "#bd3786"
             ],
             [
              0.5555555555555556,
              "#d8576b"
             ],
             [
              0.6666666666666666,
              "#ed7953"
             ],
             [
              0.7777777777777778,
              "#fb9f3a"
             ],
             [
              0.8888888888888888,
              "#fdca26"
             ],
             [
              1,
              "#f0f921"
             ]
            ],
            "type": "histogram2dcontour"
           }
          ],
          "mesh3d": [
           {
            "colorbar": {
             "outlinewidth": 0,
             "ticks": ""
            },
            "type": "mesh3d"
           }
          ],
          "parcoords": [
           {
            "line": {
             "colorbar": {
              "outlinewidth": 0,
              "ticks": ""
             }
            },
            "type": "parcoords"
           }
          ],
          "pie": [
           {
            "automargin": true,
            "type": "pie"
           }
          ],
          "scatter": [
           {
            "fillpattern": {
             "fillmode": "overlay",
             "size": 10,
             "solidity": 0.2
            },
            "type": "scatter"
           }
          ],
          "scatter3d": [
           {
            "line": {
             "colorbar": {
              "outlinewidth": 0,
              "ticks": ""
             }
            },
            "marker": {
             "colorbar": {
              "outlinewidth": 0,
              "ticks": ""
             }
            },
            "type": "scatter3d"
           }
          ],
          "scattercarpet": [
           {
            "marker": {
             "colorbar": {
              "outlinewidth": 0,
              "ticks": ""
             }
            },
            "type": "scattercarpet"
           }
          ],
          "scattergeo": [
           {
            "marker": {
             "colorbar": {
              "outlinewidth": 0,
              "ticks": ""
             }
            },
            "type": "scattergeo"
           }
          ],
          "scattergl": [
           {
            "marker": {
             "colorbar": {
              "outlinewidth": 0,
              "ticks": ""
             }
            },
            "type": "scattergl"
           }
          ],
          "scattermapbox": [
           {
            "marker": {
             "colorbar": {
              "outlinewidth": 0,
              "ticks": ""
             }
            },
            "type": "scattermapbox"
           }
          ],
          "scatterpolar": [
           {
            "marker": {
             "colorbar": {
              "outlinewidth": 0,
              "ticks": ""
             }
            },
            "type": "scatterpolar"
           }
          ],
          "scatterpolargl": [
           {
            "marker": {
             "colorbar": {
              "outlinewidth": 0,
              "ticks": ""
             }
            },
            "type": "scatterpolargl"
           }
          ],
          "scatterternary": [
           {
            "marker": {
             "colorbar": {
              "outlinewidth": 0,
              "ticks": ""
             }
            },
            "type": "scatterternary"
           }
          ],
          "surface": [
           {
            "colorbar": {
             "outlinewidth": 0,
             "ticks": ""
            },
            "colorscale": [
             [
              0,
              "#0d0887"
             ],
             [
              0.1111111111111111,
              "#46039f"
             ],
             [
              0.2222222222222222,
              "#7201a8"
             ],
             [
              0.3333333333333333,
              "#9c179e"
             ],
             [
              0.4444444444444444,
              "#bd3786"
             ],
             [
              0.5555555555555556,
              "#d8576b"
             ],
             [
              0.6666666666666666,
              "#ed7953"
             ],
             [
              0.7777777777777778,
              "#fb9f3a"
             ],
             [
              0.8888888888888888,
              "#fdca26"
             ],
             [
              1,
              "#f0f921"
             ]
            ],
            "type": "surface"
           }
          ],
          "table": [
           {
            "cells": {
             "fill": {
              "color": "#EBF0F8"
             },
             "line": {
              "color": "white"
             }
            },
            "header": {
             "fill": {
              "color": "#C8D4E3"
             },
             "line": {
              "color": "white"
             }
            },
            "type": "table"
           }
          ]
         },
         "layout": {
          "annotationdefaults": {
           "arrowcolor": "#2a3f5f",
           "arrowhead": 0,
           "arrowwidth": 1
          },
          "autotypenumbers": "strict",
          "coloraxis": {
           "colorbar": {
            "outlinewidth": 0,
            "ticks": ""
           }
          },
          "colorscale": {
           "diverging": [
            [
             0,
             "#8e0152"
            ],
            [
             0.1,
             "#c51b7d"
            ],
            [
             0.2,
             "#de77ae"
            ],
            [
             0.3,
             "#f1b6da"
            ],
            [
             0.4,
             "#fde0ef"
            ],
            [
             0.5,
             "#f7f7f7"
            ],
            [
             0.6,
             "#e6f5d0"
            ],
            [
             0.7,
             "#b8e186"
            ],
            [
             0.8,
             "#7fbc41"
            ],
            [
             0.9,
             "#4d9221"
            ],
            [
             1,
             "#276419"
            ]
           ],
           "sequential": [
            [
             0,
             "#0d0887"
            ],
            [
             0.1111111111111111,
             "#46039f"
            ],
            [
             0.2222222222222222,
             "#7201a8"
            ],
            [
             0.3333333333333333,
             "#9c179e"
            ],
            [
             0.4444444444444444,
             "#bd3786"
            ],
            [
             0.5555555555555556,
             "#d8576b"
            ],
            [
             0.6666666666666666,
             "#ed7953"
            ],
            [
             0.7777777777777778,
             "#fb9f3a"
            ],
            [
             0.8888888888888888,
             "#fdca26"
            ],
            [
             1,
             "#f0f921"
            ]
           ],
           "sequentialminus": [
            [
             0,
             "#0d0887"
            ],
            [
             0.1111111111111111,
             "#46039f"
            ],
            [
             0.2222222222222222,
             "#7201a8"
            ],
            [
             0.3333333333333333,
             "#9c179e"
            ],
            [
             0.4444444444444444,
             "#bd3786"
            ],
            [
             0.5555555555555556,
             "#d8576b"
            ],
            [
             0.6666666666666666,
             "#ed7953"
            ],
            [
             0.7777777777777778,
             "#fb9f3a"
            ],
            [
             0.8888888888888888,
             "#fdca26"
            ],
            [
             1,
             "#f0f921"
            ]
           ]
          },
          "colorway": [
           "#636efa",
           "#EF553B",
           "#00cc96",
           "#ab63fa",
           "#FFA15A",
           "#19d3f3",
           "#FF6692",
           "#B6E880",
           "#FF97FF",
           "#FECB52"
          ],
          "font": {
           "color": "#2a3f5f"
          },
          "geo": {
           "bgcolor": "white",
           "lakecolor": "white",
           "landcolor": "#E5ECF6",
           "showlakes": true,
           "showland": true,
           "subunitcolor": "white"
          },
          "hoverlabel": {
           "align": "left"
          },
          "hovermode": "closest",
          "mapbox": {
           "style": "light"
          },
          "paper_bgcolor": "white",
          "plot_bgcolor": "#E5ECF6",
          "polar": {
           "angularaxis": {
            "gridcolor": "white",
            "linecolor": "white",
            "ticks": ""
           },
           "bgcolor": "#E5ECF6",
           "radialaxis": {
            "gridcolor": "white",
            "linecolor": "white",
            "ticks": ""
           }
          },
          "scene": {
           "xaxis": {
            "backgroundcolor": "#E5ECF6",
            "gridcolor": "white",
            "gridwidth": 2,
            "linecolor": "white",
            "showbackground": true,
            "ticks": "",
            "zerolinecolor": "white"
           },
           "yaxis": {
            "backgroundcolor": "#E5ECF6",
            "gridcolor": "white",
            "gridwidth": 2,
            "linecolor": "white",
            "showbackground": true,
            "ticks": "",
            "zerolinecolor": "white"
           },
           "zaxis": {
            "backgroundcolor": "#E5ECF6",
            "gridcolor": "white",
            "gridwidth": 2,
            "linecolor": "white",
            "showbackground": true,
            "ticks": "",
            "zerolinecolor": "white"
           }
          },
          "shapedefaults": {
           "line": {
            "color": "#2a3f5f"
           }
          },
          "ternary": {
           "aaxis": {
            "gridcolor": "white",
            "linecolor": "white",
            "ticks": ""
           },
           "baxis": {
            "gridcolor": "white",
            "linecolor": "white",
            "ticks": ""
           },
           "bgcolor": "#E5ECF6",
           "caxis": {
            "gridcolor": "white",
            "linecolor": "white",
            "ticks": ""
           }
          },
          "title": {
           "x": 0.05
          },
          "xaxis": {
           "automargin": true,
           "gridcolor": "white",
           "linecolor": "white",
           "ticks": "",
           "title": {
            "standoff": 15
           },
           "zerolinecolor": "white",
           "zerolinewidth": 2
          },
          "yaxis": {
           "automargin": true,
           "gridcolor": "white",
           "linecolor": "white",
           "ticks": "",
           "title": {
            "standoff": 15
           },
           "zerolinecolor": "white",
           "zerolinewidth": 2
          }
         }
        },
        "title": {
         "text": "Hours Viewed by Genre"
        },
        "width": 800,
        "xaxis": {
         "anchor": "y",
         "domain": [
          0,
          1
         ],
         "title": {
          "text": "Genre 0"
         }
        },
        "yaxis": {
         "anchor": "x",
         "domain": [
          0,
          1
         ],
         "title": {
          "text": "Hours Viewed"
         }
        }
       }
      }
     },
     "metadata": {},
     "output_type": "display_data"
    }
   ],
   "source": [
    "# Use 'plotly' to create a visualization of the Hours Viewed by 'genre_0' and 'genre_1'. Use a stacked bar chart\n",
    "# Think of the steps required to create the visualization\n",
    "# Begin by grouping the data by 'genre_0' and 'genre_1' and sum the 'Hours Viewed' column. \n",
    "# Sort the resulting DataFrame by Hours Viewed for 'genre_0' and 'genre_1' in descending order\n",
    "# Plot the stacked bar chart\n",
    "# Use 'genre_0' for the x-axis and 'Hours Viewed' for the y-axis\n",
    "# Use 'genre_1' for the color\n",
    "# Add labels and title\n",
    "# Set the figsize=(12, 8))\n",
    "# Show the plot\n",
    "\n",
    "import plotly.express as px\n",
    "\n",
    "# Assuming 'df' is your DataFrame and it has columns 'genre_0', 'genre_1', and 'Hours Viewed'\n",
    "grouped_df = netflix_imdb.groupby(['genre_0', 'genre_1'])['Hours Viewed'].sum().reset_index()\n",
    "\n",
    "# Sort the DataFrame\n",
    "sorted_df = grouped_df.sort_values(by='Hours Viewed', ascending=False)\n",
    "\n",
    "# Create the plot\n",
    "fig = px.bar(sorted_df, x='genre_0', y='Hours Viewed', color='genre_1', title='Hours Viewed by Genre',\n",
    "             labels={'genre_0':'Genre 0', 'Hours Viewed':'Hours Viewed', 'genre_1':'Genre 1'}, \n",
    "             height=400, width=800)\n",
    "\n",
    "# Show the plot\n",
    "fig.show()"
   ]
  },
  {
   "cell_type": "code",
   "execution_count": 28,
   "metadata": {},
   "outputs": [
    {
     "data": {
      "application/vnd.plotly.v1+json": {
       "config": {
        "plotlyServerURL": "https://plot.ly"
       },
       "data": [
        {
         "alignmentgroup": "True",
         "hovertemplate": "Genre 1=Adventure<br>Genre 0=%{x}<br>Hours Viewed=%{y}<extra></extra>",
         "legendgroup": "Adventure",
         "marker": {
          "color": "#636efa",
          "pattern": {
           "shape": ""
          }
         },
         "name": "Adventure",
         "offsetgroup": "Adventure",
         "orientation": "v",
         "showlegend": true,
         "textposition": "auto",
         "type": "bar",
         "x": [
          "Action"
         ],
         "xaxis": "x",
         "y": [
          2126200000
         ],
         "yaxis": "y"
        },
        {
         "alignmentgroup": "True",
         "hovertemplate": "Genre 1=Animation<br>Genre 0=%{x}<br>Hours Viewed=%{y}<extra></extra>",
         "legendgroup": "Animation",
         "marker": {
          "color": "#EF553B",
          "pattern": {
           "shape": ""
          }
         },
         "name": "Animation",
         "offsetgroup": "Animation",
         "orientation": "v",
         "showlegend": true,
         "textposition": "auto",
         "type": "bar",
         "x": [
          "Adventure",
          "Action"
         ],
         "xaxis": "x",
         "y": [
          1481400000,
          14600000
         ],
         "yaxis": "y"
        },
        {
         "alignmentgroup": "True",
         "hovertemplate": "Genre 1=Drama<br>Genre 0=%{x}<br>Hours Viewed=%{y}<extra></extra>",
         "legendgroup": "Drama",
         "marker": {
          "color": "#00cc96",
          "pattern": {
           "shape": ""
          }
         },
         "name": "Drama",
         "offsetgroup": "Drama",
         "orientation": "v",
         "showlegend": true,
         "textposition": "auto",
         "type": "bar",
         "x": [
          "Comedy",
          "Crime",
          "Action",
          "Biography",
          "Adventure",
          "Documentary",
          "Animation",
          "Adult"
         ],
         "xaxis": "x",
         "y": [
          1449700000,
          988000000,
          834200000,
          472700000,
          225200000,
          67900000,
          3200000,
          800000
         ],
         "yaxis": "y"
        },
        {
         "alignmentgroup": "True",
         "hovertemplate": "Genre 1=Thriller<br>Genre 0=%{x}<br>Hours Viewed=%{y}<extra></extra>",
         "legendgroup": "Thriller",
         "marker": {
          "color": "#ab63fa",
          "pattern": {
           "shape": ""
          }
         },
         "name": "Thriller",
         "offsetgroup": "Thriller",
         "orientation": "v",
         "showlegend": true,
         "textposition": "auto",
         "type": "bar",
         "x": [
          "Action",
          "Horror",
          "Drama",
          "Crime",
          "Mystery",
          "Sci-Fi",
          "Comedy",
          "Romance"
         ],
         "xaxis": "x",
         "y": [
          1089500000,
          145800000,
          136500000,
          83700000,
          72200000,
          49600000,
          18600000,
          3600000
         ],
         "yaxis": "y"
        },
        {
         "alignmentgroup": "True",
         "hovertemplate": "Genre 1=Crime<br>Genre 0=%{x}<br>Hours Viewed=%{y}<extra></extra>",
         "legendgroup": "Crime",
         "marker": {
          "color": "#FFA15A",
          "pattern": {
           "shape": ""
          }
         },
         "name": "Crime",
         "offsetgroup": "Crime",
         "orientation": "v",
         "showlegend": true,
         "textposition": "auto",
         "type": "bar",
         "x": [
          "Action",
          "Comedy",
          "Biography",
          "Adult",
          "Adventure"
         ],
         "xaxis": "x",
         "y": [
          1054600000,
          227800000,
          219100000,
          7800000,
          2600000
         ],
         "yaxis": "y"
        },
        {
         "alignmentgroup": "True",
         "hovertemplate": "Genre 1=Comedy<br>Genre 0=%{x}<br>Hours Viewed=%{y}<extra></extra>",
         "legendgroup": "Comedy",
         "marker": {
          "color": "#19d3f3",
          "pattern": {
           "shape": ""
          }
         },
         "name": "Comedy",
         "offsetgroup": "Comedy",
         "orientation": "v",
         "showlegend": true,
         "textposition": "auto",
         "type": "bar",
         "x": [
          "Action",
          "Adventure",
          "Animation",
          "Biography",
          "Adult"
         ],
         "xaxis": "x",
         "y": [
          1007700000,
          400800000,
          61100000,
          59200000,
          8700000
         ],
         "yaxis": "y"
        },
        {
         "alignmentgroup": "True",
         "hovertemplate": "Genre 1=Romance<br>Genre 0=%{x}<br>Hours Viewed=%{y}<extra></extra>",
         "legendgroup": "Romance",
         "marker": {
          "color": "#FF6692",
          "pattern": {
           "shape": ""
          }
         },
         "name": "Romance",
         "offsetgroup": "Romance",
         "orientation": "v",
         "showlegend": true,
         "textposition": "auto",
         "type": "bar",
         "x": [
          "Drama",
          "Comedy",
          "Action",
          "Documentary",
          "Adventure",
          "History",
          "Family",
          "Adult",
          "Fantasy",
          "Horror",
          "Music",
          "Musical"
         ],
         "xaxis": "x",
         "y": [
          976600000,
          920300000,
          25300000,
          7300000,
          6200000,
          6100000,
          2600000,
          1200000,
          300000,
          300000,
          300000,
          300000
         ],
         "yaxis": "y"
        },
        {
         "alignmentgroup": "True",
         "hovertemplate": "Genre 1=Horror<br>Genre 0=%{x}<br>Hours Viewed=%{y}<extra></extra>",
         "legendgroup": "Horror",
         "marker": {
          "color": "#B6E880",
          "pattern": {
           "shape": ""
          }
         },
         "name": "Horror",
         "offsetgroup": "Horror",
         "orientation": "v",
         "showlegend": true,
         "textposition": "auto",
         "type": "bar",
         "x": [
          "Drama",
          "Crime",
          "Action",
          "Comedy",
          "Fantasy",
          "Adventure",
          "History",
          "Adult"
         ],
         "xaxis": "x",
         "y": [
          390100000,
          143700000,
          88700000,
          67000000,
          18400000,
          13700000,
          5500000,
          300000
         ],
         "yaxis": "y"
        },
        {
         "alignmentgroup": "True",
         "hovertemplate": "Genre 1=Mystery<br>Genre 0=%{x}<br>Hours Viewed=%{y}<extra></extra>",
         "legendgroup": "Mystery",
         "marker": {
          "color": "#FF97FF",
          "pattern": {
           "shape": ""
          }
         },
         "name": "Mystery",
         "offsetgroup": "Mystery",
         "orientation": "v",
         "showlegend": true,
         "textposition": "auto",
         "type": "bar",
         "x": [
          "Drama",
          "Horror",
          "Action",
          "Crime",
          "Comedy",
          "Adventure",
          "Fantasy"
         ],
         "xaxis": "x",
         "y": [
          264000000,
          192300000,
          62300000,
          41500000,
          6200000,
          4500000,
          3800000
         ],
         "yaxis": "y"
        },
        {
         "alignmentgroup": "True",
         "hovertemplate": "Genre 1=Family<br>Genre 0=%{x}<br>Hours Viewed=%{y}<extra></extra>",
         "legendgroup": "Family",
         "marker": {
          "color": "#FECB52",
          "pattern": {
           "shape": ""
          }
         },
         "name": "Family",
         "offsetgroup": "Family",
         "orientation": "v",
         "showlegend": true,
         "textposition": "auto",
         "type": "bar",
         "x": [
          "Comedy",
          "Drama",
          "Adventure",
          "Animation",
          "Documentary",
          "Action"
         ],
         "xaxis": "x",
         "y": [
          257900000,
          138100000,
          124900000,
          22800000,
          10000000,
          2400000
         ],
         "yaxis": "y"
        },
        {
         "alignmentgroup": "True",
         "hovertemplate": "Genre 1=Music<br>Genre 0=%{x}<br>Hours Viewed=%{y}<extra></extra>",
         "legendgroup": "Music",
         "marker": {
          "color": "#636efa",
          "pattern": {
           "shape": ""
          }
         },
         "name": "Music",
         "offsetgroup": "Music",
         "orientation": "v",
         "showlegend": true,
         "textposition": "auto",
         "type": "bar",
         "x": [
          "Drama",
          "Documentary",
          "Comedy",
          "Adventure",
          "Biography"
         ],
         "xaxis": "x",
         "y": [
          126400000,
          72900000,
          71400000,
          4400000,
          400000
         ],
         "yaxis": "y"
        },
        {
         "alignmentgroup": "True",
         "hovertemplate": "Genre 1=Documentary<br>Genre 0=%{x}<br>Hours Viewed=%{y}<extra></extra>",
         "legendgroup": "Documentary",
         "marker": {
          "color": "#EF553B",
          "pattern": {
           "shape": ""
          }
         },
         "name": "Documentary",
         "offsetgroup": "Documentary",
         "orientation": "v",
         "showlegend": true,
         "textposition": "auto",
         "type": "bar",
         "x": [
          "Crime",
          "Biography",
          "Comedy",
          "Adventure",
          "Action"
         ],
         "xaxis": "x",
         "y": [
          116300000,
          97900000,
          36200000,
          19200000,
          800000
         ],
         "yaxis": "y"
        },
        {
         "alignmentgroup": "True",
         "hovertemplate": "Genre 1=Fantasy<br>Genre 0=%{x}<br>Hours Viewed=%{y}<extra></extra>",
         "legendgroup": "Fantasy",
         "marker": {
          "color": "#00cc96",
          "pattern": {
           "shape": ""
          }
         },
         "name": "Fantasy",
         "offsetgroup": "Fantasy",
         "orientation": "v",
         "showlegend": true,
         "textposition": "auto",
         "type": "bar",
         "x": [
          "Comedy",
          "Drama",
          "Action",
          "Family",
          "Adventure"
         ],
         "xaxis": "x",
         "y": [
          107100000,
          96200000,
          39400000,
          7000000,
          5500000
         ],
         "yaxis": "y"
        },
        {
         "alignmentgroup": "True",
         "hovertemplate": "Genre 1=Sci-Fi<br>Genre 0=%{x}<br>Hours Viewed=%{y}<extra></extra>",
         "legendgroup": "Sci-Fi",
         "marker": {
          "color": "#ab63fa",
          "pattern": {
           "shape": ""
          }
         },
         "name": "Sci-Fi",
         "offsetgroup": "Sci-Fi",
         "orientation": "v",
         "showlegend": true,
         "textposition": "auto",
         "type": "bar",
         "x": [
          "Action",
          "Fantasy",
          "Horror",
          "Drama",
          "Adventure",
          "Comedy",
          "Mystery",
          "Animation",
          "Romance"
         ],
         "xaxis": "x",
         "y": [
          90400000,
          20000000,
          10200000,
          8900000,
          8500000,
          7300000,
          3200000,
          600000,
          200000
         ],
         "yaxis": "y"
        },
        {
         "alignmentgroup": "True",
         "hovertemplate": "Genre 1=Biography<br>Genre 0=%{x}<br>Hours Viewed=%{y}<extra></extra>",
         "legendgroup": "Biography",
         "marker": {
          "color": "#FFA15A",
          "pattern": {
           "shape": ""
          }
         },
         "name": "Biography",
         "offsetgroup": "Biography",
         "orientation": "v",
         "showlegend": true,
         "textposition": "auto",
         "type": "bar",
         "x": [
          "Adventure",
          "Action"
         ],
         "xaxis": "x",
         "y": [
          85000000,
          70300000
         ],
         "yaxis": "y"
        },
        {
         "alignmentgroup": "True",
         "hovertemplate": "Genre 1=War<br>Genre 0=%{x}<br>Hours Viewed=%{y}<extra></extra>",
         "legendgroup": "War",
         "marker": {
          "color": "#19d3f3",
          "pattern": {
           "shape": ""
          }
         },
         "name": "War",
         "offsetgroup": "War",
         "orientation": "v",
         "showlegend": true,
         "textposition": "auto",
         "type": "bar",
         "x": [
          "Drama",
          "Documentary",
          "Comedy",
          "History"
         ],
         "xaxis": "x",
         "y": [
          76700000,
          11200000,
          600000,
          100000
         ],
         "yaxis": "y"
        },
        {
         "alignmentgroup": "True",
         "hovertemplate": "Genre 1=Sport<br>Genre 0=%{x}<br>Hours Viewed=%{y}<extra></extra>",
         "legendgroup": "Sport",
         "marker": {
          "color": "#FF6692",
          "pattern": {
           "shape": ""
          }
         },
         "name": "Sport",
         "offsetgroup": "Sport",
         "orientation": "v",
         "showlegend": true,
         "textposition": "auto",
         "type": "bar",
         "x": [
          "Drama",
          "Comedy",
          "Documentary",
          "History",
          "Family",
          "Action"
         ],
         "xaxis": "x",
         "y": [
          52900000,
          34400000,
          9300000,
          4100000,
          4100000,
          3800000
         ],
         "yaxis": "y"
        },
        {
         "alignmentgroup": "True",
         "hovertemplate": "Genre 1=History<br>Genre 0=%{x}<br>Hours Viewed=%{y}<extra></extra>",
         "legendgroup": "History",
         "marker": {
          "color": "#B6E880",
          "pattern": {
           "shape": ""
          }
         },
         "name": "History",
         "offsetgroup": "History",
         "orientation": "v",
         "showlegend": true,
         "textposition": "auto",
         "type": "bar",
         "x": [
          "Drama",
          "Documentary",
          "Comedy",
          "Adventure",
          "Action",
          "Biography"
         ],
         "xaxis": "x",
         "y": [
          49600000,
          43900000,
          8000000,
          200000,
          100000,
          100000
         ],
         "yaxis": "y"
        },
        {
         "alignmentgroup": "True",
         "hovertemplate": "Genre 1=Musical<br>Genre 0=%{x}<br>Hours Viewed=%{y}<extra></extra>",
         "legendgroup": "Musical",
         "marker": {
          "color": "#FF97FF",
          "pattern": {
           "shape": ""
          }
         },
         "name": "Musical",
         "offsetgroup": "Musical",
         "orientation": "v",
         "showlegend": true,
         "textposition": "auto",
         "type": "bar",
         "x": [
          "Comedy",
          "Crime",
          "Drama"
         ],
         "xaxis": "x",
         "y": [
          32500000,
          4800000,
          2600000
         ],
         "yaxis": "y"
        },
        {
         "alignmentgroup": "True",
         "hovertemplate": "Genre 1=Western<br>Genre 0=%{x}<br>Hours Viewed=%{y}<extra></extra>",
         "legendgroup": "Western",
         "marker": {
          "color": "#FECB52",
          "pattern": {
           "shape": ""
          }
         },
         "name": "Western",
         "offsetgroup": "Western",
         "orientation": "v",
         "showlegend": true,
         "textposition": "auto",
         "type": "bar",
         "x": [
          "Drama",
          "Thriller",
          "Adventure",
          "Comedy",
          "Action",
          "Romance"
         ],
         "xaxis": "x",
         "y": [
          29200000,
          3900000,
          3300000,
          3300000,
          1900000,
          1800000
         ],
         "yaxis": "y"
        },
        {
         "alignmentgroup": "True",
         "hovertemplate": "Genre 1=Film-Noir<br>Genre 0=%{x}<br>Hours Viewed=%{y}<extra></extra>",
         "legendgroup": "Film-Noir",
         "marker": {
          "color": "#636efa",
          "pattern": {
           "shape": ""
          }
         },
         "name": "Film-Noir",
         "offsetgroup": "Film-Noir",
         "orientation": "v",
         "showlegend": true,
         "textposition": "auto",
         "type": "bar",
         "x": [
          "Drama",
          "Crime"
         ],
         "xaxis": "x",
         "y": [
          29000000,
          16200000
         ],
         "yaxis": "y"
        },
        {
         "alignmentgroup": "True",
         "hovertemplate": "Genre 1=Adult<br>Genre 0=%{x}<br>Hours Viewed=%{y}<extra></extra>",
         "legendgroup": "Adult",
         "marker": {
          "color": "#EF553B",
          "pattern": {
           "shape": ""
          }
         },
         "name": "Adult",
         "offsetgroup": "Adult",
         "orientation": "v",
         "showlegend": true,
         "textposition": "auto",
         "type": "bar",
         "x": [
          "Action"
         ],
         "xaxis": "x",
         "y": [
          3900000
         ],
         "yaxis": "y"
        },
        {
         "alignmentgroup": "True",
         "hovertemplate": "Genre 1=News<br>Genre 0=%{x}<br>Hours Viewed=%{y}<extra></extra>",
         "legendgroup": "News",
         "marker": {
          "color": "#00cc96",
          "pattern": {
           "shape": ""
          }
         },
         "name": "News",
         "offsetgroup": "News",
         "orientation": "v",
         "showlegend": true,
         "textposition": "auto",
         "type": "bar",
         "x": [
          "Documentary"
         ],
         "xaxis": "x",
         "y": [
          1100000
         ],
         "yaxis": "y"
        }
       ],
       "layout": {
        "barmode": "relative",
        "height": 400,
        "legend": {
         "title": {
          "text": "Genre 1"
         },
         "tracegroupgap": 0
        },
        "template": {
         "data": {
          "bar": [
           {
            "error_x": {
             "color": "#2a3f5f"
            },
            "error_y": {
             "color": "#2a3f5f"
            },
            "marker": {
             "line": {
              "color": "#E5ECF6",
              "width": 0.5
             },
             "pattern": {
              "fillmode": "overlay",
              "size": 10,
              "solidity": 0.2
             }
            },
            "type": "bar"
           }
          ],
          "barpolar": [
           {
            "marker": {
             "line": {
              "color": "#E5ECF6",
              "width": 0.5
             },
             "pattern": {
              "fillmode": "overlay",
              "size": 10,
              "solidity": 0.2
             }
            },
            "type": "barpolar"
           }
          ],
          "carpet": [
           {
            "aaxis": {
             "endlinecolor": "#2a3f5f",
             "gridcolor": "white",
             "linecolor": "white",
             "minorgridcolor": "white",
             "startlinecolor": "#2a3f5f"
            },
            "baxis": {
             "endlinecolor": "#2a3f5f",
             "gridcolor": "white",
             "linecolor": "white",
             "minorgridcolor": "white",
             "startlinecolor": "#2a3f5f"
            },
            "type": "carpet"
           }
          ],
          "choropleth": [
           {
            "colorbar": {
             "outlinewidth": 0,
             "ticks": ""
            },
            "type": "choropleth"
           }
          ],
          "contour": [
           {
            "colorbar": {
             "outlinewidth": 0,
             "ticks": ""
            },
            "colorscale": [
             [
              0,
              "#0d0887"
             ],
             [
              0.1111111111111111,
              "#46039f"
             ],
             [
              0.2222222222222222,
              "#7201a8"
             ],
             [
              0.3333333333333333,
              "#9c179e"
             ],
             [
              0.4444444444444444,
              "#bd3786"
             ],
             [
              0.5555555555555556,
              "#d8576b"
             ],
             [
              0.6666666666666666,
              "#ed7953"
             ],
             [
              0.7777777777777778,
              "#fb9f3a"
             ],
             [
              0.8888888888888888,
              "#fdca26"
             ],
             [
              1,
              "#f0f921"
             ]
            ],
            "type": "contour"
           }
          ],
          "contourcarpet": [
           {
            "colorbar": {
             "outlinewidth": 0,
             "ticks": ""
            },
            "type": "contourcarpet"
           }
          ],
          "heatmap": [
           {
            "colorbar": {
             "outlinewidth": 0,
             "ticks": ""
            },
            "colorscale": [
             [
              0,
              "#0d0887"
             ],
             [
              0.1111111111111111,
              "#46039f"
             ],
             [
              0.2222222222222222,
              "#7201a8"
             ],
             [
              0.3333333333333333,
              "#9c179e"
             ],
             [
              0.4444444444444444,
              "#bd3786"
             ],
             [
              0.5555555555555556,
              "#d8576b"
             ],
             [
              0.6666666666666666,
              "#ed7953"
             ],
             [
              0.7777777777777778,
              "#fb9f3a"
             ],
             [
              0.8888888888888888,
              "#fdca26"
             ],
             [
              1,
              "#f0f921"
             ]
            ],
            "type": "heatmap"
           }
          ],
          "heatmapgl": [
           {
            "colorbar": {
             "outlinewidth": 0,
             "ticks": ""
            },
            "colorscale": [
             [
              0,
              "#0d0887"
             ],
             [
              0.1111111111111111,
              "#46039f"
             ],
             [
              0.2222222222222222,
              "#7201a8"
             ],
             [
              0.3333333333333333,
              "#9c179e"
             ],
             [
              0.4444444444444444,
              "#bd3786"
             ],
             [
              0.5555555555555556,
              "#d8576b"
             ],
             [
              0.6666666666666666,
              "#ed7953"
             ],
             [
              0.7777777777777778,
              "#fb9f3a"
             ],
             [
              0.8888888888888888,
              "#fdca26"
             ],
             [
              1,
              "#f0f921"
             ]
            ],
            "type": "heatmapgl"
           }
          ],
          "histogram": [
           {
            "marker": {
             "pattern": {
              "fillmode": "overlay",
              "size": 10,
              "solidity": 0.2
             }
            },
            "type": "histogram"
           }
          ],
          "histogram2d": [
           {
            "colorbar": {
             "outlinewidth": 0,
             "ticks": ""
            },
            "colorscale": [
             [
              0,
              "#0d0887"
             ],
             [
              0.1111111111111111,
              "#46039f"
             ],
             [
              0.2222222222222222,
              "#7201a8"
             ],
             [
              0.3333333333333333,
              "#9c179e"
             ],
             [
              0.4444444444444444,
              "#bd3786"
             ],
             [
              0.5555555555555556,
              "#d8576b"
             ],
             [
              0.6666666666666666,
              "#ed7953"
             ],
             [
              0.7777777777777778,
              "#fb9f3a"
             ],
             [
              0.8888888888888888,
              "#fdca26"
             ],
             [
              1,
              "#f0f921"
             ]
            ],
            "type": "histogram2d"
           }
          ],
          "histogram2dcontour": [
           {
            "colorbar": {
             "outlinewidth": 0,
             "ticks": ""
            },
            "colorscale": [
             [
              0,
              "#0d0887"
             ],
             [
              0.1111111111111111,
              "#46039f"
             ],
             [
              0.2222222222222222,
              "#7201a8"
             ],
             [
              0.3333333333333333,
              "#9c179e"
             ],
             [
              0.4444444444444444,
              "#bd3786"
             ],
             [
              0.5555555555555556,
              "#d8576b"
             ],
             [
              0.6666666666666666,
              "#ed7953"
             ],
             [
              0.7777777777777778,
              "#fb9f3a"
             ],
             [
              0.8888888888888888,
              "#fdca26"
             ],
             [
              1,
              "#f0f921"
             ]
            ],
            "type": "histogram2dcontour"
           }
          ],
          "mesh3d": [
           {
            "colorbar": {
             "outlinewidth": 0,
             "ticks": ""
            },
            "type": "mesh3d"
           }
          ],
          "parcoords": [
           {
            "line": {
             "colorbar": {
              "outlinewidth": 0,
              "ticks": ""
             }
            },
            "type": "parcoords"
           }
          ],
          "pie": [
           {
            "automargin": true,
            "type": "pie"
           }
          ],
          "scatter": [
           {
            "fillpattern": {
             "fillmode": "overlay",
             "size": 10,
             "solidity": 0.2
            },
            "type": "scatter"
           }
          ],
          "scatter3d": [
           {
            "line": {
             "colorbar": {
              "outlinewidth": 0,
              "ticks": ""
             }
            },
            "marker": {
             "colorbar": {
              "outlinewidth": 0,
              "ticks": ""
             }
            },
            "type": "scatter3d"
           }
          ],
          "scattercarpet": [
           {
            "marker": {
             "colorbar": {
              "outlinewidth": 0,
              "ticks": ""
             }
            },
            "type": "scattercarpet"
           }
          ],
          "scattergeo": [
           {
            "marker": {
             "colorbar": {
              "outlinewidth": 0,
              "ticks": ""
             }
            },
            "type": "scattergeo"
           }
          ],
          "scattergl": [
           {
            "marker": {
             "colorbar": {
              "outlinewidth": 0,
              "ticks": ""
             }
            },
            "type": "scattergl"
           }
          ],
          "scattermapbox": [
           {
            "marker": {
             "colorbar": {
              "outlinewidth": 0,
              "ticks": ""
             }
            },
            "type": "scattermapbox"
           }
          ],
          "scatterpolar": [
           {
            "marker": {
             "colorbar": {
              "outlinewidth": 0,
              "ticks": ""
             }
            },
            "type": "scatterpolar"
           }
          ],
          "scatterpolargl": [
           {
            "marker": {
             "colorbar": {
              "outlinewidth": 0,
              "ticks": ""
             }
            },
            "type": "scatterpolargl"
           }
          ],
          "scatterternary": [
           {
            "marker": {
             "colorbar": {
              "outlinewidth": 0,
              "ticks": ""
             }
            },
            "type": "scatterternary"
           }
          ],
          "surface": [
           {
            "colorbar": {
             "outlinewidth": 0,
             "ticks": ""
            },
            "colorscale": [
             [
              0,
              "#0d0887"
             ],
             [
              0.1111111111111111,
              "#46039f"
             ],
             [
              0.2222222222222222,
              "#7201a8"
             ],
             [
              0.3333333333333333,
              "#9c179e"
             ],
             [
              0.4444444444444444,
              "#bd3786"
             ],
             [
              0.5555555555555556,
              "#d8576b"
             ],
             [
              0.6666666666666666,
              "#ed7953"
             ],
             [
              0.7777777777777778,
              "#fb9f3a"
             ],
             [
              0.8888888888888888,
              "#fdca26"
             ],
             [
              1,
              "#f0f921"
             ]
            ],
            "type": "surface"
           }
          ],
          "table": [
           {
            "cells": {
             "fill": {
              "color": "#EBF0F8"
             },
             "line": {
              "color": "white"
             }
            },
            "header": {
             "fill": {
              "color": "#C8D4E3"
             },
             "line": {
              "color": "white"
             }
            },
            "type": "table"
           }
          ]
         },
         "layout": {
          "annotationdefaults": {
           "arrowcolor": "#2a3f5f",
           "arrowhead": 0,
           "arrowwidth": 1
          },
          "autotypenumbers": "strict",
          "coloraxis": {
           "colorbar": {
            "outlinewidth": 0,
            "ticks": ""
           }
          },
          "colorscale": {
           "diverging": [
            [
             0,
             "#8e0152"
            ],
            [
             0.1,
             "#c51b7d"
            ],
            [
             0.2,
             "#de77ae"
            ],
            [
             0.3,
             "#f1b6da"
            ],
            [
             0.4,
             "#fde0ef"
            ],
            [
             0.5,
             "#f7f7f7"
            ],
            [
             0.6,
             "#e6f5d0"
            ],
            [
             0.7,
             "#b8e186"
            ],
            [
             0.8,
             "#7fbc41"
            ],
            [
             0.9,
             "#4d9221"
            ],
            [
             1,
             "#276419"
            ]
           ],
           "sequential": [
            [
             0,
             "#0d0887"
            ],
            [
             0.1111111111111111,
             "#46039f"
            ],
            [
             0.2222222222222222,
             "#7201a8"
            ],
            [
             0.3333333333333333,
             "#9c179e"
            ],
            [
             0.4444444444444444,
             "#bd3786"
            ],
            [
             0.5555555555555556,
             "#d8576b"
            ],
            [
             0.6666666666666666,
             "#ed7953"
            ],
            [
             0.7777777777777778,
             "#fb9f3a"
            ],
            [
             0.8888888888888888,
             "#fdca26"
            ],
            [
             1,
             "#f0f921"
            ]
           ],
           "sequentialminus": [
            [
             0,
             "#0d0887"
            ],
            [
             0.1111111111111111,
             "#46039f"
            ],
            [
             0.2222222222222222,
             "#7201a8"
            ],
            [
             0.3333333333333333,
             "#9c179e"
            ],
            [
             0.4444444444444444,
             "#bd3786"
            ],
            [
             0.5555555555555556,
             "#d8576b"
            ],
            [
             0.6666666666666666,
             "#ed7953"
            ],
            [
             0.7777777777777778,
             "#fb9f3a"
            ],
            [
             0.8888888888888888,
             "#fdca26"
            ],
            [
             1,
             "#f0f921"
            ]
           ]
          },
          "colorway": [
           "#636efa",
           "#EF553B",
           "#00cc96",
           "#ab63fa",
           "#FFA15A",
           "#19d3f3",
           "#FF6692",
           "#B6E880",
           "#FF97FF",
           "#FECB52"
          ],
          "font": {
           "color": "#2a3f5f"
          },
          "geo": {
           "bgcolor": "white",
           "lakecolor": "white",
           "landcolor": "#E5ECF6",
           "showlakes": true,
           "showland": true,
           "subunitcolor": "white"
          },
          "hoverlabel": {
           "align": "left"
          },
          "hovermode": "closest",
          "mapbox": {
           "style": "light"
          },
          "paper_bgcolor": "white",
          "plot_bgcolor": "#E5ECF6",
          "polar": {
           "angularaxis": {
            "gridcolor": "white",
            "linecolor": "white",
            "ticks": ""
           },
           "bgcolor": "#E5ECF6",
           "radialaxis": {
            "gridcolor": "white",
            "linecolor": "white",
            "ticks": ""
           }
          },
          "scene": {
           "xaxis": {
            "backgroundcolor": "#E5ECF6",
            "gridcolor": "white",
            "gridwidth": 2,
            "linecolor": "white",
            "showbackground": true,
            "ticks": "",
            "zerolinecolor": "white"
           },
           "yaxis": {
            "backgroundcolor": "#E5ECF6",
            "gridcolor": "white",
            "gridwidth": 2,
            "linecolor": "white",
            "showbackground": true,
            "ticks": "",
            "zerolinecolor": "white"
           },
           "zaxis": {
            "backgroundcolor": "#E5ECF6",
            "gridcolor": "white",
            "gridwidth": 2,
            "linecolor": "white",
            "showbackground": true,
            "ticks": "",
            "zerolinecolor": "white"
           }
          },
          "shapedefaults": {
           "line": {
            "color": "#2a3f5f"
           }
          },
          "ternary": {
           "aaxis": {
            "gridcolor": "white",
            "linecolor": "white",
            "ticks": ""
           },
           "baxis": {
            "gridcolor": "white",
            "linecolor": "white",
            "ticks": ""
           },
           "bgcolor": "#E5ECF6",
           "caxis": {
            "gridcolor": "white",
            "linecolor": "white",
            "ticks": ""
           }
          },
          "title": {
           "x": 0.05
          },
          "xaxis": {
           "automargin": true,
           "gridcolor": "white",
           "linecolor": "white",
           "ticks": "",
           "title": {
            "standoff": 15
           },
           "zerolinecolor": "white",
           "zerolinewidth": 2
          },
          "yaxis": {
           "automargin": true,
           "gridcolor": "white",
           "linecolor": "white",
           "ticks": "",
           "title": {
            "standoff": 15
           },
           "zerolinecolor": "white",
           "zerolinewidth": 2
          }
         }
        },
        "title": {
         "text": "Hours Viewed by Genre"
        },
        "width": 800,
        "xaxis": {
         "anchor": "y",
         "domain": [
          0,
          1
         ],
         "title": {
          "text": "Genre 0"
         }
        },
        "yaxis": {
         "anchor": "x",
         "domain": [
          0,
          1
         ],
         "title": {
          "text": "Hours Viewed"
         }
        }
       }
      }
     },
     "metadata": {},
     "output_type": "display_data"
    }
   ],
   "source": [
    "# Use 'plotly' to create a visualization of the Hours Viewed by 'genre_0' and 'genre_1'. Use a stacked bar chart\n",
    "# Think of the steps required to create the visualization\n",
    "# Begin by grouping the data by 'genre_0' and 'genre_1' and sum the 'Hours Viewed' column. \n",
    "# Sort the resulting DataFrame by Hours Viewed for 'genre_0' and 'genre_1' in descending order\n",
    "# Plot the stacked bar chart\n",
    "# Use 'genre_0' for the x-axis and 'Hours Viewed' for the y-axis\n",
    "# Use 'genre_1' for the color\n",
    "# Add labels and title\n",
    "# Set the figsize=(12, 8))\n",
    "# Show the plot\n",
    "\n",
    "import plotly.express as px\n",
    "\n",
    "# Assuming 'df' is your DataFrame and it has columns 'genre_0', 'genre_1', and 'Hours Viewed'\n",
    "grouped_df = netflix_imdb[netflix_imdb['titleType'] == 'movie'].groupby(['genre_0', 'genre_1'])['Hours Viewed'].sum().reset_index()\n",
    "\n",
    "# Sort the DataFrame\n",
    "sorted_df = grouped_df.sort_values(by='Hours Viewed', ascending=False)\n",
    "\n",
    "# Create the plot\n",
    "fig = px.bar(sorted_df, x='genre_0', y='Hours Viewed', color='genre_1', title='Hours Viewed by Genre',\n",
    "             labels={'genre_0':'Genre 0', 'Hours Viewed':'Hours Viewed', 'genre_1':'Genre 1'}, \n",
    "             height=400, width=800)\n",
    "\n",
    "# Show the plot\n",
    "fig.show()"
   ]
  },
  {
   "cell_type": "code",
   "execution_count": 30,
   "metadata": {},
   "outputs": [
    {
     "data": {
      "application/vnd.plotly.v1+json": {
       "config": {
        "plotlyServerURL": "https://plot.ly"
       },
       "data": [
        {
         "alignmentgroup": "True",
         "hovertemplate": "Genre 1=Adventure<br>Genre 0=%{x}<br>Hours Viewed=%{y}<extra></extra>",
         "legendgroup": "Adventure",
         "marker": {
          "color": "#636efa",
          "pattern": {
           "shape": ""
          }
         },
         "name": "Adventure",
         "offsetgroup": "Adventure",
         "orientation": "v",
         "showlegend": true,
         "textposition": "auto",
         "type": "bar",
         "x": [
          "Action"
         ],
         "xaxis": "x",
         "y": [
          1603000000
         ],
         "yaxis": "y"
        },
        {
         "alignmentgroup": "True",
         "hovertemplate": "Genre 1=Animation<br>Genre 0=%{x}<br>Hours Viewed=%{y}<extra></extra>",
         "legendgroup": "Animation",
         "marker": {
          "color": "#EF553B",
          "pattern": {
           "shape": ""
          }
         },
         "name": "Animation",
         "offsetgroup": "Animation",
         "orientation": "v",
         "showlegend": true,
         "textposition": "auto",
         "type": "bar",
         "x": [
          "Adventure",
          "Action"
         ],
         "xaxis": "x",
         "y": [
          1196400000,
          14600000
         ],
         "yaxis": "y"
        },
        {
         "alignmentgroup": "True",
         "hovertemplate": "Genre 1=Drama<br>Genre 0=%{x}<br>Hours Viewed=%{y}<extra></extra>",
         "legendgroup": "Drama",
         "marker": {
          "color": "#00cc96",
          "pattern": {
           "shape": ""
          }
         },
         "name": "Drama",
         "offsetgroup": "Drama",
         "orientation": "v",
         "showlegend": true,
         "textposition": "auto",
         "type": "bar",
         "x": [
          "Comedy",
          "Action",
          "Crime",
          "Biography",
          "Adventure",
          "Documentary",
          "Animation"
         ],
         "xaxis": "x",
         "y": [
          622300000,
          453700000,
          348000000,
          284700000,
          139900000,
          14400000,
          3200000
         ],
         "yaxis": "y"
        },
        {
         "alignmentgroup": "True",
         "hovertemplate": "Genre 1=Crime<br>Genre 0=%{x}<br>Hours Viewed=%{y}<extra></extra>",
         "legendgroup": "Crime",
         "marker": {
          "color": "#ab63fa",
          "pattern": {
           "shape": ""
          }
         },
         "name": "Crime",
         "offsetgroup": "Crime",
         "orientation": "v",
         "showlegend": true,
         "textposition": "auto",
         "type": "bar",
         "x": [
          "Action",
          "Comedy",
          "Biography",
          "Adult",
          "Adventure"
         ],
         "xaxis": "x",
         "y": [
          500200000,
          178900000,
          69500000,
          7800000,
          2600000
         ],
         "yaxis": "y"
        },
        {
         "alignmentgroup": "True",
         "hovertemplate": "Genre 1=Comedy<br>Genre 0=%{x}<br>Hours Viewed=%{y}<extra></extra>",
         "legendgroup": "Comedy",
         "marker": {
          "color": "#FFA15A",
          "pattern": {
           "shape": ""
          }
         },
         "name": "Comedy",
         "offsetgroup": "Comedy",
         "orientation": "v",
         "showlegend": true,
         "textposition": "auto",
         "type": "bar",
         "x": [
          "Action",
          "Adventure",
          "Biography",
          "Adult",
          "Animation"
         ],
         "xaxis": "x",
         "y": [
          423100000,
          155700000,
          42400000,
          8700000,
          7300000
         ],
         "yaxis": "y"
        },
        {
         "alignmentgroup": "True",
         "hovertemplate": "Genre 1=Romance<br>Genre 0=%{x}<br>Hours Viewed=%{y}<extra></extra>",
         "legendgroup": "Romance",
         "marker": {
          "color": "#19d3f3",
          "pattern": {
           "shape": ""
          }
         },
         "name": "Romance",
         "offsetgroup": "Romance",
         "orientation": "v",
         "showlegend": true,
         "textposition": "auto",
         "type": "bar",
         "x": [
          "Drama",
          "Comedy",
          "Action",
          "Adventure",
          "History",
          "Adult",
          "Music",
          "Musical",
          "Fantasy",
          "Horror"
         ],
         "xaxis": "x",
         "y": [
          355300000,
          193500000,
          25300000,
          6100000,
          6100000,
          1200000,
          300000,
          300000,
          300000,
          300000
         ],
         "yaxis": "y"
        },
        {
         "alignmentgroup": "True",
         "hovertemplate": "Genre 1=Horror<br>Genre 0=%{x}<br>Hours Viewed=%{y}<extra></extra>",
         "legendgroup": "Horror",
         "marker": {
          "color": "#FF6692",
          "pattern": {
           "shape": ""
          }
         },
         "name": "Horror",
         "offsetgroup": "Horror",
         "orientation": "v",
         "showlegend": true,
         "textposition": "auto",
         "type": "bar",
         "x": [
          "Drama",
          "Action",
          "Comedy",
          "Fantasy",
          "Adventure",
          "Crime",
          "Adult"
         ],
         "xaxis": "x",
         "y": [
          212900000,
          72600000,
          30500000,
          12900000,
          8200000,
          6900000,
          300000
         ],
         "yaxis": "y"
        },
        {
         "alignmentgroup": "True",
         "hovertemplate": "Genre 1=Thriller<br>Genre 0=%{x}<br>Hours Viewed=%{y}<extra></extra>",
         "legendgroup": "Thriller",
         "marker": {
          "color": "#B6E880",
          "pattern": {
           "shape": ""
          }
         },
         "name": "Thriller",
         "offsetgroup": "Thriller",
         "orientation": "v",
         "showlegend": true,
         "textposition": "auto",
         "type": "bar",
         "x": [
          "Action",
          "Horror",
          "Crime",
          "Drama",
          "Mystery",
          "Sci-Fi",
          "Romance",
          "Comedy"
         ],
         "xaxis": "x",
         "y": [
          190600000,
          93000000,
          68800000,
          56200000,
          44200000,
          16500000,
          3600000,
          700000
         ],
         "yaxis": "y"
        },
        {
         "alignmentgroup": "True",
         "hovertemplate": "Genre 1=Mystery<br>Genre 0=%{x}<br>Hours Viewed=%{y}<extra></extra>",
         "legendgroup": "Mystery",
         "marker": {
          "color": "#FF97FF",
          "pattern": {
           "shape": ""
          }
         },
         "name": "Mystery",
         "offsetgroup": "Mystery",
         "orientation": "v",
         "showlegend": true,
         "textposition": "auto",
         "type": "bar",
         "x": [
          "Drama",
          "Horror",
          "Action",
          "Crime",
          "Comedy",
          "Adventure",
          "Fantasy"
         ],
         "xaxis": "x",
         "y": [
          131300000,
          91600000,
          55000000,
          34500000,
          5400000,
          4500000,
          3800000
         ],
         "yaxis": "y"
        },
        {
         "alignmentgroup": "True",
         "hovertemplate": "Genre 1=Family<br>Genre 0=%{x}<br>Hours Viewed=%{y}<extra></extra>",
         "legendgroup": "Family",
         "marker": {
          "color": "#FECB52",
          "pattern": {
           "shape": ""
          }
         },
         "name": "Family",
         "offsetgroup": "Family",
         "orientation": "v",
         "showlegend": true,
         "textposition": "auto",
         "type": "bar",
         "x": [
          "Comedy",
          "Adventure",
          "Drama",
          "Animation",
          "Documentary",
          "Action"
         ],
         "xaxis": "x",
         "y": [
          130100000,
          119200000,
          60700000,
          17900000,
          7800000,
          2400000
         ],
         "yaxis": "y"
        },
        {
         "alignmentgroup": "True",
         "hovertemplate": "Genre 1=Fantasy<br>Genre 0=%{x}<br>Hours Viewed=%{y}<extra></extra>",
         "legendgroup": "Fantasy",
         "marker": {
          "color": "#636efa",
          "pattern": {
           "shape": ""
          }
         },
         "name": "Fantasy",
         "offsetgroup": "Fantasy",
         "orientation": "v",
         "showlegend": true,
         "textposition": "auto",
         "type": "bar",
         "x": [
          "Drama",
          "Comedy",
          "Action",
          "Adventure",
          "Family"
         ],
         "xaxis": "x",
         "y": [
          63500000,
          55600000,
          24400000,
          5500000,
          1400000
         ],
         "yaxis": "y"
        },
        {
         "alignmentgroup": "True",
         "hovertemplate": "Genre 1=Music<br>Genre 0=%{x}<br>Hours Viewed=%{y}<extra></extra>",
         "legendgroup": "Music",
         "marker": {
          "color": "#EF553B",
          "pattern": {
           "shape": ""
          }
         },
         "name": "Music",
         "offsetgroup": "Music",
         "orientation": "v",
         "showlegend": true,
         "textposition": "auto",
         "type": "bar",
         "x": [
          "Comedy",
          "Drama",
          "Documentary",
          "Biography"
         ],
         "xaxis": "x",
         "y": [
          50300000,
          35100000,
          5400000,
          400000
         ],
         "yaxis": "y"
        },
        {
         "alignmentgroup": "True",
         "hovertemplate": "Genre 1=Sci-Fi<br>Genre 0=%{x}<br>Hours Viewed=%{y}<extra></extra>",
         "legendgroup": "Sci-Fi",
         "marker": {
          "color": "#00cc96",
          "pattern": {
           "shape": ""
          }
         },
         "name": "Sci-Fi",
         "offsetgroup": "Sci-Fi",
         "orientation": "v",
         "showlegend": true,
         "textposition": "auto",
         "type": "bar",
         "x": [
          "Action",
          "Drama",
          "Comedy",
          "Horror",
          "Adventure",
          "Fantasy",
          "Animation",
          "Romance",
          "Mystery"
         ],
         "xaxis": "x",
         "y": [
          46700000,
          7400000,
          7300000,
          6400000,
          5700000,
          2000000,
          600000,
          200000,
          100000
         ],
         "yaxis": "y"
        },
        {
         "alignmentgroup": "True",
         "hovertemplate": "Genre 1=Biography<br>Genre 0=%{x}<br>Hours Viewed=%{y}<extra></extra>",
         "legendgroup": "Biography",
         "marker": {
          "color": "#ab63fa",
          "pattern": {
           "shape": ""
          }
         },
         "name": "Biography",
         "offsetgroup": "Biography",
         "orientation": "v",
         "showlegend": true,
         "textposition": "auto",
         "type": "bar",
         "x": [
          "Action",
          "Adventure"
         ],
         "xaxis": "x",
         "y": [
          46500000,
          16100000
         ],
         "yaxis": "y"
        },
        {
         "alignmentgroup": "True",
         "hovertemplate": "Genre 1=Musical<br>Genre 0=%{x}<br>Hours Viewed=%{y}<extra></extra>",
         "legendgroup": "Musical",
         "marker": {
          "color": "#FFA15A",
          "pattern": {
           "shape": ""
          }
         },
         "name": "Musical",
         "offsetgroup": "Musical",
         "orientation": "v",
         "showlegend": true,
         "textposition": "auto",
         "type": "bar",
         "x": [
          "Comedy",
          "Crime",
          "Drama"
         ],
         "xaxis": "x",
         "y": [
          32500000,
          4800000,
          2400000
         ],
         "yaxis": "y"
        },
        {
         "alignmentgroup": "True",
         "hovertemplate": "Genre 1=War<br>Genre 0=%{x}<br>Hours Viewed=%{y}<extra></extra>",
         "legendgroup": "War",
         "marker": {
          "color": "#19d3f3",
          "pattern": {
           "shape": ""
          }
         },
         "name": "War",
         "offsetgroup": "War",
         "orientation": "v",
         "showlegend": true,
         "textposition": "auto",
         "type": "bar",
         "x": [
          "Drama",
          "Documentary",
          "Comedy",
          "History"
         ],
         "xaxis": "x",
         "y": [
          28000000,
          10600000,
          600000,
          100000
         ],
         "yaxis": "y"
        },
        {
         "alignmentgroup": "True",
         "hovertemplate": "Genre 1=Sport<br>Genre 0=%{x}<br>Hours Viewed=%{y}<extra></extra>",
         "legendgroup": "Sport",
         "marker": {
          "color": "#FF6692",
          "pattern": {
           "shape": ""
          }
         },
         "name": "Sport",
         "offsetgroup": "Sport",
         "orientation": "v",
         "showlegend": true,
         "textposition": "auto",
         "type": "bar",
         "x": [
          "Drama",
          "Comedy",
          "Family",
          "Action",
          "History",
          "Documentary"
         ],
         "xaxis": "x",
         "y": [
          22800000,
          16600000,
          4100000,
          3800000,
          2300000,
          1100000
         ],
         "yaxis": "y"
        },
        {
         "alignmentgroup": "True",
         "hovertemplate": "Genre 1=Documentary<br>Genre 0=%{x}<br>Hours Viewed=%{y}<extra></extra>",
         "legendgroup": "Documentary",
         "marker": {
          "color": "#B6E880",
          "pattern": {
           "shape": ""
          }
         },
         "name": "Documentary",
         "offsetgroup": "Documentary",
         "orientation": "v",
         "showlegend": true,
         "textposition": "auto",
         "type": "bar",
         "x": [
          "Comedy",
          "Biography",
          "Crime",
          "Adventure",
          "Action"
         ],
         "xaxis": "x",
         "y": [
          21600000,
          20800000,
          5700000,
          3300000,
          600000
         ],
         "yaxis": "y"
        },
        {
         "alignmentgroup": "True",
         "hovertemplate": "Genre 1=History<br>Genre 0=%{x}<br>Hours Viewed=%{y}<extra></extra>",
         "legendgroup": "History",
         "marker": {
          "color": "#FF97FF",
          "pattern": {
           "shape": ""
          }
         },
         "name": "History",
         "offsetgroup": "History",
         "orientation": "v",
         "showlegend": true,
         "textposition": "auto",
         "type": "bar",
         "x": [
          "Documentary",
          "Drama",
          "Comedy",
          "Adventure",
          "Action",
          "Biography"
         ],
         "xaxis": "x",
         "y": [
          16600000,
          15500000,
          200000,
          200000,
          100000,
          100000
         ],
         "yaxis": "y"
        },
        {
         "alignmentgroup": "True",
         "hovertemplate": "Genre 1=Western<br>Genre 0=%{x}<br>Hours Viewed=%{y}<extra></extra>",
         "legendgroup": "Western",
         "marker": {
          "color": "#FECB52",
          "pattern": {
           "shape": ""
          }
         },
         "name": "Western",
         "offsetgroup": "Western",
         "orientation": "v",
         "showlegend": true,
         "textposition": "auto",
         "type": "bar",
         "x": [
          "Drama",
          "Thriller",
          "Comedy",
          "Adventure",
          "Action",
          "Romance"
         ],
         "xaxis": "x",
         "y": [
          15000000,
          3900000,
          3300000,
          3300000,
          1900000,
          1800000
         ],
         "yaxis": "y"
        },
        {
         "alignmentgroup": "True",
         "hovertemplate": "Genre 1=Adult<br>Genre 0=%{x}<br>Hours Viewed=%{y}<extra></extra>",
         "legendgroup": "Adult",
         "marker": {
          "color": "#636efa",
          "pattern": {
           "shape": ""
          }
         },
         "name": "Adult",
         "offsetgroup": "Adult",
         "orientation": "v",
         "showlegend": true,
         "textposition": "auto",
         "type": "bar",
         "x": [
          "Action"
         ],
         "xaxis": "x",
         "y": [
          3900000
         ],
         "yaxis": "y"
        },
        {
         "alignmentgroup": "True",
         "hovertemplate": "Genre 1=News<br>Genre 0=%{x}<br>Hours Viewed=%{y}<extra></extra>",
         "legendgroup": "News",
         "marker": {
          "color": "#EF553B",
          "pattern": {
           "shape": ""
          }
         },
         "name": "News",
         "offsetgroup": "News",
         "orientation": "v",
         "showlegend": true,
         "textposition": "auto",
         "type": "bar",
         "x": [
          "Documentary"
         ],
         "xaxis": "x",
         "y": [
          1100000
         ],
         "yaxis": "y"
        }
       ],
       "layout": {
        "barmode": "relative",
        "height": 400,
        "legend": {
         "title": {
          "text": "Genre 1"
         },
         "tracegroupgap": 0
        },
        "template": {
         "data": {
          "bar": [
           {
            "error_x": {
             "color": "#2a3f5f"
            },
            "error_y": {
             "color": "#2a3f5f"
            },
            "marker": {
             "line": {
              "color": "#E5ECF6",
              "width": 0.5
             },
             "pattern": {
              "fillmode": "overlay",
              "size": 10,
              "solidity": 0.2
             }
            },
            "type": "bar"
           }
          ],
          "barpolar": [
           {
            "marker": {
             "line": {
              "color": "#E5ECF6",
              "width": 0.5
             },
             "pattern": {
              "fillmode": "overlay",
              "size": 10,
              "solidity": 0.2
             }
            },
            "type": "barpolar"
           }
          ],
          "carpet": [
           {
            "aaxis": {
             "endlinecolor": "#2a3f5f",
             "gridcolor": "white",
             "linecolor": "white",
             "minorgridcolor": "white",
             "startlinecolor": "#2a3f5f"
            },
            "baxis": {
             "endlinecolor": "#2a3f5f",
             "gridcolor": "white",
             "linecolor": "white",
             "minorgridcolor": "white",
             "startlinecolor": "#2a3f5f"
            },
            "type": "carpet"
           }
          ],
          "choropleth": [
           {
            "colorbar": {
             "outlinewidth": 0,
             "ticks": ""
            },
            "type": "choropleth"
           }
          ],
          "contour": [
           {
            "colorbar": {
             "outlinewidth": 0,
             "ticks": ""
            },
            "colorscale": [
             [
              0,
              "#0d0887"
             ],
             [
              0.1111111111111111,
              "#46039f"
             ],
             [
              0.2222222222222222,
              "#7201a8"
             ],
             [
              0.3333333333333333,
              "#9c179e"
             ],
             [
              0.4444444444444444,
              "#bd3786"
             ],
             [
              0.5555555555555556,
              "#d8576b"
             ],
             [
              0.6666666666666666,
              "#ed7953"
             ],
             [
              0.7777777777777778,
              "#fb9f3a"
             ],
             [
              0.8888888888888888,
              "#fdca26"
             ],
             [
              1,
              "#f0f921"
             ]
            ],
            "type": "contour"
           }
          ],
          "contourcarpet": [
           {
            "colorbar": {
             "outlinewidth": 0,
             "ticks": ""
            },
            "type": "contourcarpet"
           }
          ],
          "heatmap": [
           {
            "colorbar": {
             "outlinewidth": 0,
             "ticks": ""
            },
            "colorscale": [
             [
              0,
              "#0d0887"
             ],
             [
              0.1111111111111111,
              "#46039f"
             ],
             [
              0.2222222222222222,
              "#7201a8"
             ],
             [
              0.3333333333333333,
              "#9c179e"
             ],
             [
              0.4444444444444444,
              "#bd3786"
             ],
             [
              0.5555555555555556,
              "#d8576b"
             ],
             [
              0.6666666666666666,
              "#ed7953"
             ],
             [
              0.7777777777777778,
              "#fb9f3a"
             ],
             [
              0.8888888888888888,
              "#fdca26"
             ],
             [
              1,
              "#f0f921"
             ]
            ],
            "type": "heatmap"
           }
          ],
          "heatmapgl": [
           {
            "colorbar": {
             "outlinewidth": 0,
             "ticks": ""
            },
            "colorscale": [
             [
              0,
              "#0d0887"
             ],
             [
              0.1111111111111111,
              "#46039f"
             ],
             [
              0.2222222222222222,
              "#7201a8"
             ],
             [
              0.3333333333333333,
              "#9c179e"
             ],
             [
              0.4444444444444444,
              "#bd3786"
             ],
             [
              0.5555555555555556,
              "#d8576b"
             ],
             [
              0.6666666666666666,
              "#ed7953"
             ],
             [
              0.7777777777777778,
              "#fb9f3a"
             ],
             [
              0.8888888888888888,
              "#fdca26"
             ],
             [
              1,
              "#f0f921"
             ]
            ],
            "type": "heatmapgl"
           }
          ],
          "histogram": [
           {
            "marker": {
             "pattern": {
              "fillmode": "overlay",
              "size": 10,
              "solidity": 0.2
             }
            },
            "type": "histogram"
           }
          ],
          "histogram2d": [
           {
            "colorbar": {
             "outlinewidth": 0,
             "ticks": ""
            },
            "colorscale": [
             [
              0,
              "#0d0887"
             ],
             [
              0.1111111111111111,
              "#46039f"
             ],
             [
              0.2222222222222222,
              "#7201a8"
             ],
             [
              0.3333333333333333,
              "#9c179e"
             ],
             [
              0.4444444444444444,
              "#bd3786"
             ],
             [
              0.5555555555555556,
              "#d8576b"
             ],
             [
              0.6666666666666666,
              "#ed7953"
             ],
             [
              0.7777777777777778,
              "#fb9f3a"
             ],
             [
              0.8888888888888888,
              "#fdca26"
             ],
             [
              1,
              "#f0f921"
             ]
            ],
            "type": "histogram2d"
           }
          ],
          "histogram2dcontour": [
           {
            "colorbar": {
             "outlinewidth": 0,
             "ticks": ""
            },
            "colorscale": [
             [
              0,
              "#0d0887"
             ],
             [
              0.1111111111111111,
              "#46039f"
             ],
             [
              0.2222222222222222,
              "#7201a8"
             ],
             [
              0.3333333333333333,
              "#9c179e"
             ],
             [
              0.4444444444444444,
              "#bd3786"
             ],
             [
              0.5555555555555556,
              "#d8576b"
             ],
             [
              0.6666666666666666,
              "#ed7953"
             ],
             [
              0.7777777777777778,
              "#fb9f3a"
             ],
             [
              0.8888888888888888,
              "#fdca26"
             ],
             [
              1,
              "#f0f921"
             ]
            ],
            "type": "histogram2dcontour"
           }
          ],
          "mesh3d": [
           {
            "colorbar": {
             "outlinewidth": 0,
             "ticks": ""
            },
            "type": "mesh3d"
           }
          ],
          "parcoords": [
           {
            "line": {
             "colorbar": {
              "outlinewidth": 0,
              "ticks": ""
             }
            },
            "type": "parcoords"
           }
          ],
          "pie": [
           {
            "automargin": true,
            "type": "pie"
           }
          ],
          "scatter": [
           {
            "fillpattern": {
             "fillmode": "overlay",
             "size": 10,
             "solidity": 0.2
            },
            "type": "scatter"
           }
          ],
          "scatter3d": [
           {
            "line": {
             "colorbar": {
              "outlinewidth": 0,
              "ticks": ""
             }
            },
            "marker": {
             "colorbar": {
              "outlinewidth": 0,
              "ticks": ""
             }
            },
            "type": "scatter3d"
           }
          ],
          "scattercarpet": [
           {
            "marker": {
             "colorbar": {
              "outlinewidth": 0,
              "ticks": ""
             }
            },
            "type": "scattercarpet"
           }
          ],
          "scattergeo": [
           {
            "marker": {
             "colorbar": {
              "outlinewidth": 0,
              "ticks": ""
             }
            },
            "type": "scattergeo"
           }
          ],
          "scattergl": [
           {
            "marker": {
             "colorbar": {
              "outlinewidth": 0,
              "ticks": ""
             }
            },
            "type": "scattergl"
           }
          ],
          "scattermapbox": [
           {
            "marker": {
             "colorbar": {
              "outlinewidth": 0,
              "ticks": ""
             }
            },
            "type": "scattermapbox"
           }
          ],
          "scatterpolar": [
           {
            "marker": {
             "colorbar": {
              "outlinewidth": 0,
              "ticks": ""
             }
            },
            "type": "scatterpolar"
           }
          ],
          "scatterpolargl": [
           {
            "marker": {
             "colorbar": {
              "outlinewidth": 0,
              "ticks": ""
             }
            },
            "type": "scatterpolargl"
           }
          ],
          "scatterternary": [
           {
            "marker": {
             "colorbar": {
              "outlinewidth": 0,
              "ticks": ""
             }
            },
            "type": "scatterternary"
           }
          ],
          "surface": [
           {
            "colorbar": {
             "outlinewidth": 0,
             "ticks": ""
            },
            "colorscale": [
             [
              0,
              "#0d0887"
             ],
             [
              0.1111111111111111,
              "#46039f"
             ],
             [
              0.2222222222222222,
              "#7201a8"
             ],
             [
              0.3333333333333333,
              "#9c179e"
             ],
             [
              0.4444444444444444,
              "#bd3786"
             ],
             [
              0.5555555555555556,
              "#d8576b"
             ],
             [
              0.6666666666666666,
              "#ed7953"
             ],
             [
              0.7777777777777778,
              "#fb9f3a"
             ],
             [
              0.8888888888888888,
              "#fdca26"
             ],
             [
              1,
              "#f0f921"
             ]
            ],
            "type": "surface"
           }
          ],
          "table": [
           {
            "cells": {
             "fill": {
              "color": "#EBF0F8"
             },
             "line": {
              "color": "white"
             }
            },
            "header": {
             "fill": {
              "color": "#C8D4E3"
             },
             "line": {
              "color": "white"
             }
            },
            "type": "table"
           }
          ]
         },
         "layout": {
          "annotationdefaults": {
           "arrowcolor": "#2a3f5f",
           "arrowhead": 0,
           "arrowwidth": 1
          },
          "autotypenumbers": "strict",
          "coloraxis": {
           "colorbar": {
            "outlinewidth": 0,
            "ticks": ""
           }
          },
          "colorscale": {
           "diverging": [
            [
             0,
             "#8e0152"
            ],
            [
             0.1,
             "#c51b7d"
            ],
            [
             0.2,
             "#de77ae"
            ],
            [
             0.3,
             "#f1b6da"
            ],
            [
             0.4,
             "#fde0ef"
            ],
            [
             0.5,
             "#f7f7f7"
            ],
            [
             0.6,
             "#e6f5d0"
            ],
            [
             0.7,
             "#b8e186"
            ],
            [
             0.8,
             "#7fbc41"
            ],
            [
             0.9,
             "#4d9221"
            ],
            [
             1,
             "#276419"
            ]
           ],
           "sequential": [
            [
             0,
             "#0d0887"
            ],
            [
             0.1111111111111111,
             "#46039f"
            ],
            [
             0.2222222222222222,
             "#7201a8"
            ],
            [
             0.3333333333333333,
             "#9c179e"
            ],
            [
             0.4444444444444444,
             "#bd3786"
            ],
            [
             0.5555555555555556,
             "#d8576b"
            ],
            [
             0.6666666666666666,
             "#ed7953"
            ],
            [
             0.7777777777777778,
             "#fb9f3a"
            ],
            [
             0.8888888888888888,
             "#fdca26"
            ],
            [
             1,
             "#f0f921"
            ]
           ],
           "sequentialminus": [
            [
             0,
             "#0d0887"
            ],
            [
             0.1111111111111111,
             "#46039f"
            ],
            [
             0.2222222222222222,
             "#7201a8"
            ],
            [
             0.3333333333333333,
             "#9c179e"
            ],
            [
             0.4444444444444444,
             "#bd3786"
            ],
            [
             0.5555555555555556,
             "#d8576b"
            ],
            [
             0.6666666666666666,
             "#ed7953"
            ],
            [
             0.7777777777777778,
             "#fb9f3a"
            ],
            [
             0.8888888888888888,
             "#fdca26"
            ],
            [
             1,
             "#f0f921"
            ]
           ]
          },
          "colorway": [
           "#636efa",
           "#EF553B",
           "#00cc96",
           "#ab63fa",
           "#FFA15A",
           "#19d3f3",
           "#FF6692",
           "#B6E880",
           "#FF97FF",
           "#FECB52"
          ],
          "font": {
           "color": "#2a3f5f"
          },
          "geo": {
           "bgcolor": "white",
           "lakecolor": "white",
           "landcolor": "#E5ECF6",
           "showlakes": true,
           "showland": true,
           "subunitcolor": "white"
          },
          "hoverlabel": {
           "align": "left"
          },
          "hovermode": "closest",
          "mapbox": {
           "style": "light"
          },
          "paper_bgcolor": "white",
          "plot_bgcolor": "#E5ECF6",
          "polar": {
           "angularaxis": {
            "gridcolor": "white",
            "linecolor": "white",
            "ticks": ""
           },
           "bgcolor": "#E5ECF6",
           "radialaxis": {
            "gridcolor": "white",
            "linecolor": "white",
            "ticks": ""
           }
          },
          "scene": {
           "xaxis": {
            "backgroundcolor": "#E5ECF6",
            "gridcolor": "white",
            "gridwidth": 2,
            "linecolor": "white",
            "showbackground": true,
            "ticks": "",
            "zerolinecolor": "white"
           },
           "yaxis": {
            "backgroundcolor": "#E5ECF6",
            "gridcolor": "white",
            "gridwidth": 2,
            "linecolor": "white",
            "showbackground": true,
            "ticks": "",
            "zerolinecolor": "white"
           },
           "zaxis": {
            "backgroundcolor": "#E5ECF6",
            "gridcolor": "white",
            "gridwidth": 2,
            "linecolor": "white",
            "showbackground": true,
            "ticks": "",
            "zerolinecolor": "white"
           }
          },
          "shapedefaults": {
           "line": {
            "color": "#2a3f5f"
           }
          },
          "ternary": {
           "aaxis": {
            "gridcolor": "white",
            "linecolor": "white",
            "ticks": ""
           },
           "baxis": {
            "gridcolor": "white",
            "linecolor": "white",
            "ticks": ""
           },
           "bgcolor": "#E5ECF6",
           "caxis": {
            "gridcolor": "white",
            "linecolor": "white",
            "ticks": ""
           }
          },
          "title": {
           "x": 0.05
          },
          "xaxis": {
           "automargin": true,
           "gridcolor": "white",
           "linecolor": "white",
           "ticks": "",
           "title": {
            "standoff": 15
           },
           "zerolinecolor": "white",
           "zerolinewidth": 2
          },
          "yaxis": {
           "automargin": true,
           "gridcolor": "white",
           "linecolor": "white",
           "ticks": "",
           "title": {
            "standoff": 15
           },
           "zerolinecolor": "white",
           "zerolinewidth": 2
          }
         }
        },
        "title": {
         "text": "Movie Non-Global Hours Viewed by Genre"
        },
        "width": 800,
        "xaxis": {
         "anchor": "y",
         "domain": [
          0,
          1
         ],
         "title": {
          "text": "Genre 0"
         }
        },
        "yaxis": {
         "anchor": "x",
         "domain": [
          0,
          1
         ],
         "title": {
          "text": "Hours Viewed"
         }
        }
       }
      }
     },
     "metadata": {},
     "output_type": "display_data"
    }
   ],
   "source": [
    "# Assuming 'df' is your DataFrame and it has columns 'genre_0', 'genre_1', and 'Hours Viewed'\n",
    "grouped_df = netflix_imdb.loc[\n",
    "    (netflix_imdb['titleType'] == 'movie') &\n",
    "    (netflix_imdb['Available Globally?'] == 'No')\n",
    "    ].groupby(['genre_0', 'genre_1'])['Hours Viewed'].sum().reset_index()\n",
    "\n",
    "# Sort the DataFrame\n",
    "sorted_df = grouped_df.sort_values(by='Hours Viewed', ascending=False)\n",
    "\n",
    "# Create the plot\n",
    "fig = px.bar(sorted_df, x='genre_0', y='Hours Viewed', color='genre_1', title='Movie Non-Global Hours Viewed by Genre',\n",
    "             labels={'genre_0':'Genre 0', 'Hours Viewed':'Hours Viewed', 'genre_1':'Genre 1'}, \n",
    "             height=400, width=800)\n",
    "\n",
    "# Show the plot\n",
    "fig.show()"
   ]
  },
  {
   "cell_type": "code",
   "execution_count": 35,
   "metadata": {},
   "outputs": [
    {
     "data": {
      "text/html": [
       "<div>\n",
       "<style scoped>\n",
       "    .dataframe tbody tr th:only-of-type {\n",
       "        vertical-align: middle;\n",
       "    }\n",
       "\n",
       "    .dataframe tbody tr th {\n",
       "        vertical-align: top;\n",
       "    }\n",
       "\n",
       "    .dataframe thead th {\n",
       "        text-align: right;\n",
       "    }\n",
       "</style>\n",
       "<table border=\"1\" class=\"dataframe\">\n",
       "  <thead>\n",
       "    <tr style=\"text-align: right;\">\n",
       "      <th></th>\n",
       "      <th>Title</th>\n",
       "      <th>Available Globally?</th>\n",
       "      <th>Release Date</th>\n",
       "      <th>Hours Viewed</th>\n",
       "      <th>tconst</th>\n",
       "      <th>titleType</th>\n",
       "      <th>primaryTitle</th>\n",
       "      <th>originalTitle</th>\n",
       "      <th>isAdult</th>\n",
       "      <th>startYear</th>\n",
       "      <th>endYear</th>\n",
       "      <th>runtimeMinutes</th>\n",
       "      <th>genres</th>\n",
       "      <th>genre_0</th>\n",
       "      <th>genre_1</th>\n",
       "      <th>genre_2</th>\n",
       "    </tr>\n",
       "  </thead>\n",
       "  <tbody>\n",
       "    <tr>\n",
       "      <th>500</th>\n",
       "      <td>A Man Called Otto</td>\n",
       "      <td>No</td>\n",
       "      <td>NaT</td>\n",
       "      <td>61300000</td>\n",
       "      <td>tt7405458</td>\n",
       "      <td>movie</td>\n",
       "      <td>A Man Called Otto</td>\n",
       "      <td>A Man Called Otto</td>\n",
       "      <td>0</td>\n",
       "      <td>2022</td>\n",
       "      <td>\\N</td>\n",
       "      <td>126</td>\n",
       "      <td>Comedy,Drama</td>\n",
       "      <td>Comedy</td>\n",
       "      <td>Drama</td>\n",
       "      <td>None</td>\n",
       "    </tr>\n",
       "    <tr>\n",
       "      <th>1268</th>\n",
       "      <td>I See You</td>\n",
       "      <td>No</td>\n",
       "      <td>2020-07-09</td>\n",
       "      <td>30000000</td>\n",
       "      <td>tt0857381</td>\n",
       "      <td>movie</td>\n",
       "      <td>I See You</td>\n",
       "      <td>I See You</td>\n",
       "      <td>0</td>\n",
       "      <td>2006</td>\n",
       "      <td>\\N</td>\n",
       "      <td>122</td>\n",
       "      <td>Comedy,Drama,Fantasy</td>\n",
       "      <td>Comedy</td>\n",
       "      <td>Drama</td>\n",
       "      <td>Fantasy</td>\n",
       "    </tr>\n",
       "    <tr>\n",
       "      <th>2555</th>\n",
       "      <td>This Is Where I Leave You</td>\n",
       "      <td>No</td>\n",
       "      <td>NaT</td>\n",
       "      <td>18600000</td>\n",
       "      <td>tt1371150</td>\n",
       "      <td>movie</td>\n",
       "      <td>This Is Where I Leave You</td>\n",
       "      <td>This Is Where I Leave You</td>\n",
       "      <td>0</td>\n",
       "      <td>2014</td>\n",
       "      <td>\\N</td>\n",
       "      <td>103</td>\n",
       "      <td>Comedy,Drama</td>\n",
       "      <td>Comedy</td>\n",
       "      <td>Drama</td>\n",
       "      <td>None</td>\n",
       "    </tr>\n",
       "    <tr>\n",
       "      <th>2933</th>\n",
       "      <td>Instant Family</td>\n",
       "      <td>No</td>\n",
       "      <td>NaT</td>\n",
       "      <td>16500000</td>\n",
       "      <td>tt7401588</td>\n",
       "      <td>movie</td>\n",
       "      <td>Instant Family</td>\n",
       "      <td>Instant Family</td>\n",
       "      <td>0</td>\n",
       "      <td>2018</td>\n",
       "      <td>\\N</td>\n",
       "      <td>118</td>\n",
       "      <td>Comedy,Drama</td>\n",
       "      <td>Comedy</td>\n",
       "      <td>Drama</td>\n",
       "      <td>None</td>\n",
       "    </tr>\n",
       "    <tr>\n",
       "      <th>3103</th>\n",
       "      <td>Polar</td>\n",
       "      <td>No</td>\n",
       "      <td>2019-01-25</td>\n",
       "      <td>15700000</td>\n",
       "      <td>tt6032076</td>\n",
       "      <td>movie</td>\n",
       "      <td>Polar</td>\n",
       "      <td>Polar</td>\n",
       "      <td>0</td>\n",
       "      <td>2019</td>\n",
       "      <td>\\N</td>\n",
       "      <td>81</td>\n",
       "      <td>Comedy,Drama</td>\n",
       "      <td>Comedy</td>\n",
       "      <td>Drama</td>\n",
       "      <td>None</td>\n",
       "    </tr>\n",
       "    <tr>\n",
       "      <th>3240</th>\n",
       "      <td>Devotion</td>\n",
       "      <td>No</td>\n",
       "      <td>2023-01-20</td>\n",
       "      <td>15100000</td>\n",
       "      <td>tt0021798</td>\n",
       "      <td>movie</td>\n",
       "      <td>Devotion</td>\n",
       "      <td>Devotion</td>\n",
       "      <td>0</td>\n",
       "      <td>1931</td>\n",
       "      <td>\\N</td>\n",
       "      <td>81</td>\n",
       "      <td>Comedy,Drama,Romance</td>\n",
       "      <td>Comedy</td>\n",
       "      <td>Drama</td>\n",
       "      <td>Romance</td>\n",
       "    </tr>\n",
       "    <tr>\n",
       "      <th>3637</th>\n",
       "      <td>Maid in Manhattan</td>\n",
       "      <td>No</td>\n",
       "      <td>NaT</td>\n",
       "      <td>14100000</td>\n",
       "      <td>tt0252076</td>\n",
       "      <td>movie</td>\n",
       "      <td>Maid in Manhattan</td>\n",
       "      <td>Maid in Manhattan</td>\n",
       "      <td>0</td>\n",
       "      <td>2002</td>\n",
       "      <td>\\N</td>\n",
       "      <td>105</td>\n",
       "      <td>Comedy,Drama,Romance</td>\n",
       "      <td>Comedy</td>\n",
       "      <td>Drama</td>\n",
       "      <td>Romance</td>\n",
       "    </tr>\n",
       "    <tr>\n",
       "      <th>3740</th>\n",
       "      <td>The Dilemma</td>\n",
       "      <td>No</td>\n",
       "      <td>NaT</td>\n",
       "      <td>13700000</td>\n",
       "      <td>tt1578275</td>\n",
       "      <td>movie</td>\n",
       "      <td>The Dilemma</td>\n",
       "      <td>The Dilemma</td>\n",
       "      <td>0</td>\n",
       "      <td>2011</td>\n",
       "      <td>\\N</td>\n",
       "      <td>111</td>\n",
       "      <td>Comedy,Drama</td>\n",
       "      <td>Comedy</td>\n",
       "      <td>Drama</td>\n",
       "      <td>None</td>\n",
       "    </tr>\n",
       "    <tr>\n",
       "      <th>4179</th>\n",
       "      <td>This Is 40</td>\n",
       "      <td>No</td>\n",
       "      <td>NaT</td>\n",
       "      <td>12500000</td>\n",
       "      <td>tt1758830</td>\n",
       "      <td>movie</td>\n",
       "      <td>This Is 40</td>\n",
       "      <td>This Is 40</td>\n",
       "      <td>0</td>\n",
       "      <td>2012</td>\n",
       "      <td>\\N</td>\n",
       "      <td>134</td>\n",
       "      <td>Comedy,Drama,Romance</td>\n",
       "      <td>Comedy</td>\n",
       "      <td>Drama</td>\n",
       "      <td>Romance</td>\n",
       "    </tr>\n",
       "    <tr>\n",
       "      <th>4201</th>\n",
       "      <td>Easy A</td>\n",
       "      <td>No</td>\n",
       "      <td>NaT</td>\n",
       "      <td>12400000</td>\n",
       "      <td>tt1282140</td>\n",
       "      <td>movie</td>\n",
       "      <td>Easy A</td>\n",
       "      <td>Easy A</td>\n",
       "      <td>0</td>\n",
       "      <td>2010</td>\n",
       "      <td>\\N</td>\n",
       "      <td>92</td>\n",
       "      <td>Comedy,Drama,Romance</td>\n",
       "      <td>Comedy</td>\n",
       "      <td>Drama</td>\n",
       "      <td>Romance</td>\n",
       "    </tr>\n",
       "    <tr>\n",
       "      <th>4659</th>\n",
       "      <td>Diary of a Mad Black Woman</td>\n",
       "      <td>No</td>\n",
       "      <td>NaT</td>\n",
       "      <td>11500000</td>\n",
       "      <td>tt0422093</td>\n",
       "      <td>movie</td>\n",
       "      <td>Diary of a Mad Black Woman</td>\n",
       "      <td>Diary of a Mad Black Woman</td>\n",
       "      <td>0</td>\n",
       "      <td>2005</td>\n",
       "      <td>\\N</td>\n",
       "      <td>116</td>\n",
       "      <td>Comedy,Drama,Romance</td>\n",
       "      <td>Comedy</td>\n",
       "      <td>Drama</td>\n",
       "      <td>Romance</td>\n",
       "    </tr>\n",
       "    <tr>\n",
       "      <th>4848</th>\n",
       "      <td>Gatta Kusthi</td>\n",
       "      <td>No</td>\n",
       "      <td>NaT</td>\n",
       "      <td>11200000</td>\n",
       "      <td>tt21617996</td>\n",
       "      <td>movie</td>\n",
       "      <td>Gatta Kusthi</td>\n",
       "      <td>Gatta Kusthi</td>\n",
       "      <td>0</td>\n",
       "      <td>2022</td>\n",
       "      <td>\\N</td>\n",
       "      <td>144</td>\n",
       "      <td>Comedy,Drama,Romance</td>\n",
       "      <td>Comedy</td>\n",
       "      <td>Drama</td>\n",
       "      <td>Romance</td>\n",
       "    </tr>\n",
       "    <tr>\n",
       "      <th>5056</th>\n",
       "      <td>Forever My Girl</td>\n",
       "      <td>No</td>\n",
       "      <td>NaT</td>\n",
       "      <td>10700000</td>\n",
       "      <td>tt4103724</td>\n",
       "      <td>movie</td>\n",
       "      <td>Forever My Girl</td>\n",
       "      <td>Forever My Girl</td>\n",
       "      <td>0</td>\n",
       "      <td>2018</td>\n",
       "      <td>\\N</td>\n",
       "      <td>108</td>\n",
       "      <td>Comedy,Drama,Music</td>\n",
       "      <td>Comedy</td>\n",
       "      <td>Drama</td>\n",
       "      <td>Music</td>\n",
       "    </tr>\n",
       "    <tr>\n",
       "      <th>5119</th>\n",
       "      <td>Stepmom</td>\n",
       "      <td>No</td>\n",
       "      <td>NaT</td>\n",
       "      <td>10600000</td>\n",
       "      <td>tt0120686</td>\n",
       "      <td>movie</td>\n",
       "      <td>Stepmom</td>\n",
       "      <td>Stepmom</td>\n",
       "      <td>0</td>\n",
       "      <td>1998</td>\n",
       "      <td>\\N</td>\n",
       "      <td>125</td>\n",
       "      <td>Comedy,Drama</td>\n",
       "      <td>Comedy</td>\n",
       "      <td>Drama</td>\n",
       "      <td>None</td>\n",
       "    </tr>\n",
       "    <tr>\n",
       "      <th>5237</th>\n",
       "      <td>Magic Mike XXL</td>\n",
       "      <td>No</td>\n",
       "      <td>NaT</td>\n",
       "      <td>10400000</td>\n",
       "      <td>tt2268016</td>\n",
       "      <td>movie</td>\n",
       "      <td>Magic Mike XXL</td>\n",
       "      <td>Magic Mike XXL</td>\n",
       "      <td>0</td>\n",
       "      <td>2015</td>\n",
       "      <td>\\N</td>\n",
       "      <td>115</td>\n",
       "      <td>Comedy,Drama,Music</td>\n",
       "      <td>Comedy</td>\n",
       "      <td>Drama</td>\n",
       "      <td>Music</td>\n",
       "    </tr>\n",
       "    <tr>\n",
       "      <th>5915</th>\n",
       "      <td>Love &amp; Other Drugs</td>\n",
       "      <td>No</td>\n",
       "      <td>NaT</td>\n",
       "      <td>9600000</td>\n",
       "      <td>tt0758752</td>\n",
       "      <td>movie</td>\n",
       "      <td>Love &amp; Other Drugs</td>\n",
       "      <td>Love &amp; Other Drugs</td>\n",
       "      <td>0</td>\n",
       "      <td>2010</td>\n",
       "      <td>\\N</td>\n",
       "      <td>112</td>\n",
       "      <td>Comedy,Drama,Romance</td>\n",
       "      <td>Comedy</td>\n",
       "      <td>Drama</td>\n",
       "      <td>Romance</td>\n",
       "    </tr>\n",
       "    <tr>\n",
       "      <th>5940</th>\n",
       "      <td>Dumplin'</td>\n",
       "      <td>No</td>\n",
       "      <td>2018-12-07</td>\n",
       "      <td>9500000</td>\n",
       "      <td>tt4878482</td>\n",
       "      <td>movie</td>\n",
       "      <td>Dumplin'</td>\n",
       "      <td>Dumplin'</td>\n",
       "      <td>0</td>\n",
       "      <td>2018</td>\n",
       "      <td>\\N</td>\n",
       "      <td>110</td>\n",
       "      <td>Comedy,Drama</td>\n",
       "      <td>Comedy</td>\n",
       "      <td>Drama</td>\n",
       "      <td>None</td>\n",
       "    </tr>\n",
       "    <tr>\n",
       "      <th>6115</th>\n",
       "      <td>Burnt</td>\n",
       "      <td>No</td>\n",
       "      <td>NaT</td>\n",
       "      <td>9100000</td>\n",
       "      <td>tt2503944</td>\n",
       "      <td>movie</td>\n",
       "      <td>Burnt</td>\n",
       "      <td>Burnt</td>\n",
       "      <td>0</td>\n",
       "      <td>2015</td>\n",
       "      <td>\\N</td>\n",
       "      <td>101</td>\n",
       "      <td>Comedy,Drama</td>\n",
       "      <td>Comedy</td>\n",
       "      <td>Drama</td>\n",
       "      <td>None</td>\n",
       "    </tr>\n",
       "    <tr>\n",
       "      <th>6121</th>\n",
       "      <td>Burnt</td>\n",
       "      <td>No</td>\n",
       "      <td>NaT</td>\n",
       "      <td>9100000</td>\n",
       "      <td>tt4607118</td>\n",
       "      <td>movie</td>\n",
       "      <td>Burnt</td>\n",
       "      <td>Burnt</td>\n",
       "      <td>0</td>\n",
       "      <td>2014</td>\n",
       "      <td>\\N</td>\n",
       "      <td>\\N</td>\n",
       "      <td>Comedy,Drama</td>\n",
       "      <td>Comedy</td>\n",
       "      <td>Drama</td>\n",
       "      <td>None</td>\n",
       "    </tr>\n",
       "    <tr>\n",
       "      <th>6220</th>\n",
       "      <td>Barbershop 2: Back in Business</td>\n",
       "      <td>No</td>\n",
       "      <td>NaT</td>\n",
       "      <td>8900000</td>\n",
       "      <td>tt0337579</td>\n",
       "      <td>movie</td>\n",
       "      <td>Barbershop 2: Back in Business</td>\n",
       "      <td>Barbershop 2: Back in Business</td>\n",
       "      <td>0</td>\n",
       "      <td>2004</td>\n",
       "      <td>\\N</td>\n",
       "      <td>106</td>\n",
       "      <td>Comedy,Drama</td>\n",
       "      <td>Comedy</td>\n",
       "      <td>Drama</td>\n",
       "      <td>None</td>\n",
       "    </tr>\n",
       "    <tr>\n",
       "      <th>6707</th>\n",
       "      <td>Just Like Heaven</td>\n",
       "      <td>No</td>\n",
       "      <td>NaT</td>\n",
       "      <td>8500000</td>\n",
       "      <td>tt0425123</td>\n",
       "      <td>movie</td>\n",
       "      <td>Just Like Heaven</td>\n",
       "      <td>Just Like Heaven</td>\n",
       "      <td>0</td>\n",
       "      <td>2005</td>\n",
       "      <td>\\N</td>\n",
       "      <td>95</td>\n",
       "      <td>Comedy,Drama,Fantasy</td>\n",
       "      <td>Comedy</td>\n",
       "      <td>Drama</td>\n",
       "      <td>Fantasy</td>\n",
       "    </tr>\n",
       "    <tr>\n",
       "      <th>6912</th>\n",
       "      <td>Notting Hill</td>\n",
       "      <td>No</td>\n",
       "      <td>NaT</td>\n",
       "      <td>8100000</td>\n",
       "      <td>tt0125439</td>\n",
       "      <td>movie</td>\n",
       "      <td>Notting Hill</td>\n",
       "      <td>Notting Hill</td>\n",
       "      <td>0</td>\n",
       "      <td>1999</td>\n",
       "      <td>\\N</td>\n",
       "      <td>124</td>\n",
       "      <td>Comedy,Drama,Romance</td>\n",
       "      <td>Comedy</td>\n",
       "      <td>Drama</td>\n",
       "      <td>Romance</td>\n",
       "    </tr>\n",
       "    <tr>\n",
       "      <th>7190</th>\n",
       "      <td>Jerry Maguire</td>\n",
       "      <td>No</td>\n",
       "      <td>NaT</td>\n",
       "      <td>7700000</td>\n",
       "      <td>tt0116695</td>\n",
       "      <td>movie</td>\n",
       "      <td>Jerry Maguire</td>\n",
       "      <td>Jerry Maguire</td>\n",
       "      <td>0</td>\n",
       "      <td>1996</td>\n",
       "      <td>\\N</td>\n",
       "      <td>139</td>\n",
       "      <td>Comedy,Drama,Romance</td>\n",
       "      <td>Comedy</td>\n",
       "      <td>Drama</td>\n",
       "      <td>Romance</td>\n",
       "    </tr>\n",
       "    <tr>\n",
       "      <th>7510</th>\n",
       "      <td>P.S. I Love You</td>\n",
       "      <td>No</td>\n",
       "      <td>NaT</td>\n",
       "      <td>7300000</td>\n",
       "      <td>tt0431308</td>\n",
       "      <td>movie</td>\n",
       "      <td>P.S. I Love You</td>\n",
       "      <td>P.S. I Love You</td>\n",
       "      <td>0</td>\n",
       "      <td>2007</td>\n",
       "      <td>\\N</td>\n",
       "      <td>126</td>\n",
       "      <td>Comedy,Drama,Romance</td>\n",
       "      <td>Comedy</td>\n",
       "      <td>Drama</td>\n",
       "      <td>Romance</td>\n",
       "    </tr>\n",
       "    <tr>\n",
       "      <th>7687</th>\n",
       "      <td>Spanglish</td>\n",
       "      <td>No</td>\n",
       "      <td>NaT</td>\n",
       "      <td>7100000</td>\n",
       "      <td>tt0371246</td>\n",
       "      <td>movie</td>\n",
       "      <td>Spanglish</td>\n",
       "      <td>Spanglish</td>\n",
       "      <td>0</td>\n",
       "      <td>2004</td>\n",
       "      <td>\\N</td>\n",
       "      <td>131</td>\n",
       "      <td>Comedy,Drama,Romance</td>\n",
       "      <td>Comedy</td>\n",
       "      <td>Drama</td>\n",
       "      <td>Romance</td>\n",
       "    </tr>\n",
       "    <tr>\n",
       "      <th>8716</th>\n",
       "      <td>How Do You Know</td>\n",
       "      <td>No</td>\n",
       "      <td>NaT</td>\n",
       "      <td>6000000</td>\n",
       "      <td>tt1341188</td>\n",
       "      <td>movie</td>\n",
       "      <td>How Do You Know</td>\n",
       "      <td>How Do You Know</td>\n",
       "      <td>0</td>\n",
       "      <td>2010</td>\n",
       "      <td>\\N</td>\n",
       "      <td>121</td>\n",
       "      <td>Comedy,Drama,Romance</td>\n",
       "      <td>Comedy</td>\n",
       "      <td>Drama</td>\n",
       "      <td>Romance</td>\n",
       "    </tr>\n",
       "    <tr>\n",
       "      <th>9116</th>\n",
       "      <td>The Best Man Holiday</td>\n",
       "      <td>No</td>\n",
       "      <td>NaT</td>\n",
       "      <td>5700000</td>\n",
       "      <td>tt2083355</td>\n",
       "      <td>movie</td>\n",
       "      <td>The Best Man Holiday</td>\n",
       "      <td>The Best Man Holiday</td>\n",
       "      <td>0</td>\n",
       "      <td>2013</td>\n",
       "      <td>\\N</td>\n",
       "      <td>123</td>\n",
       "      <td>Comedy,Drama</td>\n",
       "      <td>Comedy</td>\n",
       "      <td>Drama</td>\n",
       "      <td>None</td>\n",
       "    </tr>\n",
       "    <tr>\n",
       "      <th>9378</th>\n",
       "      <td>The Breakfast Club</td>\n",
       "      <td>No</td>\n",
       "      <td>NaT</td>\n",
       "      <td>5500000</td>\n",
       "      <td>tt0088847</td>\n",
       "      <td>movie</td>\n",
       "      <td>The Breakfast Club</td>\n",
       "      <td>The Breakfast Club</td>\n",
       "      <td>0</td>\n",
       "      <td>1985</td>\n",
       "      <td>\\N</td>\n",
       "      <td>97</td>\n",
       "      <td>Comedy,Drama</td>\n",
       "      <td>Comedy</td>\n",
       "      <td>Drama</td>\n",
       "      <td>None</td>\n",
       "    </tr>\n",
       "    <tr>\n",
       "      <th>9714</th>\n",
       "      <td>Sleepless in Seattle</td>\n",
       "      <td>No</td>\n",
       "      <td>NaT</td>\n",
       "      <td>5200000</td>\n",
       "      <td>tt0108160</td>\n",
       "      <td>movie</td>\n",
       "      <td>Sleepless in Seattle</td>\n",
       "      <td>Sleepless in Seattle</td>\n",
       "      <td>0</td>\n",
       "      <td>1993</td>\n",
       "      <td>\\N</td>\n",
       "      <td>105</td>\n",
       "      <td>Comedy,Drama,Romance</td>\n",
       "      <td>Comedy</td>\n",
       "      <td>Drama</td>\n",
       "      <td>Romance</td>\n",
       "    </tr>\n",
       "    <tr>\n",
       "      <th>10173</th>\n",
       "      <td>Crazy, Stupid, Love.</td>\n",
       "      <td>No</td>\n",
       "      <td>NaT</td>\n",
       "      <td>4800000</td>\n",
       "      <td>tt1570728</td>\n",
       "      <td>movie</td>\n",
       "      <td>Crazy, Stupid, Love.</td>\n",
       "      <td>Crazy, Stupid, Love.</td>\n",
       "      <td>0</td>\n",
       "      <td>2011</td>\n",
       "      <td>\\N</td>\n",
       "      <td>118</td>\n",
       "      <td>Comedy,Drama,Romance</td>\n",
       "      <td>Comedy</td>\n",
       "      <td>Drama</td>\n",
       "      <td>Romance</td>\n",
       "    </tr>\n",
       "    <tr>\n",
       "      <th>10245</th>\n",
       "      <td>Home Again</td>\n",
       "      <td>No</td>\n",
       "      <td>2018-01-12</td>\n",
       "      <td>4800000</td>\n",
       "      <td>tt5719700</td>\n",
       "      <td>movie</td>\n",
       "      <td>Home Again</td>\n",
       "      <td>Home Again</td>\n",
       "      <td>0</td>\n",
       "      <td>2017</td>\n",
       "      <td>\\N</td>\n",
       "      <td>97</td>\n",
       "      <td>Comedy,Drama,Romance</td>\n",
       "      <td>Comedy</td>\n",
       "      <td>Drama</td>\n",
       "      <td>Romance</td>\n",
       "    </tr>\n",
       "    <tr>\n",
       "      <th>10356</th>\n",
       "      <td>Inseparables</td>\n",
       "      <td>No</td>\n",
       "      <td>NaT</td>\n",
       "      <td>4700000</td>\n",
       "      <td>tt5680678</td>\n",
       "      <td>movie</td>\n",
       "      <td>Inseparables</td>\n",
       "      <td>Inseparables</td>\n",
       "      <td>0</td>\n",
       "      <td>2016</td>\n",
       "      <td>\\N</td>\n",
       "      <td>108</td>\n",
       "      <td>Comedy,Drama</td>\n",
       "      <td>Comedy</td>\n",
       "      <td>Drama</td>\n",
       "      <td>None</td>\n",
       "    </tr>\n",
       "    <tr>\n",
       "      <th>10603</th>\n",
       "      <td>Bhool Bhulaiyaa 2</td>\n",
       "      <td>No</td>\n",
       "      <td>NaT</td>\n",
       "      <td>4500000</td>\n",
       "      <td>tt6455162</td>\n",
       "      <td>movie</td>\n",
       "      <td>Bhool Bhulaiyaa 2</td>\n",
       "      <td>Bhool Bhulaiyaa 2</td>\n",
       "      <td>0</td>\n",
       "      <td>2022</td>\n",
       "      <td>\\N</td>\n",
       "      <td>143</td>\n",
       "      <td>Comedy,Drama,Horror</td>\n",
       "      <td>Comedy</td>\n",
       "      <td>Drama</td>\n",
       "      <td>Horror</td>\n",
       "    </tr>\n",
       "    <tr>\n",
       "      <th>10670</th>\n",
       "      <td>Labor Day</td>\n",
       "      <td>No</td>\n",
       "      <td>NaT</td>\n",
       "      <td>4500000</td>\n",
       "      <td>tt0464077</td>\n",
       "      <td>movie</td>\n",
       "      <td>Labor Day</td>\n",
       "      <td>Labor Day</td>\n",
       "      <td>0</td>\n",
       "      <td>2009</td>\n",
       "      <td>\\N</td>\n",
       "      <td>58</td>\n",
       "      <td>Comedy,Drama,Romance</td>\n",
       "      <td>Comedy</td>\n",
       "      <td>Drama</td>\n",
       "      <td>Romance</td>\n",
       "    </tr>\n",
       "    <tr>\n",
       "      <th>10744</th>\n",
       "      <td>28 Days</td>\n",
       "      <td>No</td>\n",
       "      <td>NaT</td>\n",
       "      <td>4400000</td>\n",
       "      <td>tt0191754</td>\n",
       "      <td>movie</td>\n",
       "      <td>28 Days</td>\n",
       "      <td>28 Days</td>\n",
       "      <td>0</td>\n",
       "      <td>2000</td>\n",
       "      <td>\\N</td>\n",
       "      <td>103</td>\n",
       "      <td>Comedy,Drama</td>\n",
       "      <td>Comedy</td>\n",
       "      <td>Drama</td>\n",
       "      <td>None</td>\n",
       "    </tr>\n",
       "    <tr>\n",
       "      <th>11453</th>\n",
       "      <td>The Five-Year Engagement</td>\n",
       "      <td>No</td>\n",
       "      <td>NaT</td>\n",
       "      <td>4100000</td>\n",
       "      <td>tt1195478</td>\n",
       "      <td>movie</td>\n",
       "      <td>The Five-Year Engagement</td>\n",
       "      <td>The Five-Year Engagement</td>\n",
       "      <td>0</td>\n",
       "      <td>2012</td>\n",
       "      <td>\\N</td>\n",
       "      <td>124</td>\n",
       "      <td>Comedy,Drama,Romance</td>\n",
       "      <td>Comedy</td>\n",
       "      <td>Drama</td>\n",
       "      <td>Romance</td>\n",
       "    </tr>\n",
       "    <tr>\n",
       "      <th>11590</th>\n",
       "      <td>The Edge of Seventeen</td>\n",
       "      <td>No</td>\n",
       "      <td>NaT</td>\n",
       "      <td>4000000</td>\n",
       "      <td>tt1878870</td>\n",
       "      <td>movie</td>\n",
       "      <td>The Edge of Seventeen</td>\n",
       "      <td>The Edge of Seventeen</td>\n",
       "      <td>0</td>\n",
       "      <td>2016</td>\n",
       "      <td>\\N</td>\n",
       "      <td>104</td>\n",
       "      <td>Comedy,Drama</td>\n",
       "      <td>Comedy</td>\n",
       "      <td>Drama</td>\n",
       "      <td>None</td>\n",
       "    </tr>\n",
       "    <tr>\n",
       "      <th>11739</th>\n",
       "      <td>It's Complicated</td>\n",
       "      <td>No</td>\n",
       "      <td>NaT</td>\n",
       "      <td>3900000</td>\n",
       "      <td>tt1230414</td>\n",
       "      <td>movie</td>\n",
       "      <td>It's Complicated</td>\n",
       "      <td>It's Complicated</td>\n",
       "      <td>0</td>\n",
       "      <td>2009</td>\n",
       "      <td>\\N</td>\n",
       "      <td>121</td>\n",
       "      <td>Comedy,Drama,Romance</td>\n",
       "      <td>Comedy</td>\n",
       "      <td>Drama</td>\n",
       "      <td>Romance</td>\n",
       "    </tr>\n",
       "    <tr>\n",
       "      <th>11793</th>\n",
       "      <td>It's Complicated</td>\n",
       "      <td>No</td>\n",
       "      <td>NaT</td>\n",
       "      <td>3900000</td>\n",
       "      <td>tt6510258</td>\n",
       "      <td>movie</td>\n",
       "      <td>It's Complicated</td>\n",
       "      <td>It's Complicated</td>\n",
       "      <td>0</td>\n",
       "      <td>2017</td>\n",
       "      <td>\\N</td>\n",
       "      <td>88</td>\n",
       "      <td>Comedy,Drama</td>\n",
       "      <td>Comedy</td>\n",
       "      <td>Drama</td>\n",
       "      <td>None</td>\n",
       "    </tr>\n",
       "    <tr>\n",
       "      <th>12379</th>\n",
       "      <td>Divergent</td>\n",
       "      <td>No</td>\n",
       "      <td>NaT</td>\n",
       "      <td>3800000</td>\n",
       "      <td>tt16760422</td>\n",
       "      <td>movie</td>\n",
       "      <td>Divergent</td>\n",
       "      <td>Divergent</td>\n",
       "      <td>0</td>\n",
       "      <td>2021</td>\n",
       "      <td>\\N</td>\n",
       "      <td>\\N</td>\n",
       "      <td>Comedy,Drama</td>\n",
       "      <td>Comedy</td>\n",
       "      <td>Drama</td>\n",
       "      <td>None</td>\n",
       "    </tr>\n",
       "    <tr>\n",
       "      <th>12525</th>\n",
       "      <td>The Cable Guy</td>\n",
       "      <td>No</td>\n",
       "      <td>NaT</td>\n",
       "      <td>3800000</td>\n",
       "      <td>tt0115798</td>\n",
       "      <td>movie</td>\n",
       "      <td>The Cable Guy</td>\n",
       "      <td>The Cable Guy</td>\n",
       "      <td>0</td>\n",
       "      <td>1996</td>\n",
       "      <td>\\N</td>\n",
       "      <td>96</td>\n",
       "      <td>Comedy,Drama,Thriller</td>\n",
       "      <td>Comedy</td>\n",
       "      <td>Drama</td>\n",
       "      <td>Thriller</td>\n",
       "    </tr>\n",
       "    <tr>\n",
       "      <th>12574</th>\n",
       "      <td>6 Days</td>\n",
       "      <td>No</td>\n",
       "      <td>2017-11-03</td>\n",
       "      <td>3700000</td>\n",
       "      <td>tt1377259</td>\n",
       "      <td>movie</td>\n",
       "      <td>6 Days</td>\n",
       "      <td>6 Days</td>\n",
       "      <td>0</td>\n",
       "      <td>2009</td>\n",
       "      <td>\\N</td>\n",
       "      <td>87</td>\n",
       "      <td>Comedy,Drama</td>\n",
       "      <td>Comedy</td>\n",
       "      <td>Drama</td>\n",
       "      <td>None</td>\n",
       "    </tr>\n",
       "    <tr>\n",
       "      <th>12589</th>\n",
       "      <td>Bad Words</td>\n",
       "      <td>No</td>\n",
       "      <td>NaT</td>\n",
       "      <td>3700000</td>\n",
       "      <td>tt2170299</td>\n",
       "      <td>movie</td>\n",
       "      <td>Bad Words</td>\n",
       "      <td>Bad Words</td>\n",
       "      <td>0</td>\n",
       "      <td>2013</td>\n",
       "      <td>\\N</td>\n",
       "      <td>89</td>\n",
       "      <td>Comedy,Drama</td>\n",
       "      <td>Comedy</td>\n",
       "      <td>Drama</td>\n",
       "      <td>None</td>\n",
       "    </tr>\n",
       "    <tr>\n",
       "      <th>12782</th>\n",
       "      <td>You Will Meet a Tall Dark Stranger</td>\n",
       "      <td>No</td>\n",
       "      <td>NaT</td>\n",
       "      <td>3700000</td>\n",
       "      <td>tt1182350</td>\n",
       "      <td>movie</td>\n",
       "      <td>You Will Meet a Tall Dark Stranger</td>\n",
       "      <td>You Will Meet a Tall Dark Stranger</td>\n",
       "      <td>0</td>\n",
       "      <td>2010</td>\n",
       "      <td>\\N</td>\n",
       "      <td>98</td>\n",
       "      <td>Comedy,Drama,Romance</td>\n",
       "      <td>Comedy</td>\n",
       "      <td>Drama</td>\n",
       "      <td>Romance</td>\n",
       "    </tr>\n",
       "    <tr>\n",
       "      <th>12827</th>\n",
       "      <td>Half Brothers</td>\n",
       "      <td>No</td>\n",
       "      <td>NaT</td>\n",
       "      <td>3600000</td>\n",
       "      <td>tt10515926</td>\n",
       "      <td>movie</td>\n",
       "      <td>Half Brothers</td>\n",
       "      <td>Half Brothers</td>\n",
       "      <td>0</td>\n",
       "      <td>2020</td>\n",
       "      <td>\\N</td>\n",
       "      <td>96</td>\n",
       "      <td>Comedy,Drama</td>\n",
       "      <td>Comedy</td>\n",
       "      <td>Drama</td>\n",
       "      <td>None</td>\n",
       "    </tr>\n",
       "    <tr>\n",
       "      <th>12848</th>\n",
       "      <td>He's Just Not That Into You</td>\n",
       "      <td>No</td>\n",
       "      <td>NaT</td>\n",
       "      <td>3600000</td>\n",
       "      <td>tt1001508</td>\n",
       "      <td>movie</td>\n",
       "      <td>He's Just Not That Into You</td>\n",
       "      <td>He's Just Not That Into You</td>\n",
       "      <td>0</td>\n",
       "      <td>2009</td>\n",
       "      <td>\\N</td>\n",
       "      <td>129</td>\n",
       "      <td>Comedy,Drama,Romance</td>\n",
       "      <td>Comedy</td>\n",
       "      <td>Drama</td>\n",
       "      <td>Romance</td>\n",
       "    </tr>\n",
       "    <tr>\n",
       "      <th>12872</th>\n",
       "      <td>Problem Child</td>\n",
       "      <td>No</td>\n",
       "      <td>NaT</td>\n",
       "      <td>3600000</td>\n",
       "      <td>tt0757924</td>\n",
       "      <td>movie</td>\n",
       "      <td>Problem Child</td>\n",
       "      <td>Problem Child</td>\n",
       "      <td>0</td>\n",
       "      <td>1980</td>\n",
       "      <td>\\N</td>\n",
       "      <td>91</td>\n",
       "      <td>Comedy,Drama</td>\n",
       "      <td>Comedy</td>\n",
       "      <td>Drama</td>\n",
       "      <td>None</td>\n",
       "    </tr>\n",
       "    <tr>\n",
       "      <th>13126</th>\n",
       "      <td>El Jeremías</td>\n",
       "      <td>No</td>\n",
       "      <td>NaT</td>\n",
       "      <td>3500000</td>\n",
       "      <td>tt4457020</td>\n",
       "      <td>movie</td>\n",
       "      <td>El Jeremías</td>\n",
       "      <td>El Jeremías</td>\n",
       "      <td>0</td>\n",
       "      <td>2015</td>\n",
       "      <td>\\N</td>\n",
       "      <td>95</td>\n",
       "      <td>Comedy,Drama,Family</td>\n",
       "      <td>Comedy</td>\n",
       "      <td>Drama</td>\n",
       "      <td>Family</td>\n",
       "    </tr>\n",
       "    <tr>\n",
       "      <th>13625</th>\n",
       "      <td>Silver Linings Playbook</td>\n",
       "      <td>No</td>\n",
       "      <td>NaT</td>\n",
       "      <td>3200000</td>\n",
       "      <td>tt1045658</td>\n",
       "      <td>movie</td>\n",
       "      <td>Silver Linings Playbook</td>\n",
       "      <td>Silver Linings Playbook</td>\n",
       "      <td>0</td>\n",
       "      <td>2012</td>\n",
       "      <td>\\N</td>\n",
       "      <td>122</td>\n",
       "      <td>Comedy,Drama,Romance</td>\n",
       "      <td>Comedy</td>\n",
       "      <td>Drama</td>\n",
       "      <td>Romance</td>\n",
       "    </tr>\n",
       "    <tr>\n",
       "      <th>14034</th>\n",
       "      <td>17 Again</td>\n",
       "      <td>No</td>\n",
       "      <td>NaT</td>\n",
       "      <td>3000000</td>\n",
       "      <td>tt0974661</td>\n",
       "      <td>movie</td>\n",
       "      <td>17 Again</td>\n",
       "      <td>17 Again</td>\n",
       "      <td>0</td>\n",
       "      <td>2009</td>\n",
       "      <td>\\N</td>\n",
       "      <td>102</td>\n",
       "      <td>Comedy,Drama,Fantasy</td>\n",
       "      <td>Comedy</td>\n",
       "      <td>Drama</td>\n",
       "      <td>Fantasy</td>\n",
       "    </tr>\n",
       "  </tbody>\n",
       "</table>\n",
       "</div>"
      ],
      "text/plain": [
       "                                    Title Available Globally? Release Date  \\\n",
       "500                     A Man Called Otto                  No          NaT   \n",
       "1268                            I See You                  No   2020-07-09   \n",
       "2555            This Is Where I Leave You                  No          NaT   \n",
       "2933                       Instant Family                  No          NaT   \n",
       "3103                                Polar                  No   2019-01-25   \n",
       "3240                             Devotion                  No   2023-01-20   \n",
       "3637                    Maid in Manhattan                  No          NaT   \n",
       "3740                          The Dilemma                  No          NaT   \n",
       "4179                           This Is 40                  No          NaT   \n",
       "4201                               Easy A                  No          NaT   \n",
       "4659           Diary of a Mad Black Woman                  No          NaT   \n",
       "4848                         Gatta Kusthi                  No          NaT   \n",
       "5056                      Forever My Girl                  No          NaT   \n",
       "5119                              Stepmom                  No          NaT   \n",
       "5237                       Magic Mike XXL                  No          NaT   \n",
       "5915                   Love & Other Drugs                  No          NaT   \n",
       "5940                             Dumplin'                  No   2018-12-07   \n",
       "6115                                Burnt                  No          NaT   \n",
       "6121                                Burnt                  No          NaT   \n",
       "6220       Barbershop 2: Back in Business                  No          NaT   \n",
       "6707                     Just Like Heaven                  No          NaT   \n",
       "6912                         Notting Hill                  No          NaT   \n",
       "7190                        Jerry Maguire                  No          NaT   \n",
       "7510                      P.S. I Love You                  No          NaT   \n",
       "7687                            Spanglish                  No          NaT   \n",
       "8716                      How Do You Know                  No          NaT   \n",
       "9116                 The Best Man Holiday                  No          NaT   \n",
       "9378                   The Breakfast Club                  No          NaT   \n",
       "9714                 Sleepless in Seattle                  No          NaT   \n",
       "10173                Crazy, Stupid, Love.                  No          NaT   \n",
       "10245                          Home Again                  No   2018-01-12   \n",
       "10356                        Inseparables                  No          NaT   \n",
       "10603                   Bhool Bhulaiyaa 2                  No          NaT   \n",
       "10670                           Labor Day                  No          NaT   \n",
       "10744                             28 Days                  No          NaT   \n",
       "11453            The Five-Year Engagement                  No          NaT   \n",
       "11590               The Edge of Seventeen                  No          NaT   \n",
       "11739                    It's Complicated                  No          NaT   \n",
       "11793                    It's Complicated                  No          NaT   \n",
       "12379                           Divergent                  No          NaT   \n",
       "12525                       The Cable Guy                  No          NaT   \n",
       "12574                              6 Days                  No   2017-11-03   \n",
       "12589                           Bad Words                  No          NaT   \n",
       "12782  You Will Meet a Tall Dark Stranger                  No          NaT   \n",
       "12827                       Half Brothers                  No          NaT   \n",
       "12848         He's Just Not That Into You                  No          NaT   \n",
       "12872                       Problem Child                  No          NaT   \n",
       "13126                         El Jeremías                  No          NaT   \n",
       "13625             Silver Linings Playbook                  No          NaT   \n",
       "14034                            17 Again                  No          NaT   \n",
       "\n",
       "       Hours Viewed      tconst titleType                        primaryTitle  \\\n",
       "500        61300000   tt7405458     movie                   A Man Called Otto   \n",
       "1268       30000000   tt0857381     movie                           I See You   \n",
       "2555       18600000   tt1371150     movie           This Is Where I Leave You   \n",
       "2933       16500000   tt7401588     movie                      Instant Family   \n",
       "3103       15700000   tt6032076     movie                               Polar   \n",
       "3240       15100000   tt0021798     movie                            Devotion   \n",
       "3637       14100000   tt0252076     movie                   Maid in Manhattan   \n",
       "3740       13700000   tt1578275     movie                         The Dilemma   \n",
       "4179       12500000   tt1758830     movie                          This Is 40   \n",
       "4201       12400000   tt1282140     movie                              Easy A   \n",
       "4659       11500000   tt0422093     movie          Diary of a Mad Black Woman   \n",
       "4848       11200000  tt21617996     movie                        Gatta Kusthi   \n",
       "5056       10700000   tt4103724     movie                     Forever My Girl   \n",
       "5119       10600000   tt0120686     movie                             Stepmom   \n",
       "5237       10400000   tt2268016     movie                      Magic Mike XXL   \n",
       "5915        9600000   tt0758752     movie                  Love & Other Drugs   \n",
       "5940        9500000   tt4878482     movie                            Dumplin'   \n",
       "6115        9100000   tt2503944     movie                               Burnt   \n",
       "6121        9100000   tt4607118     movie                               Burnt   \n",
       "6220        8900000   tt0337579     movie      Barbershop 2: Back in Business   \n",
       "6707        8500000   tt0425123     movie                    Just Like Heaven   \n",
       "6912        8100000   tt0125439     movie                        Notting Hill   \n",
       "7190        7700000   tt0116695     movie                       Jerry Maguire   \n",
       "7510        7300000   tt0431308     movie                     P.S. I Love You   \n",
       "7687        7100000   tt0371246     movie                           Spanglish   \n",
       "8716        6000000   tt1341188     movie                     How Do You Know   \n",
       "9116        5700000   tt2083355     movie                The Best Man Holiday   \n",
       "9378        5500000   tt0088847     movie                  The Breakfast Club   \n",
       "9714        5200000   tt0108160     movie                Sleepless in Seattle   \n",
       "10173       4800000   tt1570728     movie                Crazy, Stupid, Love.   \n",
       "10245       4800000   tt5719700     movie                          Home Again   \n",
       "10356       4700000   tt5680678     movie                        Inseparables   \n",
       "10603       4500000   tt6455162     movie                   Bhool Bhulaiyaa 2   \n",
       "10670       4500000   tt0464077     movie                           Labor Day   \n",
       "10744       4400000   tt0191754     movie                             28 Days   \n",
       "11453       4100000   tt1195478     movie            The Five-Year Engagement   \n",
       "11590       4000000   tt1878870     movie               The Edge of Seventeen   \n",
       "11739       3900000   tt1230414     movie                    It's Complicated   \n",
       "11793       3900000   tt6510258     movie                    It's Complicated   \n",
       "12379       3800000  tt16760422     movie                           Divergent   \n",
       "12525       3800000   tt0115798     movie                       The Cable Guy   \n",
       "12574       3700000   tt1377259     movie                              6 Days   \n",
       "12589       3700000   tt2170299     movie                           Bad Words   \n",
       "12782       3700000   tt1182350     movie  You Will Meet a Tall Dark Stranger   \n",
       "12827       3600000  tt10515926     movie                       Half Brothers   \n",
       "12848       3600000   tt1001508     movie         He's Just Not That Into You   \n",
       "12872       3600000   tt0757924     movie                       Problem Child   \n",
       "13126       3500000   tt4457020     movie                         El Jeremías   \n",
       "13625       3200000   tt1045658     movie             Silver Linings Playbook   \n",
       "14034       3000000   tt0974661     movie                            17 Again   \n",
       "\n",
       "                            originalTitle isAdult startYear endYear  \\\n",
       "500                     A Man Called Otto       0      2022      \\N   \n",
       "1268                            I See You       0      2006      \\N   \n",
       "2555            This Is Where I Leave You       0      2014      \\N   \n",
       "2933                       Instant Family       0      2018      \\N   \n",
       "3103                                Polar       0      2019      \\N   \n",
       "3240                             Devotion       0      1931      \\N   \n",
       "3637                    Maid in Manhattan       0      2002      \\N   \n",
       "3740                          The Dilemma       0      2011      \\N   \n",
       "4179                           This Is 40       0      2012      \\N   \n",
       "4201                               Easy A       0      2010      \\N   \n",
       "4659           Diary of a Mad Black Woman       0      2005      \\N   \n",
       "4848                         Gatta Kusthi       0      2022      \\N   \n",
       "5056                      Forever My Girl       0      2018      \\N   \n",
       "5119                              Stepmom       0      1998      \\N   \n",
       "5237                       Magic Mike XXL       0      2015      \\N   \n",
       "5915                   Love & Other Drugs       0      2010      \\N   \n",
       "5940                             Dumplin'       0      2018      \\N   \n",
       "6115                                Burnt       0      2015      \\N   \n",
       "6121                                Burnt       0      2014      \\N   \n",
       "6220       Barbershop 2: Back in Business       0      2004      \\N   \n",
       "6707                     Just Like Heaven       0      2005      \\N   \n",
       "6912                         Notting Hill       0      1999      \\N   \n",
       "7190                        Jerry Maguire       0      1996      \\N   \n",
       "7510                      P.S. I Love You       0      2007      \\N   \n",
       "7687                            Spanglish       0      2004      \\N   \n",
       "8716                      How Do You Know       0      2010      \\N   \n",
       "9116                 The Best Man Holiday       0      2013      \\N   \n",
       "9378                   The Breakfast Club       0      1985      \\N   \n",
       "9714                 Sleepless in Seattle       0      1993      \\N   \n",
       "10173                Crazy, Stupid, Love.       0      2011      \\N   \n",
       "10245                          Home Again       0      2017      \\N   \n",
       "10356                        Inseparables       0      2016      \\N   \n",
       "10603                   Bhool Bhulaiyaa 2       0      2022      \\N   \n",
       "10670                           Labor Day       0      2009      \\N   \n",
       "10744                             28 Days       0      2000      \\N   \n",
       "11453            The Five-Year Engagement       0      2012      \\N   \n",
       "11590               The Edge of Seventeen       0      2016      \\N   \n",
       "11739                    It's Complicated       0      2009      \\N   \n",
       "11793                    It's Complicated       0      2017      \\N   \n",
       "12379                           Divergent       0      2021      \\N   \n",
       "12525                       The Cable Guy       0      1996      \\N   \n",
       "12574                              6 Days       0      2009      \\N   \n",
       "12589                           Bad Words       0      2013      \\N   \n",
       "12782  You Will Meet a Tall Dark Stranger       0      2010      \\N   \n",
       "12827                       Half Brothers       0      2020      \\N   \n",
       "12848         He's Just Not That Into You       0      2009      \\N   \n",
       "12872                       Problem Child       0      1980      \\N   \n",
       "13126                         El Jeremías       0      2015      \\N   \n",
       "13625             Silver Linings Playbook       0      2012      \\N   \n",
       "14034                            17 Again       0      2009      \\N   \n",
       "\n",
       "      runtimeMinutes                 genres genre_0 genre_1   genre_2  \n",
       "500              126           Comedy,Drama  Comedy   Drama      None  \n",
       "1268             122   Comedy,Drama,Fantasy  Comedy   Drama   Fantasy  \n",
       "2555             103           Comedy,Drama  Comedy   Drama      None  \n",
       "2933             118           Comedy,Drama  Comedy   Drama      None  \n",
       "3103              81           Comedy,Drama  Comedy   Drama      None  \n",
       "3240              81   Comedy,Drama,Romance  Comedy   Drama   Romance  \n",
       "3637             105   Comedy,Drama,Romance  Comedy   Drama   Romance  \n",
       "3740             111           Comedy,Drama  Comedy   Drama      None  \n",
       "4179             134   Comedy,Drama,Romance  Comedy   Drama   Romance  \n",
       "4201              92   Comedy,Drama,Romance  Comedy   Drama   Romance  \n",
       "4659             116   Comedy,Drama,Romance  Comedy   Drama   Romance  \n",
       "4848             144   Comedy,Drama,Romance  Comedy   Drama   Romance  \n",
       "5056             108     Comedy,Drama,Music  Comedy   Drama     Music  \n",
       "5119             125           Comedy,Drama  Comedy   Drama      None  \n",
       "5237             115     Comedy,Drama,Music  Comedy   Drama     Music  \n",
       "5915             112   Comedy,Drama,Romance  Comedy   Drama   Romance  \n",
       "5940             110           Comedy,Drama  Comedy   Drama      None  \n",
       "6115             101           Comedy,Drama  Comedy   Drama      None  \n",
       "6121              \\N           Comedy,Drama  Comedy   Drama      None  \n",
       "6220             106           Comedy,Drama  Comedy   Drama      None  \n",
       "6707              95   Comedy,Drama,Fantasy  Comedy   Drama   Fantasy  \n",
       "6912             124   Comedy,Drama,Romance  Comedy   Drama   Romance  \n",
       "7190             139   Comedy,Drama,Romance  Comedy   Drama   Romance  \n",
       "7510             126   Comedy,Drama,Romance  Comedy   Drama   Romance  \n",
       "7687             131   Comedy,Drama,Romance  Comedy   Drama   Romance  \n",
       "8716             121   Comedy,Drama,Romance  Comedy   Drama   Romance  \n",
       "9116             123           Comedy,Drama  Comedy   Drama      None  \n",
       "9378              97           Comedy,Drama  Comedy   Drama      None  \n",
       "9714             105   Comedy,Drama,Romance  Comedy   Drama   Romance  \n",
       "10173            118   Comedy,Drama,Romance  Comedy   Drama   Romance  \n",
       "10245             97   Comedy,Drama,Romance  Comedy   Drama   Romance  \n",
       "10356            108           Comedy,Drama  Comedy   Drama      None  \n",
       "10603            143    Comedy,Drama,Horror  Comedy   Drama    Horror  \n",
       "10670             58   Comedy,Drama,Romance  Comedy   Drama   Romance  \n",
       "10744            103           Comedy,Drama  Comedy   Drama      None  \n",
       "11453            124   Comedy,Drama,Romance  Comedy   Drama   Romance  \n",
       "11590            104           Comedy,Drama  Comedy   Drama      None  \n",
       "11739            121   Comedy,Drama,Romance  Comedy   Drama   Romance  \n",
       "11793             88           Comedy,Drama  Comedy   Drama      None  \n",
       "12379             \\N           Comedy,Drama  Comedy   Drama      None  \n",
       "12525             96  Comedy,Drama,Thriller  Comedy   Drama  Thriller  \n",
       "12574             87           Comedy,Drama  Comedy   Drama      None  \n",
       "12589             89           Comedy,Drama  Comedy   Drama      None  \n",
       "12782             98   Comedy,Drama,Romance  Comedy   Drama   Romance  \n",
       "12827             96           Comedy,Drama  Comedy   Drama      None  \n",
       "12848            129   Comedy,Drama,Romance  Comedy   Drama   Romance  \n",
       "12872             91           Comedy,Drama  Comedy   Drama      None  \n",
       "13126             95    Comedy,Drama,Family  Comedy   Drama    Family  \n",
       "13625            122   Comedy,Drama,Romance  Comedy   Drama   Romance  \n",
       "14034            102   Comedy,Drama,Fantasy  Comedy   Drama   Fantasy  "
      ]
     },
     "execution_count": 35,
     "metadata": {},
     "output_type": "execute_result"
    }
   ],
   "source": [
    "netflix_imdb.loc[\n",
    "    (netflix_imdb['titleType'] == 'movie') &\n",
    "    (netflix_imdb['Available Globally?'] == 'No') &\n",
    "    (netflix_imdb['genre_0'] == 'Comedy') &\n",
    "    (netflix_imdb['genre_1'] == 'Drama')\n",
    "    ].head(50)"
   ]
  },
  {
   "cell_type": "code",
   "execution_count": null,
   "metadata": {},
   "outputs": [],
   "source": []
  }
 ],
 "metadata": {
  "kernelspec": {
   "display_name": "filmPredictions",
   "language": "python",
   "name": "python3"
  },
  "language_info": {
   "codemirror_mode": {
    "name": "ipython",
    "version": 3
   },
   "file_extension": ".py",
   "mimetype": "text/x-python",
   "name": "python",
   "nbconvert_exporter": "python",
   "pygments_lexer": "ipython3",
   "version": "3.9.18"
  }
 },
 "nbformat": 4,
 "nbformat_minor": 2
}
