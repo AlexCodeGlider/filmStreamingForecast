{
 "cells": [
  {
   "cell_type": "code",
   "execution_count": 14,
   "metadata": {},
   "outputs": [
    {
     "data": {
      "text/plain": [
       "['airing',\n",
       " 'akas',\n",
       " 'alternate versions',\n",
       " 'awards',\n",
       " 'connections',\n",
       " 'crazy credits',\n",
       " 'critic reviews',\n",
       " 'episodes',\n",
       " 'external reviews',\n",
       " 'external sites',\n",
       " 'faqs',\n",
       " 'full credits',\n",
       " 'goofs',\n",
       " 'keywords',\n",
       " 'list',\n",
       " 'locations',\n",
       " 'main',\n",
       " 'misc sites',\n",
       " 'news',\n",
       " 'official sites',\n",
       " 'parents guide',\n",
       " 'photo sites',\n",
       " 'plot',\n",
       " 'quotes',\n",
       " 'recommendations',\n",
       " 'release dates',\n",
       " 'release info',\n",
       " 'reviews',\n",
       " 'sound clips',\n",
       " 'soundtrack',\n",
       " 'synopsis',\n",
       " 'taglines',\n",
       " 'technical',\n",
       " 'trivia',\n",
       " 'tv schedule',\n",
       " 'video clips',\n",
       " 'vote details']"
      ]
     },
     "execution_count": 14,
     "metadata": {},
     "output_type": "execute_result"
    }
   ],
   "source": [
    "from imdb import Cinemagoer\n",
    "import pandas as pd\n",
    "\n",
    "# create an instance of the Cinemagoer class\n",
    "ia = Cinemagoer()\n",
    "ia.get_movie_infoset()"
   ]
  },
  {
   "cell_type": "code",
   "execution_count": 10,
   "metadata": {},
   "outputs": [
    {
     "data": {
      "text/html": [
       "<div>\n",
       "<style scoped>\n",
       "    .dataframe tbody tr th:only-of-type {\n",
       "        vertical-align: middle;\n",
       "    }\n",
       "\n",
       "    .dataframe tbody tr th {\n",
       "        vertical-align: top;\n",
       "    }\n",
       "\n",
       "    .dataframe thead th {\n",
       "        text-align: right;\n",
       "    }\n",
       "</style>\n",
       "<table border=\"1\" class=\"dataframe\">\n",
       "  <thead>\n",
       "    <tr style=\"text-align: right;\">\n",
       "      <th></th>\n",
       "      <th>Title</th>\n",
       "      <th>Available Globally?</th>\n",
       "      <th>Release Date</th>\n",
       "      <th>Hours Viewed</th>\n",
       "    </tr>\n",
       "  </thead>\n",
       "  <tbody>\n",
       "    <tr>\n",
       "      <th>0</th>\n",
       "      <td>The Night Agent: Season 1</td>\n",
       "      <td>Yes</td>\n",
       "      <td>2023-03-23</td>\n",
       "      <td>812100000</td>\n",
       "    </tr>\n",
       "    <tr>\n",
       "      <th>1</th>\n",
       "      <td>Ginny &amp; Georgia: Season 2</td>\n",
       "      <td>Yes</td>\n",
       "      <td>2023-01-05</td>\n",
       "      <td>665100000</td>\n",
       "    </tr>\n",
       "    <tr>\n",
       "      <th>2</th>\n",
       "      <td>The Glory: Season 1 // 더 글로리: 시즌 1</td>\n",
       "      <td>Yes</td>\n",
       "      <td>2022-12-30</td>\n",
       "      <td>622800000</td>\n",
       "    </tr>\n",
       "    <tr>\n",
       "      <th>3</th>\n",
       "      <td>Wednesday: Season 1</td>\n",
       "      <td>Yes</td>\n",
       "      <td>2022-11-23</td>\n",
       "      <td>507700000</td>\n",
       "    </tr>\n",
       "    <tr>\n",
       "      <th>4</th>\n",
       "      <td>Queen Charlotte: A Bridgerton Story</td>\n",
       "      <td>Yes</td>\n",
       "      <td>2023-05-04</td>\n",
       "      <td>503000000</td>\n",
       "    </tr>\n",
       "  </tbody>\n",
       "</table>\n",
       "</div>"
      ],
      "text/plain": [
       "                                 Title Available Globally? Release Date  \\\n",
       "0            The Night Agent: Season 1                 Yes   2023-03-23   \n",
       "1            Ginny & Georgia: Season 2                 Yes   2023-01-05   \n",
       "2   The Glory: Season 1 // 더 글로리: 시즌 1                 Yes   2022-12-30   \n",
       "3                  Wednesday: Season 1                 Yes   2022-11-23   \n",
       "4  Queen Charlotte: A Bridgerton Story                 Yes   2023-05-04   \n",
       "\n",
       "   Hours Viewed  \n",
       "0     812100000  \n",
       "1     665100000  \n",
       "2     622800000  \n",
       "3     507700000  \n",
       "4     503000000  "
      ]
     },
     "execution_count": 10,
     "metadata": {},
     "output_type": "execute_result"
    }
   ],
   "source": [
    "# Read 'data/What_We_Watched_A_Netflix_Engagement_Report_2023Jan-Jun.xlsx' into a DataFrame: netflix\n",
    "netflix = pd.read_excel('data/What_We_Watched_A_Netflix_Engagement_Report_2023Jan-Jun.xlsx', header=5, usecols='B:E')\n",
    "netflix.head()"
   ]
  },
  {
   "cell_type": "code",
   "execution_count": 11,
   "metadata": {},
   "outputs": [],
   "source": [
    "# Create a list of titles from the netflix DataFrame: titles\n",
    "titles = netflix['Title'].tolist()"
   ]
  },
  {
   "cell_type": "code",
   "execution_count": 17,
   "metadata": {},
   "outputs": [],
   "source": [
    "movie_ids = []\n",
    "\n",
    "for title in titles[:10]:\n",
    "    movie_search = ia.search_movie(title)[0]\n",
    "    movie_id = movie_search.movieID\n",
    "    movie_ids += [movie_id]"
   ]
  },
  {
   "cell_type": "code",
   "execution_count": 13,
   "metadata": {},
   "outputs": [
    {
     "data": {
      "text/plain": [
       "[<Movie id:13918776[http] title:_\"The Night Agent\" (2023)_>,\n",
       " <Movie id:10813940[http] title:_\"Ginny & Georgia\" (2021)_>,\n",
       " <Movie id:29209851[http] title:_Do You Leak the Glory? (Season 3, EP. 26) (2021)_>,\n",
       " <Movie id:26465870[http] title:_EP 63: Wednesday Season 1 (2023)_>,\n",
       " <Movie id:14661396[http] title:_\"Queen Charlotte: A Bridgerton Story\" (2023) (mini)_>,\n",
       " <Movie id:15352974[http] title:_Seal Team: Season 4 - If You Build It (2021) (V)_>,\n",
       " <Movie id:1704637[http] title:_\"La Reina del Sur\" (2011)_>,\n",
       " <Movie id:28722164[http] title:_Outer Banks (Season 3) (2023)_>,\n",
       " <Movie id:10813940[http] title:_\"Ginny & Georgia\" (2021)_>,\n",
       " <Movie id:28056797[http] title:_SISO, War of the Dead, and Ep 1 Season 1 FUBAR (2023)_>]"
      ]
     },
     "execution_count": 13,
     "metadata": {},
     "output_type": "execute_result"
    }
   ],
   "source": [
    "movies"
   ]
  },
  {
   "cell_type": "code",
   "execution_count": 4,
   "metadata": {},
   "outputs": [
    {
     "name": "stdout",
     "output_type": "stream",
     "text": [
      "title : The Untouchables\n",
      "\n",
      "year : 1987\n",
      "\n",
      "kind : movie\n",
      "\n",
      "cover url : https://m.media-amazon.com/images/M/MV5BYTVjYWJmMWQtYWU4Ni00MWY3LWI2YmMtNTI5MDE0MWVmMmEzL2ltYWdlXkEyXkFqcGdeQXVyMTQxNzMzNDI@._V1_QL75_UX50_CR0,2,50,74_.jpg\n",
      "\n",
      "canonical title : Untouchables, The\n",
      "\n",
      "long imdb title : The Untouchables (1987)\n",
      "\n",
      "long imdb canonical title : Untouchables, The (1987)\n",
      "\n",
      "smart canonical title : Untouchables, The\n",
      "\n",
      "smart long imdb canonical title : Untouchables, The (1987)\n",
      "\n",
      "full-size cover url : https://m.media-amazon.com/images/M/MV5BYTVjYWJmMWQtYWU4Ni00MWY3LWI2YmMtNTI5MDE0MWVmMmEzL2ltYWdlXkEyXkFqcGdeQXVyMTQxNzMzNDI@.jpg\n",
      "\n"
     ]
    }
   ],
   "source": [
    "for key in movie.keys():\n",
    "    print(key, ':', movie[key])\n",
    "    print()"
   ]
  },
  {
   "cell_type": "code",
   "execution_count": null,
   "metadata": {},
   "outputs": [],
   "source": []
  }
 ],
 "metadata": {
  "kernelspec": {
   "display_name": ".venv",
   "language": "python",
   "name": "python3"
  },
  "language_info": {
   "codemirror_mode": {
    "name": "ipython",
    "version": 3
   },
   "file_extension": ".py",
   "mimetype": "text/x-python",
   "name": "python",
   "nbconvert_exporter": "python",
   "pygments_lexer": "ipython3",
   "version": "3.9.18"
  }
 },
 "nbformat": 4,
 "nbformat_minor": 2
}
