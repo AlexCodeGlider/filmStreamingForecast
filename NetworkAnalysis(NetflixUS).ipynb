{
 "cells": [
  {
   "cell_type": "markdown",
   "metadata": {},
   "source": [
    "# Network Analysis - “Who are the key players for Netflix?”"
   ]
  },
  {
   "cell_type": "markdown",
   "metadata": {},
   "source": [
    "**Introduction**: In 2007, a decade after going into the film and television distribution business as a DVD rental by mail company, Netflix made a bold move that would change the way people watch television for the times to come. They launched the first commercially successful subscription video-on-demand service, forever changing the entertainment distribution and consumption paradigm. For the first time, the audience could now watch what they wanted, when they wanted, so long as the content they were looking for was available on the service. Today Netflix has over 214 million subscribers worldwide, including 74 million in the United States. As a data-driven company, they are known to perform extensive analysis on the viewership data they collect from their users. These analyses inform much of the decision-making processes within the company, including what content to license, commission, or produce. Questions such as what content to greenlight, who is a better actor for a given role, and who would be a good director for a given film are all answered with data within the organization. However, as of today, this information is mainly kept close to their chest. Identifying the key players in the film industry, especially those contributing to Netflix's success, can provide valuable insights into the elements driving the platform's popularity and growth. By understanding the roles and impact of these individuals, Netflix can better strategize content acquisition, creation, and marketing to maintain its competitive edge and satisfy its diverse subscriber base."
   ]
  },
  {
   "cell_type": "markdown",
   "metadata": {},
   "source": [
    "## Libraries"
   ]
  },
  {
   "cell_type": "code",
   "execution_count": null,
   "metadata": {},
   "outputs": [],
   "source": [
    "import pandas as pd\n",
    "from utils import get_country_dfs"
   ]
  },
  {
   "cell_type": "code",
   "execution_count": null,
   "metadata": {},
   "outputs": [],
   "source": [
    "titles = pd.read_pickle('data/titles.pkl')\n",
    "talent = pd.read_pickle('data/talent.pkl')\n",
    "talent = talent.merge(titles[['jw_entity_id', 'original_release_year', 'genre_1']], on='jw_entity_id', how='left')\n",
    "\n",
    "# Create a feature called 'tenure' to measure the number of years between the earliest movie and the latest movie of each talent\n",
    "talent['tenure'] = talent.groupby('person_id')['original_release_year'].transform(lambda x: x.max() - x.min())\n",
    "\n",
    "\n",
    "local_df, local_talent = get_country_dfs('Mexico', df, talent)\n",
    "\n",
    "local_talent.describe()"
   ]
  }
 ],
 "metadata": {
  "kernelspec": {
   "display_name": ".venv",
   "language": "python",
   "name": "python3"
  },
  "language_info": {
   "name": "python",
   "version": "3.9.18"
  }
 },
 "nbformat": 4,
 "nbformat_minor": 2
}
